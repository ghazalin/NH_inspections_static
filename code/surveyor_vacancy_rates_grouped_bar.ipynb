{
 "cells": [
  {
   "cell_type": "code",
   "execution_count": 2,
   "id": "4721efaf-3c9a-4d19-8364-d063dac58771",
   "metadata": {},
   "outputs": [
    {
     "data": {
      "text/plain": [
       "ThemeRegistry.enable('fivethirtyeight')"
      ]
     },
     "execution_count": 2,
     "metadata": {},
     "output_type": "execute_result"
    }
   ],
   "source": [
    "import pandas as pd\n",
    "import altair as alt \n",
    "import numpy as np\n",
    "import datetime as dt\n",
    "from dateutil.relativedelta import relativedelta\n",
    "from datetime import timedelta\n",
    "\n",
    "alt.data_transformers.enable(\"vegafusion\")\n",
    "alt.themes.enable(\"fivethirtyeight\")"
   ]
  },
  {
   "cell_type": "code",
   "execution_count": 3,
   "id": "ba854192-d5c4-4fc7-839b-5899b176e6d1",
   "metadata": {},
   "outputs": [
    {
     "name": "stdout",
     "output_type": "stream",
     "text": [
      "        State state_code 2002_prop_vacancy  2022_prop_vacancy\n",
      "0     Alabama         AL               0.1               0.80\n",
      "1      Alaska         AK              0.22               0.36\n",
      "2     Arizona         AZ              0.24               0.40\n",
      "3    Arkansas         AR               0.2               0.47\n",
      "4  California         CA              0.06               0.14\n"
     ]
    }
   ],
   "source": [
    "surveyor_vacancy = pd.read_csv('/Users/ghazalin/NH_inspections_static/data/state_prop_surveyor_vacancy.csv')\n",
    "print(surveyor_vacancy.head(5))"
   ]
  },
  {
   "cell_type": "code",
   "execution_count": null,
   "id": "b6386746-5b81-4915-a509-268d07564b2a",
   "metadata": {},
   "outputs": [],
   "source": []
  }
 ],
 "metadata": {
  "kernelspec": {
   "display_name": "Python 3 (ipykernel)",
   "language": "python",
   "name": "python3"
  },
  "language_info": {
   "codemirror_mode": {
    "name": "ipython",
    "version": 3
   },
   "file_extension": ".py",
   "mimetype": "text/x-python",
   "name": "python",
   "nbconvert_exporter": "python",
   "pygments_lexer": "ipython3",
   "version": "3.12.7"
  }
 },
 "nbformat": 4,
 "nbformat_minor": 5
}
