{
 "cells": [
  {
   "cell_type": "code",
   "execution_count": null,
   "id": "a1eed680-b6bf-4805-9448-2c4ebc81ced4",
   "metadata": {},
   "outputs": [],
   "source": []
  },
  {
   "cell_type": "code",
   "execution_count": 84,
   "id": "938c9ae0-ed2b-4344-b534-1c64d9bf6f72",
   "metadata": {},
   "outputs": [
    {
     "data": {
      "text/plain": [
       "ThemeRegistry.enable('fivethirtyeight')"
      ]
     },
     "execution_count": 84,
     "metadata": {},
     "output_type": "execute_result"
    }
   ],
   "source": [
    "import pandas as pd\n",
    "import altair as alt \n",
    "import numpy as np\n",
    "import datetime as dt\n",
    "from datetime import timedelta\n",
    "\n",
    "alt.data_transformers.enable(\"vegafusion\")\n",
    "alt.themes.enable(\"fivethirtyeight\")"
   ]
  },
  {
   "cell_type": "code",
   "execution_count": 85,
   "id": "1c7e71fb-abbe-4685-81f8-fd854999a886",
   "metadata": {},
   "outputs": [],
   "source": [
    "# Read in survey df \n",
    "def read_survey_df(): \n",
    "    df = pd.read_csv('/Users/ghazalin/NH_inspections_static/data/NH_SurveyDates_Sep2024.csv')\n",
    "    df = df.rename(columns={'CMS Certification Number (CCN)':'CCN', 'Survey Date': 'survey_date','Type of Survey':'survey_type', 'Survey Cycle':'survey_cycle', 'Processing Date':'process_date'})\n",
    "    return df \n",
    "survey_df = read_survey_df()"
   ]
  },
  {
   "cell_type": "code",
   "execution_count": 86,
   "id": "74a1ebe1-615f-4fb3-8186-2227c768b206",
   "metadata": {},
   "outputs": [
    {
     "name": "stdout",
     "output_type": "stream",
     "text": [
      "      CCN survey_date           survey_type  survey_cycle process_date\n",
      "0  015009  2023-03-02      Health Complaint             2   2024-09-01\n",
      "1  015009  2023-03-02       Health Standard             1   2024-09-01\n",
      "2  015009  2023-02-15  Fire Safety Standard             1   2024-09-01\n",
      "3  015009  2019-08-21  Fire Safety Standard             2   2024-09-01\n",
      "4  015009  2019-08-21       Health Standard             2   2024-09-01\n"
     ]
    }
   ],
   "source": [
    "print(survey_df.head(5))"
   ]
  },
  {
   "cell_type": "code",
   "execution_count": 87,
   "id": "a0787797-e39a-41ee-82f7-a1c704818a93",
   "metadata": {},
   "outputs": [],
   "source": [
    "# Read in provider df \n",
    "def read_provider_df(): \n",
    "    df = pd.read_csv('/Users/ghazalin/NH_inspections_static/data/NH_ProviderInfo_Sep2024.csv', dtype={'ZIP Code':str})\n",
    "    df = df.rename(columns={'CMS Certification Number (CCN)':'CCN','Provider Name':'provider_name','Provider Address':'provider_address','ZIP Code':'zip'})\n",
    "    df = df[['CCN','provider_name','State','zip']]\n",
    "    df['zip'] = df['zip'].astype(str)\n",
    "\n",
    "    return df\n",
    "\n",
    "provider_df = read_provider_df()\n"
   ]
  },
  {
   "cell_type": "code",
   "execution_count": 88,
   "id": "2ebbf323-a363-4f3b-90ed-9d518f746ee7",
   "metadata": {},
   "outputs": [
    {
     "name": "stdout",
     "output_type": "stream",
     "text": [
      "zip\n",
      "5    14817\n",
      "Name: count, dtype: int64\n"
     ]
    }
   ],
   "source": [
    "print(provider_df['zip'].str.len().value_counts())"
   ]
  },
  {
   "cell_type": "code",
   "execution_count": 89,
   "id": "00565504-2514-49c2-9cbf-0481c9a229b6",
   "metadata": {},
   "outputs": [
    {
     "name": "stdout",
     "output_type": "stream",
     "text": [
      "survey_df rows: 161369\n",
      "provider_df rows: 14817\n",
      "survey_provider_df rows: 161369\n",
      "_merge\n",
      "both          161369\n",
      "left_only          0\n",
      "right_only         0\n",
      "Name: count, dtype: int64\n"
     ]
    }
   ],
   "source": [
    "def merge_survey_provider(survey_df, provider_df): \n",
    "    print('survey_df rows: ' + str(survey_df.shape[0]))\n",
    "    print('provider_df rows: ' + str(provider_df.shape[0]))\n",
    "    merge_df = pd.merge(survey_df, provider_df, how='left',on='CCN', indicator=True)\n",
    "    print('survey_provider_df rows: ' + str(merge_df.shape[0]))\n",
    "    print(merge_df['_merge'].value_counts())\n",
    "    return merge_df\n",
    "\n",
    "survey_provider_df = merge_survey_provider(survey_df, provider_df)\n",
    "\n",
    "# CCN found for all providers"
   ]
  },
  {
   "cell_type": "code",
   "execution_count": 90,
   "id": "180168c1-5f49-42f2-883f-4a73bc5dd4ed",
   "metadata": {},
   "outputs": [
    {
     "name": "stdout",
     "output_type": "stream",
     "text": [
      "survey_type\n",
      "Health Complaint     54456\n",
      "Health Standard      44249\n",
      "Infection Control    17878\n",
      "Name: count, dtype: int64\n",
      "116583\n"
     ]
    },
    {
     "data": {
      "text/html": [
       "<div>\n",
       "<style scoped>\n",
       "    .dataframe tbody tr th:only-of-type {\n",
       "        vertical-align: middle;\n",
       "    }\n",
       "\n",
       "    .dataframe tbody tr th {\n",
       "        vertical-align: top;\n",
       "    }\n",
       "\n",
       "    .dataframe thead th {\n",
       "        text-align: right;\n",
       "    }\n",
       "</style>\n",
       "<table border=\"1\" class=\"dataframe\">\n",
       "  <thead>\n",
       "    <tr style=\"text-align: right;\">\n",
       "      <th></th>\n",
       "      <th>CCN</th>\n",
       "      <th>survey_date</th>\n",
       "      <th>survey_type</th>\n",
       "      <th>survey_cycle</th>\n",
       "      <th>process_date</th>\n",
       "      <th>provider_name</th>\n",
       "      <th>State</th>\n",
       "      <th>zip</th>\n",
       "      <th>_merge</th>\n",
       "    </tr>\n",
       "  </thead>\n",
       "  <tbody>\n",
       "    <tr>\n",
       "      <th>0</th>\n",
       "      <td>015009</td>\n",
       "      <td>2023-03-02</td>\n",
       "      <td>Health Complaint</td>\n",
       "      <td>2</td>\n",
       "      <td>2024-09-01</td>\n",
       "      <td>BURNS NURSING HOME, INC.</td>\n",
       "      <td>AL</td>\n",
       "      <td>35653</td>\n",
       "      <td>both</td>\n",
       "    </tr>\n",
       "    <tr>\n",
       "      <th>1</th>\n",
       "      <td>015009</td>\n",
       "      <td>2023-03-02</td>\n",
       "      <td>Health Standard</td>\n",
       "      <td>1</td>\n",
       "      <td>2024-09-01</td>\n",
       "      <td>BURNS NURSING HOME, INC.</td>\n",
       "      <td>AL</td>\n",
       "      <td>35653</td>\n",
       "      <td>both</td>\n",
       "    </tr>\n",
       "    <tr>\n",
       "      <th>4</th>\n",
       "      <td>015009</td>\n",
       "      <td>2019-08-21</td>\n",
       "      <td>Health Standard</td>\n",
       "      <td>2</td>\n",
       "      <td>2024-09-01</td>\n",
       "      <td>BURNS NURSING HOME, INC.</td>\n",
       "      <td>AL</td>\n",
       "      <td>35653</td>\n",
       "      <td>both</td>\n",
       "    </tr>\n",
       "    <tr>\n",
       "      <th>6</th>\n",
       "      <td>015009</td>\n",
       "      <td>2018-08-01</td>\n",
       "      <td>Health Standard</td>\n",
       "      <td>3</td>\n",
       "      <td>2024-09-01</td>\n",
       "      <td>BURNS NURSING HOME, INC.</td>\n",
       "      <td>AL</td>\n",
       "      <td>35653</td>\n",
       "      <td>both</td>\n",
       "    </tr>\n",
       "    <tr>\n",
       "      <th>7</th>\n",
       "      <td>015010</td>\n",
       "      <td>2023-08-30</td>\n",
       "      <td>Infection Control</td>\n",
       "      <td>2</td>\n",
       "      <td>2024-09-01</td>\n",
       "      <td>COOSA VALLEY HEALTHCARE CENTER</td>\n",
       "      <td>AL</td>\n",
       "      <td>35150</td>\n",
       "      <td>both</td>\n",
       "    </tr>\n",
       "    <tr>\n",
       "      <th>...</th>\n",
       "      <td>...</td>\n",
       "      <td>...</td>\n",
       "      <td>...</td>\n",
       "      <td>...</td>\n",
       "      <td>...</td>\n",
       "      <td>...</td>\n",
       "      <td>...</td>\n",
       "      <td>...</td>\n",
       "      <td>...</td>\n",
       "    </tr>\n",
       "    <tr>\n",
       "      <th>161361</th>\n",
       "      <td>745039</td>\n",
       "      <td>2023-06-20</td>\n",
       "      <td>Health Standard</td>\n",
       "      <td>1</td>\n",
       "      <td>2024-09-01</td>\n",
       "      <td>MIDTOWNE MEADOWS HEALTH AND REHAB</td>\n",
       "      <td>TX</td>\n",
       "      <td>76065</td>\n",
       "      <td>both</td>\n",
       "    </tr>\n",
       "    <tr>\n",
       "      <th>161362</th>\n",
       "      <td>745040</td>\n",
       "      <td>2023-10-13</td>\n",
       "      <td>Health Complaint</td>\n",
       "      <td>1</td>\n",
       "      <td>2024-09-01</td>\n",
       "      <td>THE SARAH ROBERTS FRENCH HOME</td>\n",
       "      <td>TX</td>\n",
       "      <td>78201</td>\n",
       "      <td>both</td>\n",
       "    </tr>\n",
       "    <tr>\n",
       "      <th>161363</th>\n",
       "      <td>745040</td>\n",
       "      <td>2023-10-13</td>\n",
       "      <td>Health Standard</td>\n",
       "      <td>1</td>\n",
       "      <td>2024-09-01</td>\n",
       "      <td>THE SARAH ROBERTS FRENCH HOME</td>\n",
       "      <td>TX</td>\n",
       "      <td>78201</td>\n",
       "      <td>both</td>\n",
       "    </tr>\n",
       "    <tr>\n",
       "      <th>161365</th>\n",
       "      <td>745040</td>\n",
       "      <td>2022-08-05</td>\n",
       "      <td>Health Standard</td>\n",
       "      <td>2</td>\n",
       "      <td>2024-09-01</td>\n",
       "      <td>THE SARAH ROBERTS FRENCH HOME</td>\n",
       "      <td>TX</td>\n",
       "      <td>78201</td>\n",
       "      <td>both</td>\n",
       "    </tr>\n",
       "    <tr>\n",
       "      <th>161368</th>\n",
       "      <td>745049</td>\n",
       "      <td>2024-06-21</td>\n",
       "      <td>Health Standard</td>\n",
       "      <td>1</td>\n",
       "      <td>2024-09-01</td>\n",
       "      <td>LAS ALTURAS NURSING &amp; TRANSITIONAL CARE BROWNS...</td>\n",
       "      <td>TX</td>\n",
       "      <td>78521</td>\n",
       "      <td>both</td>\n",
       "    </tr>\n",
       "  </tbody>\n",
       "</table>\n",
       "<p>116583 rows × 9 columns</p>\n",
       "</div>"
      ],
      "text/plain": [
       "           CCN survey_date        survey_type  survey_cycle process_date  \\\n",
       "0       015009  2023-03-02   Health Complaint             2   2024-09-01   \n",
       "1       015009  2023-03-02    Health Standard             1   2024-09-01   \n",
       "4       015009  2019-08-21    Health Standard             2   2024-09-01   \n",
       "6       015009  2018-08-01    Health Standard             3   2024-09-01   \n",
       "7       015010  2023-08-30  Infection Control             2   2024-09-01   \n",
       "...        ...         ...                ...           ...          ...   \n",
       "161361  745039  2023-06-20    Health Standard             1   2024-09-01   \n",
       "161362  745040  2023-10-13   Health Complaint             1   2024-09-01   \n",
       "161363  745040  2023-10-13    Health Standard             1   2024-09-01   \n",
       "161365  745040  2022-08-05    Health Standard             2   2024-09-01   \n",
       "161368  745049  2024-06-21    Health Standard             1   2024-09-01   \n",
       "\n",
       "                                            provider_name State    zip _merge  \n",
       "0                                BURNS NURSING HOME, INC.    AL  35653   both  \n",
       "1                                BURNS NURSING HOME, INC.    AL  35653   both  \n",
       "4                                BURNS NURSING HOME, INC.    AL  35653   both  \n",
       "6                                BURNS NURSING HOME, INC.    AL  35653   both  \n",
       "7                          COOSA VALLEY HEALTHCARE CENTER    AL  35150   both  \n",
       "...                                                   ...   ...    ...    ...  \n",
       "161361                  MIDTOWNE MEADOWS HEALTH AND REHAB    TX  76065   both  \n",
       "161362                      THE SARAH ROBERTS FRENCH HOME    TX  78201   both  \n",
       "161363                      THE SARAH ROBERTS FRENCH HOME    TX  78201   both  \n",
       "161365                      THE SARAH ROBERTS FRENCH HOME    TX  78201   both  \n",
       "161368  LAS ALTURAS NURSING & TRANSITIONAL CARE BROWNS...    TX  78521   both  \n",
       "\n",
       "[116583 rows x 9 columns]"
      ]
     },
     "execution_count": 90,
     "metadata": {},
     "output_type": "execute_result"
    }
   ],
   "source": [
    "def drop_fire_surveys(df): \n",
    "    df = df.loc[df['survey_type'].isin(['Fire Safety Standard','Fire Safety Complaint'])==0]\n",
    "    print(df['survey_type'].value_counts())\n",
    "    print(df.shape[0])\n",
    "    return df \n",
    "\n",
    "drop_fire_surveys(survey_provider_df)"
   ]
  },
  {
   "cell_type": "code",
   "execution_count": 91,
   "id": "0c6a995b-9d92-4af6-a50e-966b21732580",
   "metadata": {},
   "outputs": [
    {
     "name": "stdout",
     "output_type": "stream",
     "text": [
      "year\n",
      "2022    45039\n",
      "2023    44661\n",
      "2021    24515\n",
      "2024    23841\n",
      "2019    12655\n",
      "2018     4843\n",
      "2020     4650\n",
      "2017     1080\n",
      "2016       84\n",
      "2015        1\n",
      "Name: count, dtype: int64\n"
     ]
    }
   ],
   "source": [
    "survey_provider_df['survey_date'] = pd.to_datetime(survey_provider_df['survey_date'])\n",
    "\n",
    "survey_provider_df['year'] = survey_provider_df['survey_date'].dt.year\n",
    "print(survey_provider_df['year'].value_counts())"
   ]
  },
  {
   "cell_type": "code",
   "execution_count": 92,
   "id": "2fbdac71-9de2-41af-a719-cbf92d01e510",
   "metadata": {},
   "outputs": [],
   "source": [
    "def remove_surveys_after_date(df, cutoff_date): \n",
    "    # print(df.shape[0])\n",
    "    df['cutoff_date'] = pd.to_datetime(cutoff_date)\n",
    "    df_after_date = df.loc[df['survey_date']<df['cutoff_date']]\n",
    "    # print(df_after_date['year'].value_counts())\n",
    "    # print(df_after_date.shape[0])\n",
    "    return df_after_date\n",
    "    \n",
    "# remove surveys after 09/30/2023. The FY2022 ends on 09/30/23, so we will only want to use survey information from before this to pair with state level surveyor position information. \n",
    "pre_oct2023_surveys_df = remove_surveys_after_date(survey_provider_df, '09-30-2023')\n",
    "\n",
    "# dropped 34374 rows\n",
    "# print(161369-126995)"
   ]
  },
  {
   "cell_type": "code",
   "execution_count": 93,
   "id": "06a2d1e2-51e3-400b-b2b0-59dab1ab39ac",
   "metadata": {},
   "outputs": [
    {
     "name": "stdout",
     "output_type": "stream",
     "text": [
      "14789\n"
     ]
    }
   ],
   "source": [
    "print(len(pre_oct2023_surveys_df['CCN'].unique()))"
   ]
  },
  {
   "cell_type": "code",
   "execution_count": 94,
   "id": "0fa6d01a-1488-4abd-a25d-a5a1a92b64bd",
   "metadata": {},
   "outputs": [
    {
     "name": "stdout",
     "output_type": "stream",
     "text": [
      "35696\n",
      "14788\n"
     ]
    }
   ],
   "source": [
    "# calculate time between input date and last survey \n",
    "def identify_last_standard_survey(df): \n",
    "    \"\"\"Identify the last standard survey for each nursing home\"\"\"\n",
    "    df = df.loc[df['survey_type']=='Health Standard']\n",
    "    df = df.sort_values(by=['CCN','survey_date'], ascending=False)\n",
    "    print(df.shape[0]) # \n",
    "    df = df.drop_duplicates(subset=['CCN'], keep='first')\n",
    "    print(df.shape[0]) # 14817, as it should be (total number of nursing homes) \n",
    "    return df \n",
    "    \n",
    "last_standard_survey_df = identify_last_standard_survey(pre_oct2023_surveys_df)\n",
    "    "
   ]
  },
  {
   "cell_type": "code",
   "execution_count": 95,
   "id": "2e56b8dc-a6c7-438f-a7f2-02eabf6e9bc2",
   "metadata": {},
   "outputs": [
    {
     "name": "stdout",
     "output_type": "stream",
     "text": [
      "count    14788.000000\n",
      "mean        -3.750586\n",
      "std         10.355613\n",
      "min        -14.966667\n",
      "25%        -10.666667\n",
      "50%         -6.333333\n",
      "75%         -0.633333\n",
      "max         48.833333\n",
      "Name: months_overdue, dtype: float64\n",
      "           CCN survey_date      survey_type  survey_cycle process_date  \\\n",
      "161365  745040  2022-08-05  Health Standard             2   2024-09-01   \n",
      "161361  745039  2023-06-20  Health Standard             1   2024-09-01   \n",
      "161359  745038  2023-05-19  Health Standard             1   2024-09-01   \n",
      "161352  745022  2022-08-18  Health Standard             2   2024-09-01   \n",
      "161342  745021  2023-09-26  Health Standard             1   2024-09-01   \n",
      "161336  745019  2023-02-18  Health Standard             2   2024-09-01   \n",
      "161315  745017  2023-08-17  Health Standard             1   2024-09-01   \n",
      "161308  745007  2022-10-06  Health Standard             2   2024-09-01   \n",
      "161289  745006  2023-02-23  Health Standard             2   2024-09-01   \n",
      "161275  745005  2023-03-16  Health Standard             2   2024-09-01   \n",
      "\n",
      "                                        provider_name State    zip _merge  \\\n",
      "161365                  THE SARAH ROBERTS FRENCH HOME    TX  78201   both   \n",
      "161361              MIDTOWNE MEADOWS HEALTH AND REHAB    TX  76065   both   \n",
      "161359  TIERRA ESTE NURSING AND REHABILITATION CENTER    TX  79938   both   \n",
      "161352                      WARE MEMORIAL CARE CENTER    TX  79101   both   \n",
      "161342                  LINDALE SPECIALTY CARE CENTER    TX  75771   both   \n",
      "161336          JAMES L WEST CENTER FOR DEMENTIA CARE    TX  76102   both   \n",
      "161315       THE LODGE OF SAGINAW HEALTH AND WELLNESS    TX  76179   both   \n",
      "161308       VERNON REHABILITATION AND NURSING CENTER    TX  76384   both   \n",
      "161289         FIVE POINTS NURSING AND REHABILITATION    TX  75115   both   \n",
      "161275                        CENTER AT ZARAGOZA, LLC    TX  79938   both   \n",
      "\n",
      "        year cutoff_date date_diff  months_since_survey  months_overdue  \\\n",
      "161365  2022  2023-09-30  421 days            14.033333       -0.966667   \n",
      "161361  2023  2023-09-30  102 days             3.400000      -11.600000   \n",
      "161359  2023  2023-09-30  134 days             4.466667      -10.533333   \n",
      "161352  2022  2023-09-30  408 days            13.600000       -1.400000   \n",
      "161342  2023  2023-09-30    4 days             0.133333      -14.866667   \n",
      "161336  2023  2023-09-30  224 days             7.466667       -7.533333   \n",
      "161315  2023  2023-09-30   44 days             1.466667      -13.533333   \n",
      "161308  2022  2023-09-30  359 days            11.966667       -3.033333   \n",
      "161289  2023  2023-09-30  219 days             7.300000       -7.700000   \n",
      "161275  2023  2023-09-30  198 days             6.600000       -8.400000   \n",
      "\n",
      "        overdue_ind  \n",
      "161365            0  \n",
      "161361            0  \n",
      "161359            0  \n",
      "161352            0  \n",
      "161342            0  \n",
      "161336            0  \n",
      "161315            0  \n",
      "161308            0  \n",
      "161289            0  \n",
      "161275            0  \n"
     ]
    }
   ],
   "source": [
    "def NH_months_since_last_standard_survey(df, cutoff_date): \n",
    "    df['cutoff_date'] = pd.to_datetime(cutoff_date)\n",
    "    df['survey_date'] = pd.to_datetime(df['survey_date'])\n",
    "    df['date_diff'] = df['cutoff_date'] - df['survey_date']\n",
    "    df['months_since_survey'] = (df['cutoff_date'] - df['survey_date']).dt.days/30\n",
    "    df['months_overdue'] = ((((df['cutoff_date'] - df['survey_date']).dt.days)/30)-15)\n",
    "    df['overdue_ind'] = np.where(df['months_overdue']>1, 1, 0)\n",
    "    print(df['months_overdue'].describe())\n",
    "    print(df.head(10))\n",
    "    df.to_csv('/Users/ghazalin/NH_inspections_static/OutputData/_093023_NH_months_since_last_standard_survey.csv')\n",
    "    return df\n",
    "    \n",
    "NH_months_since_last_standard_survey = NH_months_since_last_standard_survey(last_standard_survey_df, '09-30-2023')"
   ]
  },
  {
   "cell_type": "code",
   "execution_count": 96,
   "id": "46dbe972-7b58-4832-96f9-e51e03ed30e7",
   "metadata": {},
   "outputs": [
    {
     "name": "stdout",
     "output_type": "stream",
     "text": [
      "14788\n"
     ]
    }
   ],
   "source": [
    "print(NH_months_since_last_standard_survey.shape[0])"
   ]
  },
  {
   "cell_type": "code",
   "execution_count": 97,
   "id": "20c63ad1-f397-4169-ac2f-34db4440f28d",
   "metadata": {
    "scrolled": true
   },
   "outputs": [
    {
     "name": "stdout",
     "output_type": "stream",
     "text": [
      "   State  overdue_ind  NH_count  prop_overdue\n",
      "0     AK            0        20      0.000000\n",
      "3     AZ            0       142      0.000000\n",
      "12    HI            0        42      0.000000\n",
      "11    GU            0         1      0.000000\n",
      "27    MT            0        59      0.000000\n",
      "31    NH            0        74      0.000000\n",
      "30    NE            0       184      0.000000\n",
      "29    ND            0        75      0.000000\n",
      "40    PR            0         6      0.000000\n",
      "48    VT            0        34      0.000000\n",
      "52    WY            0        35      0.000000\n",
      "50    WI            0       324      0.000000\n",
      "39    PA            0       668      0.000000\n",
      "41    RI            0        74      0.000000\n",
      "33    NM            0        67      0.000000\n",
      "15    IL            1       679      0.001473\n",
      "45    TX            2      1182      0.001692\n",
      "19    LA            1       267      0.003745\n",
      "2     AR            1       218      0.004587\n",
      "43    SD            1        96      0.010417\n",
      "34    NV            1        67      0.014925\n",
      "23    MI            7       423      0.016548\n",
      "49    WA            6       193      0.031088\n",
      "16    IN           16       511      0.031311\n",
      "24    MN           13       343      0.037901\n",
      "37    OK           11       287      0.038328\n",
      "28    NC           22       419      0.052506\n",
      "13    IA           23       402      0.057214\n",
      "51    WV           12       122      0.098361\n",
      "7     DC            2        17      0.117647\n",
      "20    MA           42       345      0.121739\n",
      "5     CO           27       211      0.127962\n",
      "38    OR           17       128      0.132812\n",
      "17    KS           51       304      0.167763\n",
      "10    GA           71       355      0.200000\n",
      "26    MS           41       202      0.202970\n",
      "22    ME           17        80      0.212500\n",
      "9     FL          153       693      0.220779\n",
      "25    MO          132       489      0.269939\n",
      "46    UT           30        98      0.306122\n",
      "32    NJ          115       346      0.332370\n",
      "42    SC           65       189      0.343915\n",
      "36    OH          329       927      0.354908\n",
      "8     DE           16        44      0.363636\n",
      "35    NY          249       603      0.412935\n",
      "47    VA          122       289      0.422145\n",
      "6     CT           94       194      0.484536\n",
      "4     CA          624      1163      0.536543\n",
      "44    TN          186       302      0.615894\n",
      "14    ID           57        80      0.712500\n",
      "1     AL          165       224      0.736607\n",
      "21    MD          165       222      0.743243\n",
      "18    KY          230       269      0.855019\n"
     ]
    }
   ],
   "source": [
    "def prop_overdue_surveys(df): \n",
    "    df['NH_count'] = 1\n",
    "    df_groupby = df.groupby(['State']).agg({'overdue_ind':'sum','NH_count':'sum'}).reset_index()\n",
    "    df_groupby['prop_overdue'] = df_groupby['overdue_ind']/df_groupby['NH_count']\n",
    "    df_groupby = df_groupby.sort_values(by=['prop_overdue'])\n",
    "    print(df_groupby)\n",
    "    return df_groupby\n",
    "    \n",
    "prop_overdue_surveys_df = prop_overdue_surveys(NH_months_since_last_standard_survey)"
   ]
  },
  {
   "cell_type": "code",
   "execution_count": 98,
   "id": "fea7dd61-7bdc-449d-bac9-a6427ede5430",
   "metadata": {},
   "outputs": [
    {
     "name": "stdout",
     "output_type": "stream",
     "text": [
      "53\n"
     ]
    }
   ],
   "source": [
    "print(len(prop_overdue_surveys_df['State'].value_counts()))"
   ]
  },
  {
   "cell_type": "code",
   "execution_count": 99,
   "id": "a9afac78-229e-448e-ab77-4826209f5a8e",
   "metadata": {},
   "outputs": [
    {
     "name": "stdout",
     "output_type": "stream",
     "text": [
      "Index(['state', 'state_code', '#_NHs', '#_beds', 'surveyor_positions',\n",
      "       'NH_per_position', 'beds_per_position'],\n",
      "      dtype='object')\n"
     ]
    }
   ],
   "source": [
    "# read in surveyor position df \n",
    "surveyor_df = pd.read_csv('/Users/ghazalin/NH_inspections_static/data/state_NH_beds_surveyors.csv', header=1)\n",
    "surveyor_df = surveyor_df[['State ', 'abbreviation', '#_NHs', '#_beds', 'surveyor_positions',\n",
    "       'NH_per_position', 'beds_per_position']]\n",
    "surveyor_df = surveyor_df.rename(columns={'State ':'state', 'abbreviation':'state_code'})\n",
    "print(surveyor_df.columns)"
   ]
  },
  {
   "cell_type": "code",
   "execution_count": 100,
   "id": "1a9da6d1-87c9-4397-9ad7-3d9661948432",
   "metadata": {},
   "outputs": [
    {
     "name": "stdout",
     "output_type": "stream",
     "text": [
      "        state state_code  #_NHs   #_beds  surveyor_positions  NH_per_position  \\\n",
      "0     Alabama         AL    231   48,851                  51              4.5   \n",
      "1      Alaska         AK     20      830                  14              1.4   \n",
      "2     Arizona         AZ    143   16,145                  35              4.1   \n",
      "3    Arkansas         AR    221   25,700                  62              3.6   \n",
      "4  California         CA  1,175  117,148                 654              1.8   \n",
      "\n",
      "   beds_per_position State  overdue_ind  NH_count  prop_overdue  \n",
      "0                958    AL          165       224            73  \n",
      "1                 59    AK            0        20             0  \n",
      "2                461    AZ            0       142             0  \n",
      "3                415    AR            1       218             0  \n",
      "4                179    CA          624      1163            53  \n"
     ]
    }
   ],
   "source": [
    "merge_df = pd.merge(surveyor_df, prop_overdue_surveys_df, how='left', left_on='state_code', right_on='State')\n",
    "merge_df['prop_overdue'] = (merge_df['prop_overdue']*100).astype(int)\n",
    "print(merge_df.head(5))"
   ]
  },
  {
   "cell_type": "code",
   "execution_count": 101,
   "id": "bc0065d4-3461-4fb4-8026-721d6f5e57e7",
   "metadata": {},
   "outputs": [
    {
     "name": "stdout",
     "output_type": "stream",
     "text": [
      "             state state_code\n",
      "0          Alabama         AL\n",
      "1           Alaska         AK\n",
      "2          Arizona         AZ\n",
      "3         Arkansas         AR\n",
      "4       California         CA\n",
      "5         Colorado         CO\n",
      "6      Connecticut         CT\n",
      "7         Delaware         DE\n",
      "8          Florida         FL\n",
      "9          Georgia         GA\n",
      "10         Hawai’i         HI\n",
      "11           Idaho         ID\n",
      "12        Illinois         IL\n",
      "13         Indiana         IN\n",
      "14            Iowa         IA\n",
      "15          Kansas         KS\n",
      "16        Kentucky         KY\n",
      "17       Louisiana         LA\n",
      "18           Maine         ME\n",
      "19        Maryland         MD\n",
      "20   Massachusetts         MA\n",
      "21        Michigan         MI\n",
      "22       Minnesota         MN\n",
      "23     Mississippi         MS\n",
      "24        Missouri         MO\n",
      "25         Montana         MT\n",
      "26        Nebraska         NE\n",
      "27          Nevada         NV\n",
      "28   New Hampshire         NH\n",
      "29      New Jersey         NJ\n",
      "30      New Mexico         NM\n",
      "31        New York         NY\n",
      "32  North Carolina         NC\n",
      "33    North Dakota         ND\n",
      "34            Ohio         OH\n",
      "35        Oklahoma         OK\n",
      "36          Oregon         OR\n",
      "37    Pennsylvania         PA\n",
      "38    Rhode Island         RI\n",
      "39  South Carolina         SC\n",
      "40    South Dakota         SD\n",
      "41       Tennessee         TN\n",
      "42           Texas         TX\n",
      "43            Utah         UT\n",
      "44         Vermont         VT\n",
      "45        Virginia         VA\n",
      "46      Washington         WA\n",
      "47   West Virginia         WV\n",
      "48       Wisconsin         WI\n",
      "49         Wyoming         WY\n"
     ]
    }
   ],
   "source": [
    "print(merge_df[['state','state_code']])"
   ]
  },
  {
   "cell_type": "code",
   "execution_count": 139,
   "id": "53a5bbd0-61f1-4b1a-871f-1b89e42bc979",
   "metadata": {},
   "outputs": [
    {
     "data": {
      "text/html": [
       "\n",
       "<style>\n",
       "  #altair-viz-80a3edac4d734e879890887dc34d3562.vega-embed {\n",
       "    width: 100%;\n",
       "    display: flex;\n",
       "  }\n",
       "\n",
       "  #altair-viz-80a3edac4d734e879890887dc34d3562.vega-embed details,\n",
       "  #altair-viz-80a3edac4d734e879890887dc34d3562.vega-embed details summary {\n",
       "    position: relative;\n",
       "  }\n",
       "</style>\n",
       "<div id=\"altair-viz-80a3edac4d734e879890887dc34d3562\"></div>\n",
       "<script type=\"text/javascript\">\n",
       "  var VEGA_DEBUG = (typeof VEGA_DEBUG == \"undefined\") ? {} : VEGA_DEBUG;\n",
       "  (function(spec, embedOpt){\n",
       "    let outputDiv = document.currentScript.previousElementSibling;\n",
       "    if (outputDiv.id !== \"altair-viz-80a3edac4d734e879890887dc34d3562\") {\n",
       "      outputDiv = document.getElementById(\"altair-viz-80a3edac4d734e879890887dc34d3562\");\n",
       "    }\n",
       "    const paths = {\n",
       "      \"vega\": \"https://cdn.jsdelivr.net/npm/vega@5?noext\",\n",
       "      \"vega-lib\": \"https://cdn.jsdelivr.net/npm/vega-lib?noext\",\n",
       "      \"vega-lite\": \"https://cdn.jsdelivr.net/npm/vega-lite@5.20.1?noext\",\n",
       "      \"vega-embed\": \"https://cdn.jsdelivr.net/npm/vega-embed@6?noext\",\n",
       "    };\n",
       "\n",
       "    function maybeLoadScript(lib, version) {\n",
       "      var key = `${lib.replace(\"-\", \"\")}_version`;\n",
       "      return (VEGA_DEBUG[key] == version) ?\n",
       "        Promise.resolve(paths[lib]) :\n",
       "        new Promise(function(resolve, reject) {\n",
       "          var s = document.createElement('script');\n",
       "          document.getElementsByTagName(\"head\")[0].appendChild(s);\n",
       "          s.async = true;\n",
       "          s.onload = () => {\n",
       "            VEGA_DEBUG[key] = version;\n",
       "            return resolve(paths[lib]);\n",
       "          };\n",
       "          s.onerror = () => reject(`Error loading script: ${paths[lib]}`);\n",
       "          s.src = paths[lib];\n",
       "        });\n",
       "    }\n",
       "\n",
       "    function showError(err) {\n",
       "      outputDiv.innerHTML = `<div class=\"error\" style=\"color:red;\">${err}</div>`;\n",
       "      throw err;\n",
       "    }\n",
       "\n",
       "    function displayChart(vegaEmbed) {\n",
       "      vegaEmbed(outputDiv, spec, embedOpt)\n",
       "        .catch(err => showError(`Javascript Error: ${err.message}<br>This usually means there's a typo in your chart specification. See the javascript console for the full traceback.`));\n",
       "    }\n",
       "\n",
       "    if(typeof define === \"function\" && define.amd) {\n",
       "      requirejs.config({paths});\n",
       "      require([\"vega-embed\"], displayChart, err => showError(`Error loading script: ${err.message}`));\n",
       "    } else {\n",
       "      maybeLoadScript(\"vega\", \"5\")\n",
       "        .then(() => maybeLoadScript(\"vega-lite\", \"5.20.1\"))\n",
       "        .then(() => maybeLoadScript(\"vega-embed\", \"6\"))\n",
       "        .catch(showError)\n",
       "        .then(() => displayChart(vegaEmbed));\n",
       "    }\n",
       "  })({\"$schema\": \"https://vega.github.io/schema/vega/v5.json\", \"data\": [{\"name\": \"source_0\", \"values\": [{\"state\": \"Alabama\", \"state_code\": \"AL\", \"#_NHs\": \"231\", \"#_beds\": \"48,851\", \"surveyor_positions\": 51, \"NH_per_position\": 4.5, \"beds_per_position\": 958, \"State\": \"AL\", \"overdue_ind\": 165, \"NH_count\": 224, \"prop_overdue\": 73}, {\"state\": \"Alaska\", \"state_code\": \"AK\", \"#_NHs\": \"20\", \"#_beds\": \"830\", \"surveyor_positions\": 14, \"NH_per_position\": 1.4, \"beds_per_position\": 59, \"State\": \"AK\", \"overdue_ind\": 0, \"NH_count\": 20, \"prop_overdue\": 0}, {\"state\": \"Arizona\", \"state_code\": \"AZ\", \"#_NHs\": \"143\", \"#_beds\": \"16,145\", \"surveyor_positions\": 35, \"NH_per_position\": 4.1, \"beds_per_position\": 461, \"State\": \"AZ\", \"overdue_ind\": 0, \"NH_count\": 142, \"prop_overdue\": 0}, {\"state\": \"Arkansas\", \"state_code\": \"AR\", \"#_NHs\": \"221\", \"#_beds\": \"25,700\", \"surveyor_positions\": 62, \"NH_per_position\": 3.6, \"beds_per_position\": 415, \"State\": \"AR\", \"overdue_ind\": 1, \"NH_count\": 218, \"prop_overdue\": 0}, {\"state\": \"California\", \"state_code\": \"CA\", \"#_NHs\": \"1,175\", \"#_beds\": \"117,148\", \"surveyor_positions\": 654, \"NH_per_position\": 1.8, \"beds_per_position\": 179, \"State\": \"CA\", \"overdue_ind\": 624, \"NH_count\": 1163, \"prop_overdue\": 53}, {\"state\": \"Colorado\", \"state_code\": \"CO\", \"#_NHs\": \"218\", \"#_beds\": \"19,980\", \"surveyor_positions\": 52, \"NH_per_position\": 4.2, \"beds_per_position\": 384, \"State\": \"CO\", \"overdue_ind\": 27, \"NH_count\": 211, \"prop_overdue\": 12}, {\"state\": \"Connecticut\", \"state_code\": \"CT\", \"#_NHs\": \"205\", \"#_beds\": \"23,790\", \"surveyor_positions\": 66, \"NH_per_position\": 3.1, \"beds_per_position\": 361, \"State\": \"CT\", \"overdue_ind\": 94, \"NH_count\": 194, \"prop_overdue\": 48}, {\"state\": \"Delaware\", \"state_code\": \"DE\", \"#_NHs\": \"44\", \"#_beds\": \"4,858\", \"surveyor_positions\": 21, \"NH_per_position\": 2.1, \"beds_per_position\": 231, \"State\": \"DE\", \"overdue_ind\": 16, \"NH_count\": 44, \"prop_overdue\": 36}, {\"state\": \"Florida\", \"state_code\": \"FL\", \"#_NHs\": \"698\", \"#_beds\": \"84,336\", \"surveyor_positions\": 229, \"NH_per_position\": 3.0, \"beds_per_position\": 368, \"State\": \"FL\", \"overdue_ind\": 153, \"NH_count\": 693, \"prop_overdue\": 22}, {\"state\": \"Georgia\", \"state_code\": \"GA\", \"#_NHs\": \"360\", \"#_beds\": \"39,659\", \"surveyor_positions\": 55, \"NH_per_position\": 6.5, \"beds_per_position\": 721, \"State\": \"GA\", \"overdue_ind\": 71, \"NH_count\": 355, \"prop_overdue\": 20}, {\"state\": \"Hawai\\u2019i\", \"state_code\": \"HI\", \"#_NHs\": \"45\", \"#_beds\": \"4323\", \"surveyor_positions\": 12, \"NH_per_position\": 3.8, \"beds_per_position\": 360, \"State\": \"HI\", \"overdue_ind\": 0, \"NH_count\": 42, \"prop_overdue\": 0}, {\"state\": \"Idaho\", \"state_code\": \"ID\", \"#_NHs\": \"80\", \"#_beds\": \"6031\", \"surveyor_positions\": 17, \"NH_per_position\": 4.7, \"beds_per_position\": 355, \"State\": \"ID\", \"overdue_ind\": 57, \"NH_count\": 80, \"prop_overdue\": 71}, {\"state\": \"Illinois\", \"state_code\": \"IL\", \"#_NHs\": \"704\", \"#_beds\": \"88597\", \"surveyor_positions\": 315, \"NH_per_position\": 2.2, \"beds_per_position\": 281, \"State\": \"IL\", \"overdue_ind\": 1, \"NH_count\": 679, \"prop_overdue\": 0}, {\"state\": \"Indiana\", \"state_code\": \"IN\", \"#_NHs\": \"524\", \"#_beds\": \"50821\", \"surveyor_positions\": 100, \"NH_per_position\": 5.2, \"beds_per_position\": 508, \"State\": \"IN\", \"overdue_ind\": 16, \"NH_count\": 511, \"prop_overdue\": 3}, {\"state\": \"Iowa\", \"state_code\": \"IA\", \"#_NHs\": \"414\", \"#_beds\": \"28314\", \"surveyor_positions\": 46, \"NH_per_position\": 9.0, \"beds_per_position\": 616, \"State\": \"IA\", \"overdue_ind\": 23, \"NH_count\": 402, \"prop_overdue\": 5}, {\"state\": \"Kansas\", \"state_code\": \"KS\", \"#_NHs\": \"323\", \"#_beds\": \"14925\", \"surveyor_positions\": 57, \"NH_per_position\": 5.7, \"beds_per_position\": 262, \"State\": \"KS\", \"overdue_ind\": 51, \"NH_count\": 304, \"prop_overdue\": 16}, {\"state\": \"Kentucky\", \"state_code\": \"KY\", \"#_NHs\": \"279\", \"#_beds\": \"26329\", \"surveyor_positions\": 95, \"NH_per_position\": 2.9, \"beds_per_position\": 277, \"State\": \"KY\", \"overdue_ind\": 230, \"NH_count\": 269, \"prop_overdue\": 85}, {\"state\": \"Louisiana\", \"state_code\": \"LA\", \"#_NHs\": \"276\", \"#_beds\": \"34598\", \"surveyor_positions\": 43, \"NH_per_position\": 6.4, \"beds_per_position\": 805, \"State\": \"LA\", \"overdue_ind\": 1, \"NH_count\": 267, \"prop_overdue\": 0}, {\"state\": \"Maine\", \"state_code\": \"ME\", \"#_NHs\": \"90\", \"#_beds\": \"6472\", \"surveyor_positions\": 15, \"NH_per_position\": 6.0, \"beds_per_position\": 432, \"State\": \"ME\", \"overdue_ind\": 17, \"NH_count\": 80, \"prop_overdue\": 21}, {\"state\": \"Maryland\", \"state_code\": \"MD\", \"#_NHs\": \"225\", \"#_beds\": \"27718\", \"surveyor_positions\": 59, \"NH_per_position\": 3.8, \"beds_per_position\": 470, \"State\": \"MD\", \"overdue_ind\": 165, \"NH_count\": 222, \"prop_overdue\": 74}, {\"state\": \"Massachusetts\", \"state_code\": \"MA\", \"#_NHs\": \"363\", \"#_beds\": \"41299\", \"surveyor_positions\": 82, \"NH_per_position\": 4.4, \"beds_per_position\": 504, \"State\": \"MA\", \"overdue_ind\": 42, \"NH_count\": 345, \"prop_overdue\": 12}, {\"state\": \"Michigan\", \"state_code\": \"MI\", \"#_NHs\": \"433\", \"#_beds\": \"45030\", \"surveyor_positions\": 93, \"NH_per_position\": 4.7, \"beds_per_position\": 484, \"State\": \"MI\", \"overdue_ind\": 7, \"NH_count\": 423, \"prop_overdue\": 1}, {\"state\": \"Minnesota\", \"state_code\": \"MN\", \"#_NHs\": \"349\", \"#_beds\": \"24920\", \"surveyor_positions\": 78, \"NH_per_position\": 4.5, \"beds_per_position\": 320, \"State\": \"MN\", \"overdue_ind\": 13, \"NH_count\": 343, \"prop_overdue\": 3}, {\"state\": \"Mississippi\", \"state_code\": \"MS\", \"#_NHs\": \"206\", \"#_beds\": \"17382\", \"surveyor_positions\": 35, \"NH_per_position\": 5.9, \"beds_per_position\": 497, \"State\": \"MS\", \"overdue_ind\": 41, \"NH_count\": 202, \"prop_overdue\": 20}, {\"state\": \"Missouri\", \"state_code\": \"MO\", \"#_NHs\": \"515\", \"#_beds\": \"53506\", \"surveyor_positions\": 190, \"NH_per_position\": 2.7, \"beds_per_position\": 282, \"State\": \"MO\", \"overdue_ind\": 132, \"NH_count\": 489, \"prop_overdue\": 26}, {\"state\": \"Montana\", \"state_code\": \"MT\", \"#_NHs\": \"62\", \"#_beds\": \"5248\", \"surveyor_positions\": 22, \"NH_per_position\": 2.8, \"beds_per_position\": 239, \"State\": \"MT\", \"overdue_ind\": 0, \"NH_count\": 59, \"prop_overdue\": 0}, {\"state\": \"Nebraska\", \"state_code\": \"NE\", \"#_NHs\": \"189\", \"#_beds\": \"14251\", \"surveyor_positions\": 33, \"NH_per_position\": 5.7, \"beds_per_position\": 432, \"State\": \"NE\", \"overdue_ind\": 0, \"NH_count\": 184, \"prop_overdue\": 0}, {\"state\": \"Nevada\", \"state_code\": \"NV\", \"#_NHs\": \"65\", \"#_beds\": \"6758\", \"surveyor_positions\": 19, \"NH_per_position\": 3.4, \"beds_per_position\": 356, \"State\": \"NV\", \"overdue_ind\": 1, \"NH_count\": 67, \"prop_overdue\": 1}, {\"state\": \"New Hampshire\", \"state_code\": \"NH\", \"#_NHs\": \"73\", \"#_beds\": \"7282\", \"surveyor_positions\": 17, \"NH_per_position\": 4.3, \"beds_per_position\": 428, \"State\": \"NH\", \"overdue_ind\": 0, \"NH_count\": 74, \"prop_overdue\": 0}, {\"state\": \"New Jersey\", \"state_code\": \"NJ\", \"#_NHs\": \"351\", \"#_beds\": \"51189\", \"surveyor_positions\": 68, \"NH_per_position\": 5.2, \"beds_per_position\": 752, \"State\": \"NJ\", \"overdue_ind\": 115, \"NH_count\": 346, \"prop_overdue\": 33}, {\"state\": \"New Mexico\", \"state_code\": \"NM\", \"#_NHs\": \"68\", \"#_beds\": \"6832\", \"surveyor_positions\": 27, \"NH_per_position\": 2.5, \"beds_per_position\": 253, \"State\": \"NM\", \"overdue_ind\": 0, \"NH_count\": 67, \"prop_overdue\": 0}, {\"state\": \"New York\", \"state_code\": \"NY\", \"#_NHs\": \"613\", \"#_beds\": \"114134\", \"surveyor_positions\": 115, \"NH_per_position\": 5.3, \"beds_per_position\": 993, \"State\": \"NY\", \"overdue_ind\": 249, \"NH_count\": 603, \"prop_overdue\": 41}, {\"state\": \"North Carolina\", \"state_code\": \"NC\", \"#_NHs\": \"424\", \"#_beds\": \"44206\", \"surveyor_positions\": 96, \"NH_per_position\": 4.4, \"beds_per_position\": 461, \"State\": \"NC\", \"overdue_ind\": 22, \"NH_count\": 419, \"prop_overdue\": 5}, {\"state\": \"North Dakota\", \"state_code\": \"ND\", \"#_NHs\": \"77\", \"#_beds\": \"5215\", \"surveyor_positions\": 25, \"NH_per_position\": 3.1, \"beds_per_position\": 209, \"State\": \"ND\", \"overdue_ind\": 0, \"NH_count\": 75, \"prop_overdue\": 0}, {\"state\": \"Ohio\", \"state_code\": \"OH\", \"#_NHs\": \"950\", \"#_beds\": \"84624\", \"surveyor_positions\": 118, \"NH_per_position\": 8.0, \"beds_per_position\": 717, \"State\": \"OH\", \"overdue_ind\": 329, \"NH_count\": 927, \"prop_overdue\": 35}, {\"state\": \"Oklahoma\", \"state_code\": \"OK\", \"#_NHs\": \"402\", \"#_beds\": \"31547\", \"surveyor_positions\": 60, \"NH_per_position\": 6.7, \"beds_per_position\": 526, \"State\": \"OK\", \"overdue_ind\": 11, \"NH_count\": 287, \"prop_overdue\": 3}, {\"state\": \"Oregon\", \"state_code\": \"OR\", \"#_NHs\": \"129\", \"#_beds\": \"10541\", \"surveyor_positions\": 52, \"NH_per_position\": 2.5, \"beds_per_position\": 203, \"State\": \"OR\", \"overdue_ind\": 17, \"NH_count\": 128, \"prop_overdue\": 13}, {\"state\": \"Pennsylvania\", \"state_code\": \"PA\", \"#_NHs\": \"678\", \"#_beds\": \"86624\", \"surveyor_positions\": 120, \"NH_per_position\": 5.7, \"beds_per_position\": 722, \"State\": \"PA\", \"overdue_ind\": 0, \"NH_count\": 668, \"prop_overdue\": 0}, {\"state\": \"Rhode Island\", \"state_code\": \"RI\", \"#_NHs\": \"75\", \"#_beds\": \"8351\", \"surveyor_positions\": 30, \"NH_per_position\": 2.5, \"beds_per_position\": 278, \"State\": \"RI\", \"overdue_ind\": 0, \"NH_count\": 74, \"prop_overdue\": 0}, {\"state\": \"South Carolina\", \"state_code\": \"SC\", \"#_NHs\": \"188\", \"#_beds\": \"20640\", \"surveyor_positions\": 16, \"NH_per_position\": 11.8, \"beds_per_position\": 1290, \"State\": \"SC\", \"overdue_ind\": 65, \"NH_count\": 189, \"prop_overdue\": 34}, {\"state\": \"South Dakota\", \"state_code\": \"SD\", \"#_NHs\": \"98\", \"#_beds\": \"7361\", \"surveyor_positions\": 23, \"NH_per_position\": 4.3, \"beds_per_position\": 320, \"State\": \"SD\", \"overdue_ind\": 1, \"NH_count\": 96, \"prop_overdue\": 1}, {\"state\": \"Tennessee\", \"state_code\": \"TN\", \"#_NHs\": \"313\", \"#_beds\": \"35395\", \"surveyor_positions\": 110, \"NH_per_position\": 2.8, \"beds_per_position\": 322, \"State\": \"TN\", \"overdue_ind\": 186, \"NH_count\": 302, \"prop_overdue\": 61}, {\"state\": \"Texas\", \"state_code\": \"TX\", \"#_NHs\": \"1204\", \"#_beds\": \"136261\", \"surveyor_positions\": 350, \"NH_per_position\": 3.4, \"beds_per_position\": 389, \"State\": \"TX\", \"overdue_ind\": 2, \"NH_count\": 1182, \"prop_overdue\": 0}, {\"state\": \"Utah\", \"state_code\": \"UT\", \"#_NHs\": \"98\", \"#_beds\": \"8472\", \"surveyor_positions\": 16, \"NH_per_position\": 6.1, \"beds_per_position\": 530, \"State\": \"UT\", \"overdue_ind\": 30, \"NH_count\": 98, \"prop_overdue\": 30}, {\"state\": \"Vermont\", \"state_code\": \"VT\", \"#_NHs\": \"35\", \"#_beds\": \"2954\", \"surveyor_positions\": 16, \"NH_per_position\": 2.2, \"beds_per_position\": 185, \"State\": \"VT\", \"overdue_ind\": 0, \"NH_count\": 34, \"prop_overdue\": 0}, {\"state\": \"Virginia\", \"state_code\": \"VA\", \"#_NHs\": \"288\", \"#_beds\": \"32505\", \"surveyor_positions\": 45, \"NH_per_position\": 6.4, \"beds_per_position\": 722, \"State\": \"VA\", \"overdue_ind\": 122, \"NH_count\": 289, \"prop_overdue\": 42}, {\"state\": \"Washington\", \"state_code\": \"WA\", \"#_NHs\": \"200\", \"#_beds\": \"19296\", \"surveyor_positions\": 107, \"NH_per_position\": 1.9, \"beds_per_position\": 180, \"State\": \"WA\", \"overdue_ind\": 6, \"NH_count\": 193, \"prop_overdue\": 3}, {\"state\": \"West Virginia\", \"state_code\": \"WV\", \"#_NHs\": \"123\", \"#_beds\": \"10653\", \"surveyor_positions\": 24, \"NH_per_position\": 5.1, \"beds_per_position\": 444, \"State\": \"WV\", \"overdue_ind\": 12, \"NH_count\": 122, \"prop_overdue\": 9}, {\"state\": \"Wisconsin\", \"state_code\": \"WI\", \"#_NHs\": \"346\", \"#_beds\": \"26562\", \"surveyor_positions\": 64, \"NH_per_position\": 5.4, \"beds_per_position\": 415, \"State\": \"WI\", \"overdue_ind\": 0, \"NH_count\": 324, \"prop_overdue\": 0}, {\"state\": \"Wyoming\", \"state_code\": \"WY\", \"#_NHs\": \"35\", \"#_beds\": \"2605\", \"surveyor_positions\": 11, \"NH_per_position\": 3.2, \"beds_per_position\": 237, \"State\": \"WY\", \"overdue_ind\": 0, \"NH_count\": 35, \"prop_overdue\": 0}]}, {\"name\": \"data_0\", \"values\": [{\"beds_per_position\": 958, \"prop_overdue\": 73}, {\"beds_per_position\": 59, \"prop_overdue\": 0}, {\"beds_per_position\": 461, \"prop_overdue\": 0}, {\"beds_per_position\": 415, \"prop_overdue\": 0}, {\"beds_per_position\": 179, \"prop_overdue\": 53}, {\"beds_per_position\": 384, \"prop_overdue\": 12}, {\"beds_per_position\": 361, \"prop_overdue\": 48}, {\"beds_per_position\": 231, \"prop_overdue\": 36}, {\"beds_per_position\": 368, \"prop_overdue\": 22}, {\"beds_per_position\": 721, \"prop_overdue\": 20}, {\"beds_per_position\": 360, \"prop_overdue\": 0}, {\"beds_per_position\": 355, \"prop_overdue\": 71}, {\"beds_per_position\": 281, \"prop_overdue\": 0}, {\"beds_per_position\": 508, \"prop_overdue\": 3}, {\"beds_per_position\": 616, \"prop_overdue\": 5}, {\"beds_per_position\": 262, \"prop_overdue\": 16}, {\"beds_per_position\": 277, \"prop_overdue\": 85}, {\"beds_per_position\": 805, \"prop_overdue\": 0}, {\"beds_per_position\": 432, \"prop_overdue\": 21}, {\"beds_per_position\": 470, \"prop_overdue\": 74}, {\"beds_per_position\": 504, \"prop_overdue\": 12}, {\"beds_per_position\": 484, \"prop_overdue\": 1}, {\"beds_per_position\": 320, \"prop_overdue\": 3}, {\"beds_per_position\": 497, \"prop_overdue\": 20}, {\"beds_per_position\": 282, \"prop_overdue\": 26}, {\"beds_per_position\": 239, \"prop_overdue\": 0}, {\"beds_per_position\": 432, \"prop_overdue\": 0}, {\"beds_per_position\": 356, \"prop_overdue\": 1}, {\"beds_per_position\": 428, \"prop_overdue\": 0}, {\"beds_per_position\": 752, \"prop_overdue\": 33}, {\"beds_per_position\": 253, \"prop_overdue\": 0}, {\"beds_per_position\": 993, \"prop_overdue\": 41}, {\"beds_per_position\": 461, \"prop_overdue\": 5}, {\"beds_per_position\": 209, \"prop_overdue\": 0}, {\"beds_per_position\": 717, \"prop_overdue\": 35}, {\"beds_per_position\": 526, \"prop_overdue\": 3}, {\"beds_per_position\": 203, \"prop_overdue\": 13}, {\"beds_per_position\": 722, \"prop_overdue\": 0}, {\"beds_per_position\": 278, \"prop_overdue\": 0}, {\"beds_per_position\": 1290, \"prop_overdue\": 34}, {\"beds_per_position\": 320, \"prop_overdue\": 1}, {\"beds_per_position\": 322, \"prop_overdue\": 61}, {\"beds_per_position\": 389, \"prop_overdue\": 0}, {\"beds_per_position\": 530, \"prop_overdue\": 30}, {\"beds_per_position\": 185, \"prop_overdue\": 0}, {\"beds_per_position\": 722, \"prop_overdue\": 42}, {\"beds_per_position\": 180, \"prop_overdue\": 3}, {\"beds_per_position\": 444, \"prop_overdue\": 9}, {\"beds_per_position\": 415, \"prop_overdue\": 0}, {\"beds_per_position\": 237, \"prop_overdue\": 0}]}, {\"name\": \"data_1\", \"source\": \"source_0\", \"transform\": [{\"type\": \"regression\", \"x\": \"beds_per_position\", \"y\": \"prop_overdue\", \"as\": [\"beds_per_position\", \"prop_overdue\"]}, {\"type\": \"project\", \"fields\": [\"beds_per_position\", \"prop_overdue\"]}]}], \"marks\": [{\"type\": \"symbol\", \"name\": \"layer_0_marks\", \"from\": {\"data\": \"data_0\"}, \"encode\": {\"update\": {\"opacity\": {\"value\": 0.7}, \"y\": {\"field\": \"prop_overdue\", \"scale\": \"y\"}, \"fill\": {\"value\": \"#74372F\"}, \"x\": {\"field\": \"beds_per_position\", \"scale\": \"x\"}, \"shape\": {\"value\": \"circle\"}}}, \"style\": [\"circle\"]}, {\"type\": \"line\", \"name\": \"layer_1_marks\", \"from\": {\"data\": \"data_1\"}, \"sort\": {\"field\": \"x\"}, \"encode\": {\"update\": {\"strokeWidth\": {\"value\": 2}, \"defined\": {\"signal\": \"isValid(datum[\\\"beds_per_position\\\"]) && isFinite(+datum[\\\"beds_per_position\\\"]) && isValid(datum[\\\"prop_overdue\\\"]) && isFinite(+datum[\\\"prop_overdue\\\"])\"}, \"stroke\": {\"value\": \"#74372F\"}, \"x\": {\"field\": \"beds_per_position\", \"scale\": \"x\"}, \"y\": {\"field\": \"prop_overdue\", \"scale\": \"y\"}}}, \"style\": [\"line\"]}], \"scales\": [{\"name\": \"x\", \"type\": \"linear\", \"domain\": {\"fields\": [{\"data\": \"data_0\", \"field\": \"beds_per_position\"}, {\"data\": \"data_1\", \"field\": \"beds_per_position\"}]}, \"range\": [0, {\"signal\": \"width\"}], \"nice\": true, \"zero\": true}, {\"name\": \"y\", \"type\": \"linear\", \"domain\": {\"fields\": [{\"data\": \"data_0\", \"field\": \"prop_overdue\"}, {\"data\": \"data_1\", \"field\": \"prop_overdue\"}]}, \"range\": [{\"signal\": \"height\"}, 0], \"nice\": true, \"zero\": true}], \"axes\": [{\"scale\": \"x\", \"minExtent\": 0, \"zindex\": 0, \"domain\": false, \"grid\": true, \"ticks\": false, \"gridScale\": \"y\", \"orient\": \"bottom\", \"tickCount\": {\"signal\": \"ceil(width/40)\"}, \"aria\": false, \"labels\": false, \"maxExtent\": 0}, {\"scale\": \"y\", \"ticks\": false, \"gridScale\": \"x\", \"aria\": false, \"zindex\": 0, \"maxExtent\": 0, \"tickCount\": {\"signal\": \"ceil(height/40)\"}, \"grid\": true, \"orient\": \"left\", \"domain\": false, \"labels\": false, \"minExtent\": 0}, {\"scale\": \"x\", \"grid\": false, \"title\": \"Beds per Surveyor\", \"labelOverlap\": true, \"tickCount\": {\"signal\": \"ceil(width/40)\"}, \"zindex\": 0, \"orient\": \"bottom\", \"labelFlush\": true}, {\"scale\": \"y\", \"grid\": false, \"labelOverlap\": true, \"tickCount\": {\"signal\": \"ceil(height/40)\"}, \"zindex\": 0, \"orient\": \"left\", \"title\": \"Percent Overdue\"}], \"title\": {\"text\": \"Percent Overdue by Beds per Surveyor\", \"fontSize\": 15, \"dx\": 40, \"anchor\": \"start\", \"offset\": 20}, \"usermeta\": {\"embedOptions\": {\"theme\": \"fivethirtyeight\"}}, \"background\": \"white\", \"config\": {\"group\": {\"fill\": \"#f0f0f0\"}, \"path\": {\"stroke\": \"#30a2da\", \"strokeWidth\": 0.5}, \"range\": {\"category\": [\"#30a2da\", \"#fc4f30\", \"#e5ae38\", \"#6d904f\", \"#8b8b8b\", \"#b96db8\", \"#ff9e27\", \"#56cc60\", \"#52d2ca\", \"#52689e\", \"#545454\", \"#9fe4f8\"], \"diverging\": [\"#cc0020\", \"#e77866\", \"#f6e7e1\", \"#d6e8ed\", \"#91bfd9\", \"#1d78b5\"], \"heatmap\": [\"#d6e8ed\", \"#cee0e5\", \"#91bfd9\", \"#549cc6\", \"#1d78b5\"]}, \"shape\": {\"stroke\": \"#30a2da\"}, \"axis\": {\"domainColor\": \"#cbcbcb\", \"grid\": true, \"gridColor\": \"#cbcbcb\", \"gridWidth\": 1, \"labelColor\": \"#999\", \"labelFontSize\": 10, \"titleColor\": \"#333\", \"tickColor\": \"#cbcbcb\", \"tickSize\": 10, \"titleFontSize\": 14, \"titlePadding\": 10, \"labelPadding\": 4}, \"axisBand\": {\"grid\": false}, \"legend\": {\"labelColor\": \"#333\", \"labelFontSize\": 11, \"padding\": 1, \"symbolSize\": 30, \"symbolType\": \"square\", \"titleColor\": \"#333\", \"titleFontSize\": 14, \"titlePadding\": 10}, \"style\": {\"arc\": {\"fill\": \"#30a2da\"}, \"area\": {\"fill\": \"#30a2da\"}, \"bar\": {\"fill\": \"#30a2da\", \"stroke\": null}, \"line\": {\"stroke\": \"#30a2da\", \"strokeWidth\": 2}, \"point\": {\"shape\": \"circle\"}, \"rect\": {\"fill\": \"#30a2da\"}, \"group-title\": {\"fontSize\": 24, \"fontWeight\": 600}}}, \"height\": 300, \"width\": 300, \"style\": \"cell\", \"padding\": 5}, {\"mode\": \"vega\"});\n",
       "</script>"
      ],
      "text/plain": [
       "alt.LayerChart(...)"
      ]
     },
     "metadata": {},
     "output_type": "display_data"
    }
   ],
   "source": [
    "# create scatterplot of state proportion overdue surveys as of 09-30-2023 vs. state surveyor positions per NH bed\n",
    "\n",
    "surveyor_beds_vs_prop_overdue_chart = alt.Chart(merge_df).mark_circle(color='#74372F').encode(alt.X('beds_per_position', title='Beds per Surveyor'), alt.Y('prop_overdue', title='Percent Overdue')).properties(title = alt.TitleParams(text='Percent Overdue by Beds per Surveyor', fontSize=15, dx=40))\n",
    "\n",
    "surveyor_beds_vs_prop_overdue_chart = surveyor_beds_vs_prop_overdue_chart + surveyor_beds_vs_prop_overdue_chart.transform_regression('beds_per_position','prop_overdue').mark_line(color='#74372F')\n",
    "surveyor_beds_vs_prop_overdue_chart = surveyor_beds_vs_prop_overdue_chart.properties(background='white')\n",
    "display(surveyor_beds_vs_prop_overdue_chart)\n",
    "surveyor_beds_vs_prop_overdue_chart.save('/Users/ghazalin/NH_inspections_static/images/surveyor_beds_vs_prop_overdue_scatter.svg')\n"
   ]
  },
  {
   "cell_type": "code",
   "execution_count": 140,
   "id": "283dca73-8e13-4769-bac6-82751d6ce822",
   "metadata": {},
   "outputs": [
    {
     "data": {
      "text/html": [
       "\n",
       "<style>\n",
       "  #altair-viz-761e35c204fb4611a4ea4787bd3aa729.vega-embed {\n",
       "    width: 100%;\n",
       "    display: flex;\n",
       "  }\n",
       "\n",
       "  #altair-viz-761e35c204fb4611a4ea4787bd3aa729.vega-embed details,\n",
       "  #altair-viz-761e35c204fb4611a4ea4787bd3aa729.vega-embed details summary {\n",
       "    position: relative;\n",
       "  }\n",
       "</style>\n",
       "<div id=\"altair-viz-761e35c204fb4611a4ea4787bd3aa729\"></div>\n",
       "<script type=\"text/javascript\">\n",
       "  var VEGA_DEBUG = (typeof VEGA_DEBUG == \"undefined\") ? {} : VEGA_DEBUG;\n",
       "  (function(spec, embedOpt){\n",
       "    let outputDiv = document.currentScript.previousElementSibling;\n",
       "    if (outputDiv.id !== \"altair-viz-761e35c204fb4611a4ea4787bd3aa729\") {\n",
       "      outputDiv = document.getElementById(\"altair-viz-761e35c204fb4611a4ea4787bd3aa729\");\n",
       "    }\n",
       "    const paths = {\n",
       "      \"vega\": \"https://cdn.jsdelivr.net/npm/vega@5?noext\",\n",
       "      \"vega-lib\": \"https://cdn.jsdelivr.net/npm/vega-lib?noext\",\n",
       "      \"vega-lite\": \"https://cdn.jsdelivr.net/npm/vega-lite@5.20.1?noext\",\n",
       "      \"vega-embed\": \"https://cdn.jsdelivr.net/npm/vega-embed@6?noext\",\n",
       "    };\n",
       "\n",
       "    function maybeLoadScript(lib, version) {\n",
       "      var key = `${lib.replace(\"-\", \"\")}_version`;\n",
       "      return (VEGA_DEBUG[key] == version) ?\n",
       "        Promise.resolve(paths[lib]) :\n",
       "        new Promise(function(resolve, reject) {\n",
       "          var s = document.createElement('script');\n",
       "          document.getElementsByTagName(\"head\")[0].appendChild(s);\n",
       "          s.async = true;\n",
       "          s.onload = () => {\n",
       "            VEGA_DEBUG[key] = version;\n",
       "            return resolve(paths[lib]);\n",
       "          };\n",
       "          s.onerror = () => reject(`Error loading script: ${paths[lib]}`);\n",
       "          s.src = paths[lib];\n",
       "        });\n",
       "    }\n",
       "\n",
       "    function showError(err) {\n",
       "      outputDiv.innerHTML = `<div class=\"error\" style=\"color:red;\">${err}</div>`;\n",
       "      throw err;\n",
       "    }\n",
       "\n",
       "    function displayChart(vegaEmbed) {\n",
       "      vegaEmbed(outputDiv, spec, embedOpt)\n",
       "        .catch(err => showError(`Javascript Error: ${err.message}<br>This usually means there's a typo in your chart specification. See the javascript console for the full traceback.`));\n",
       "    }\n",
       "\n",
       "    if(typeof define === \"function\" && define.amd) {\n",
       "      requirejs.config({paths});\n",
       "      require([\"vega-embed\"], displayChart, err => showError(`Error loading script: ${err.message}`));\n",
       "    } else {\n",
       "      maybeLoadScript(\"vega\", \"5\")\n",
       "        .then(() => maybeLoadScript(\"vega-lite\", \"5.20.1\"))\n",
       "        .then(() => maybeLoadScript(\"vega-embed\", \"6\"))\n",
       "        .catch(showError)\n",
       "        .then(() => displayChart(vegaEmbed));\n",
       "    }\n",
       "  })({\"$schema\": \"https://vega.github.io/schema/vega/v5.json\", \"data\": [{\"name\": \"source_0\", \"values\": [{\"state\": \"Alabama\", \"state_code\": \"AL\", \"#_NHs\": \"231\", \"#_beds\": \"48,851\", \"surveyor_positions\": 51, \"NH_per_position\": 4.5, \"beds_per_position\": 958, \"State\": \"AL\", \"overdue_ind\": 165, \"NH_count\": 224, \"prop_overdue\": 73}, {\"state\": \"Alaska\", \"state_code\": \"AK\", \"#_NHs\": \"20\", \"#_beds\": \"830\", \"surveyor_positions\": 14, \"NH_per_position\": 1.4, \"beds_per_position\": 59, \"State\": \"AK\", \"overdue_ind\": 0, \"NH_count\": 20, \"prop_overdue\": 0}, {\"state\": \"Arizona\", \"state_code\": \"AZ\", \"#_NHs\": \"143\", \"#_beds\": \"16,145\", \"surveyor_positions\": 35, \"NH_per_position\": 4.1, \"beds_per_position\": 461, \"State\": \"AZ\", \"overdue_ind\": 0, \"NH_count\": 142, \"prop_overdue\": 0}, {\"state\": \"Arkansas\", \"state_code\": \"AR\", \"#_NHs\": \"221\", \"#_beds\": \"25,700\", \"surveyor_positions\": 62, \"NH_per_position\": 3.6, \"beds_per_position\": 415, \"State\": \"AR\", \"overdue_ind\": 1, \"NH_count\": 218, \"prop_overdue\": 0}, {\"state\": \"California\", \"state_code\": \"CA\", \"#_NHs\": \"1,175\", \"#_beds\": \"117,148\", \"surveyor_positions\": 654, \"NH_per_position\": 1.8, \"beds_per_position\": 179, \"State\": \"CA\", \"overdue_ind\": 624, \"NH_count\": 1163, \"prop_overdue\": 53}, {\"state\": \"Colorado\", \"state_code\": \"CO\", \"#_NHs\": \"218\", \"#_beds\": \"19,980\", \"surveyor_positions\": 52, \"NH_per_position\": 4.2, \"beds_per_position\": 384, \"State\": \"CO\", \"overdue_ind\": 27, \"NH_count\": 211, \"prop_overdue\": 12}, {\"state\": \"Connecticut\", \"state_code\": \"CT\", \"#_NHs\": \"205\", \"#_beds\": \"23,790\", \"surveyor_positions\": 66, \"NH_per_position\": 3.1, \"beds_per_position\": 361, \"State\": \"CT\", \"overdue_ind\": 94, \"NH_count\": 194, \"prop_overdue\": 48}, {\"state\": \"Delaware\", \"state_code\": \"DE\", \"#_NHs\": \"44\", \"#_beds\": \"4,858\", \"surveyor_positions\": 21, \"NH_per_position\": 2.1, \"beds_per_position\": 231, \"State\": \"DE\", \"overdue_ind\": 16, \"NH_count\": 44, \"prop_overdue\": 36}, {\"state\": \"Florida\", \"state_code\": \"FL\", \"#_NHs\": \"698\", \"#_beds\": \"84,336\", \"surveyor_positions\": 229, \"NH_per_position\": 3.0, \"beds_per_position\": 368, \"State\": \"FL\", \"overdue_ind\": 153, \"NH_count\": 693, \"prop_overdue\": 22}, {\"state\": \"Georgia\", \"state_code\": \"GA\", \"#_NHs\": \"360\", \"#_beds\": \"39,659\", \"surveyor_positions\": 55, \"NH_per_position\": 6.5, \"beds_per_position\": 721, \"State\": \"GA\", \"overdue_ind\": 71, \"NH_count\": 355, \"prop_overdue\": 20}, {\"state\": \"Hawai\\u2019i\", \"state_code\": \"HI\", \"#_NHs\": \"45\", \"#_beds\": \"4323\", \"surveyor_positions\": 12, \"NH_per_position\": 3.8, \"beds_per_position\": 360, \"State\": \"HI\", \"overdue_ind\": 0, \"NH_count\": 42, \"prop_overdue\": 0}, {\"state\": \"Idaho\", \"state_code\": \"ID\", \"#_NHs\": \"80\", \"#_beds\": \"6031\", \"surveyor_positions\": 17, \"NH_per_position\": 4.7, \"beds_per_position\": 355, \"State\": \"ID\", \"overdue_ind\": 57, \"NH_count\": 80, \"prop_overdue\": 71}, {\"state\": \"Illinois\", \"state_code\": \"IL\", \"#_NHs\": \"704\", \"#_beds\": \"88597\", \"surveyor_positions\": 315, \"NH_per_position\": 2.2, \"beds_per_position\": 281, \"State\": \"IL\", \"overdue_ind\": 1, \"NH_count\": 679, \"prop_overdue\": 0}, {\"state\": \"Indiana\", \"state_code\": \"IN\", \"#_NHs\": \"524\", \"#_beds\": \"50821\", \"surveyor_positions\": 100, \"NH_per_position\": 5.2, \"beds_per_position\": 508, \"State\": \"IN\", \"overdue_ind\": 16, \"NH_count\": 511, \"prop_overdue\": 3}, {\"state\": \"Iowa\", \"state_code\": \"IA\", \"#_NHs\": \"414\", \"#_beds\": \"28314\", \"surveyor_positions\": 46, \"NH_per_position\": 9.0, \"beds_per_position\": 616, \"State\": \"IA\", \"overdue_ind\": 23, \"NH_count\": 402, \"prop_overdue\": 5}, {\"state\": \"Kansas\", \"state_code\": \"KS\", \"#_NHs\": \"323\", \"#_beds\": \"14925\", \"surveyor_positions\": 57, \"NH_per_position\": 5.7, \"beds_per_position\": 262, \"State\": \"KS\", \"overdue_ind\": 51, \"NH_count\": 304, \"prop_overdue\": 16}, {\"state\": \"Kentucky\", \"state_code\": \"KY\", \"#_NHs\": \"279\", \"#_beds\": \"26329\", \"surveyor_positions\": 95, \"NH_per_position\": 2.9, \"beds_per_position\": 277, \"State\": \"KY\", \"overdue_ind\": 230, \"NH_count\": 269, \"prop_overdue\": 85}, {\"state\": \"Louisiana\", \"state_code\": \"LA\", \"#_NHs\": \"276\", \"#_beds\": \"34598\", \"surveyor_positions\": 43, \"NH_per_position\": 6.4, \"beds_per_position\": 805, \"State\": \"LA\", \"overdue_ind\": 1, \"NH_count\": 267, \"prop_overdue\": 0}, {\"state\": \"Maine\", \"state_code\": \"ME\", \"#_NHs\": \"90\", \"#_beds\": \"6472\", \"surveyor_positions\": 15, \"NH_per_position\": 6.0, \"beds_per_position\": 432, \"State\": \"ME\", \"overdue_ind\": 17, \"NH_count\": 80, \"prop_overdue\": 21}, {\"state\": \"Maryland\", \"state_code\": \"MD\", \"#_NHs\": \"225\", \"#_beds\": \"27718\", \"surveyor_positions\": 59, \"NH_per_position\": 3.8, \"beds_per_position\": 470, \"State\": \"MD\", \"overdue_ind\": 165, \"NH_count\": 222, \"prop_overdue\": 74}, {\"state\": \"Massachusetts\", \"state_code\": \"MA\", \"#_NHs\": \"363\", \"#_beds\": \"41299\", \"surveyor_positions\": 82, \"NH_per_position\": 4.4, \"beds_per_position\": 504, \"State\": \"MA\", \"overdue_ind\": 42, \"NH_count\": 345, \"prop_overdue\": 12}, {\"state\": \"Michigan\", \"state_code\": \"MI\", \"#_NHs\": \"433\", \"#_beds\": \"45030\", \"surveyor_positions\": 93, \"NH_per_position\": 4.7, \"beds_per_position\": 484, \"State\": \"MI\", \"overdue_ind\": 7, \"NH_count\": 423, \"prop_overdue\": 1}, {\"state\": \"Minnesota\", \"state_code\": \"MN\", \"#_NHs\": \"349\", \"#_beds\": \"24920\", \"surveyor_positions\": 78, \"NH_per_position\": 4.5, \"beds_per_position\": 320, \"State\": \"MN\", \"overdue_ind\": 13, \"NH_count\": 343, \"prop_overdue\": 3}, {\"state\": \"Mississippi\", \"state_code\": \"MS\", \"#_NHs\": \"206\", \"#_beds\": \"17382\", \"surveyor_positions\": 35, \"NH_per_position\": 5.9, \"beds_per_position\": 497, \"State\": \"MS\", \"overdue_ind\": 41, \"NH_count\": 202, \"prop_overdue\": 20}, {\"state\": \"Missouri\", \"state_code\": \"MO\", \"#_NHs\": \"515\", \"#_beds\": \"53506\", \"surveyor_positions\": 190, \"NH_per_position\": 2.7, \"beds_per_position\": 282, \"State\": \"MO\", \"overdue_ind\": 132, \"NH_count\": 489, \"prop_overdue\": 26}, {\"state\": \"Montana\", \"state_code\": \"MT\", \"#_NHs\": \"62\", \"#_beds\": \"5248\", \"surveyor_positions\": 22, \"NH_per_position\": 2.8, \"beds_per_position\": 239, \"State\": \"MT\", \"overdue_ind\": 0, \"NH_count\": 59, \"prop_overdue\": 0}, {\"state\": \"Nebraska\", \"state_code\": \"NE\", \"#_NHs\": \"189\", \"#_beds\": \"14251\", \"surveyor_positions\": 33, \"NH_per_position\": 5.7, \"beds_per_position\": 432, \"State\": \"NE\", \"overdue_ind\": 0, \"NH_count\": 184, \"prop_overdue\": 0}, {\"state\": \"Nevada\", \"state_code\": \"NV\", \"#_NHs\": \"65\", \"#_beds\": \"6758\", \"surveyor_positions\": 19, \"NH_per_position\": 3.4, \"beds_per_position\": 356, \"State\": \"NV\", \"overdue_ind\": 1, \"NH_count\": 67, \"prop_overdue\": 1}, {\"state\": \"New Hampshire\", \"state_code\": \"NH\", \"#_NHs\": \"73\", \"#_beds\": \"7282\", \"surveyor_positions\": 17, \"NH_per_position\": 4.3, \"beds_per_position\": 428, \"State\": \"NH\", \"overdue_ind\": 0, \"NH_count\": 74, \"prop_overdue\": 0}, {\"state\": \"New Jersey\", \"state_code\": \"NJ\", \"#_NHs\": \"351\", \"#_beds\": \"51189\", \"surveyor_positions\": 68, \"NH_per_position\": 5.2, \"beds_per_position\": 752, \"State\": \"NJ\", \"overdue_ind\": 115, \"NH_count\": 346, \"prop_overdue\": 33}, {\"state\": \"New Mexico\", \"state_code\": \"NM\", \"#_NHs\": \"68\", \"#_beds\": \"6832\", \"surveyor_positions\": 27, \"NH_per_position\": 2.5, \"beds_per_position\": 253, \"State\": \"NM\", \"overdue_ind\": 0, \"NH_count\": 67, \"prop_overdue\": 0}, {\"state\": \"New York\", \"state_code\": \"NY\", \"#_NHs\": \"613\", \"#_beds\": \"114134\", \"surveyor_positions\": 115, \"NH_per_position\": 5.3, \"beds_per_position\": 993, \"State\": \"NY\", \"overdue_ind\": 249, \"NH_count\": 603, \"prop_overdue\": 41}, {\"state\": \"North Carolina\", \"state_code\": \"NC\", \"#_NHs\": \"424\", \"#_beds\": \"44206\", \"surveyor_positions\": 96, \"NH_per_position\": 4.4, \"beds_per_position\": 461, \"State\": \"NC\", \"overdue_ind\": 22, \"NH_count\": 419, \"prop_overdue\": 5}, {\"state\": \"North Dakota\", \"state_code\": \"ND\", \"#_NHs\": \"77\", \"#_beds\": \"5215\", \"surveyor_positions\": 25, \"NH_per_position\": 3.1, \"beds_per_position\": 209, \"State\": \"ND\", \"overdue_ind\": 0, \"NH_count\": 75, \"prop_overdue\": 0}, {\"state\": \"Ohio\", \"state_code\": \"OH\", \"#_NHs\": \"950\", \"#_beds\": \"84624\", \"surveyor_positions\": 118, \"NH_per_position\": 8.0, \"beds_per_position\": 717, \"State\": \"OH\", \"overdue_ind\": 329, \"NH_count\": 927, \"prop_overdue\": 35}, {\"state\": \"Oklahoma\", \"state_code\": \"OK\", \"#_NHs\": \"402\", \"#_beds\": \"31547\", \"surveyor_positions\": 60, \"NH_per_position\": 6.7, \"beds_per_position\": 526, \"State\": \"OK\", \"overdue_ind\": 11, \"NH_count\": 287, \"prop_overdue\": 3}, {\"state\": \"Oregon\", \"state_code\": \"OR\", \"#_NHs\": \"129\", \"#_beds\": \"10541\", \"surveyor_positions\": 52, \"NH_per_position\": 2.5, \"beds_per_position\": 203, \"State\": \"OR\", \"overdue_ind\": 17, \"NH_count\": 128, \"prop_overdue\": 13}, {\"state\": \"Pennsylvania\", \"state_code\": \"PA\", \"#_NHs\": \"678\", \"#_beds\": \"86624\", \"surveyor_positions\": 120, \"NH_per_position\": 5.7, \"beds_per_position\": 722, \"State\": \"PA\", \"overdue_ind\": 0, \"NH_count\": 668, \"prop_overdue\": 0}, {\"state\": \"Rhode Island\", \"state_code\": \"RI\", \"#_NHs\": \"75\", \"#_beds\": \"8351\", \"surveyor_positions\": 30, \"NH_per_position\": 2.5, \"beds_per_position\": 278, \"State\": \"RI\", \"overdue_ind\": 0, \"NH_count\": 74, \"prop_overdue\": 0}, {\"state\": \"South Carolina\", \"state_code\": \"SC\", \"#_NHs\": \"188\", \"#_beds\": \"20640\", \"surveyor_positions\": 16, \"NH_per_position\": 11.8, \"beds_per_position\": 1290, \"State\": \"SC\", \"overdue_ind\": 65, \"NH_count\": 189, \"prop_overdue\": 34}, {\"state\": \"South Dakota\", \"state_code\": \"SD\", \"#_NHs\": \"98\", \"#_beds\": \"7361\", \"surveyor_positions\": 23, \"NH_per_position\": 4.3, \"beds_per_position\": 320, \"State\": \"SD\", \"overdue_ind\": 1, \"NH_count\": 96, \"prop_overdue\": 1}, {\"state\": \"Tennessee\", \"state_code\": \"TN\", \"#_NHs\": \"313\", \"#_beds\": \"35395\", \"surveyor_positions\": 110, \"NH_per_position\": 2.8, \"beds_per_position\": 322, \"State\": \"TN\", \"overdue_ind\": 186, \"NH_count\": 302, \"prop_overdue\": 61}, {\"state\": \"Texas\", \"state_code\": \"TX\", \"#_NHs\": \"1204\", \"#_beds\": \"136261\", \"surveyor_positions\": 350, \"NH_per_position\": 3.4, \"beds_per_position\": 389, \"State\": \"TX\", \"overdue_ind\": 2, \"NH_count\": 1182, \"prop_overdue\": 0}, {\"state\": \"Utah\", \"state_code\": \"UT\", \"#_NHs\": \"98\", \"#_beds\": \"8472\", \"surveyor_positions\": 16, \"NH_per_position\": 6.1, \"beds_per_position\": 530, \"State\": \"UT\", \"overdue_ind\": 30, \"NH_count\": 98, \"prop_overdue\": 30}, {\"state\": \"Vermont\", \"state_code\": \"VT\", \"#_NHs\": \"35\", \"#_beds\": \"2954\", \"surveyor_positions\": 16, \"NH_per_position\": 2.2, \"beds_per_position\": 185, \"State\": \"VT\", \"overdue_ind\": 0, \"NH_count\": 34, \"prop_overdue\": 0}, {\"state\": \"Virginia\", \"state_code\": \"VA\", \"#_NHs\": \"288\", \"#_beds\": \"32505\", \"surveyor_positions\": 45, \"NH_per_position\": 6.4, \"beds_per_position\": 722, \"State\": \"VA\", \"overdue_ind\": 122, \"NH_count\": 289, \"prop_overdue\": 42}, {\"state\": \"Washington\", \"state_code\": \"WA\", \"#_NHs\": \"200\", \"#_beds\": \"19296\", \"surveyor_positions\": 107, \"NH_per_position\": 1.9, \"beds_per_position\": 180, \"State\": \"WA\", \"overdue_ind\": 6, \"NH_count\": 193, \"prop_overdue\": 3}, {\"state\": \"West Virginia\", \"state_code\": \"WV\", \"#_NHs\": \"123\", \"#_beds\": \"10653\", \"surveyor_positions\": 24, \"NH_per_position\": 5.1, \"beds_per_position\": 444, \"State\": \"WV\", \"overdue_ind\": 12, \"NH_count\": 122, \"prop_overdue\": 9}, {\"state\": \"Wisconsin\", \"state_code\": \"WI\", \"#_NHs\": \"346\", \"#_beds\": \"26562\", \"surveyor_positions\": 64, \"NH_per_position\": 5.4, \"beds_per_position\": 415, \"State\": \"WI\", \"overdue_ind\": 0, \"NH_count\": 324, \"prop_overdue\": 0}, {\"state\": \"Wyoming\", \"state_code\": \"WY\", \"#_NHs\": \"35\", \"#_beds\": \"2605\", \"surveyor_positions\": 11, \"NH_per_position\": 3.2, \"beds_per_position\": 237, \"State\": \"WY\", \"overdue_ind\": 0, \"NH_count\": 35, \"prop_overdue\": 0}]}, {\"name\": \"data_0\", \"values\": [{\"NH_per_position\": 4.5, \"prop_overdue\": 73}, {\"NH_per_position\": 1.4, \"prop_overdue\": 0}, {\"NH_per_position\": 4.1, \"prop_overdue\": 0}, {\"NH_per_position\": 3.6, \"prop_overdue\": 0}, {\"NH_per_position\": 1.8, \"prop_overdue\": 53}, {\"NH_per_position\": 4.2, \"prop_overdue\": 12}, {\"NH_per_position\": 3.1, \"prop_overdue\": 48}, {\"NH_per_position\": 2.1, \"prop_overdue\": 36}, {\"NH_per_position\": 3.0, \"prop_overdue\": 22}, {\"NH_per_position\": 6.5, \"prop_overdue\": 20}, {\"NH_per_position\": 3.8, \"prop_overdue\": 0}, {\"NH_per_position\": 4.7, \"prop_overdue\": 71}, {\"NH_per_position\": 2.2, \"prop_overdue\": 0}, {\"NH_per_position\": 5.2, \"prop_overdue\": 3}, {\"NH_per_position\": 9.0, \"prop_overdue\": 5}, {\"NH_per_position\": 5.7, \"prop_overdue\": 16}, {\"NH_per_position\": 2.9, \"prop_overdue\": 85}, {\"NH_per_position\": 6.4, \"prop_overdue\": 0}, {\"NH_per_position\": 6.0, \"prop_overdue\": 21}, {\"NH_per_position\": 3.8, \"prop_overdue\": 74}, {\"NH_per_position\": 4.4, \"prop_overdue\": 12}, {\"NH_per_position\": 4.7, \"prop_overdue\": 1}, {\"NH_per_position\": 4.5, \"prop_overdue\": 3}, {\"NH_per_position\": 5.9, \"prop_overdue\": 20}, {\"NH_per_position\": 2.7, \"prop_overdue\": 26}, {\"NH_per_position\": 2.8, \"prop_overdue\": 0}, {\"NH_per_position\": 5.7, \"prop_overdue\": 0}, {\"NH_per_position\": 3.4, \"prop_overdue\": 1}, {\"NH_per_position\": 4.3, \"prop_overdue\": 0}, {\"NH_per_position\": 5.2, \"prop_overdue\": 33}, {\"NH_per_position\": 2.5, \"prop_overdue\": 0}, {\"NH_per_position\": 5.3, \"prop_overdue\": 41}, {\"NH_per_position\": 4.4, \"prop_overdue\": 5}, {\"NH_per_position\": 3.1, \"prop_overdue\": 0}, {\"NH_per_position\": 8.0, \"prop_overdue\": 35}, {\"NH_per_position\": 6.7, \"prop_overdue\": 3}, {\"NH_per_position\": 2.5, \"prop_overdue\": 13}, {\"NH_per_position\": 5.7, \"prop_overdue\": 0}, {\"NH_per_position\": 2.5, \"prop_overdue\": 0}, {\"NH_per_position\": 11.8, \"prop_overdue\": 34}, {\"NH_per_position\": 4.3, \"prop_overdue\": 1}, {\"NH_per_position\": 2.8, \"prop_overdue\": 61}, {\"NH_per_position\": 3.4, \"prop_overdue\": 0}, {\"NH_per_position\": 6.1, \"prop_overdue\": 30}, {\"NH_per_position\": 2.2, \"prop_overdue\": 0}, {\"NH_per_position\": 6.4, \"prop_overdue\": 42}, {\"NH_per_position\": 1.9, \"prop_overdue\": 3}, {\"NH_per_position\": 5.1, \"prop_overdue\": 9}, {\"NH_per_position\": 5.4, \"prop_overdue\": 0}, {\"NH_per_position\": 3.2, \"prop_overdue\": 0}]}, {\"name\": \"data_1\", \"source\": \"source_0\", \"transform\": [{\"type\": \"regression\", \"as\": [\"NH_per_position\", \"prop_overdue\"], \"x\": \"NH_per_position\", \"y\": \"prop_overdue\"}, {\"type\": \"project\", \"fields\": [\"NH_per_position\", \"prop_overdue\"]}]}], \"marks\": [{\"type\": \"symbol\", \"name\": \"layer_0_marks\", \"from\": {\"data\": \"data_0\"}, \"encode\": {\"update\": {\"x\": {\"field\": \"NH_per_position\", \"scale\": \"x\"}, \"fill\": {\"value\": \"#74372F\"}, \"y\": {\"field\": \"prop_overdue\", \"scale\": \"y\"}, \"opacity\": {\"value\": 0.7}}}, \"style\": [\"point\"]}, {\"type\": \"line\", \"name\": \"layer_1_marks\", \"from\": {\"data\": \"data_1\"}, \"sort\": {\"field\": \"x\"}, \"encode\": {\"update\": {\"y\": {\"field\": \"prop_overdue\", \"scale\": \"y\"}, \"x\": {\"field\": \"NH_per_position\", \"scale\": \"x\"}, \"defined\": {\"signal\": \"isValid(datum[\\\"NH_per_position\\\"]) && isFinite(+datum[\\\"NH_per_position\\\"]) && isValid(datum[\\\"prop_overdue\\\"]) && isFinite(+datum[\\\"prop_overdue\\\"])\"}, \"stroke\": {\"value\": \"#74372F\"}, \"strokeWidth\": {\"value\": 2}}}, \"style\": [\"line\"]}], \"scales\": [{\"name\": \"x\", \"type\": \"linear\", \"domain\": {\"fields\": [{\"data\": \"data_0\", \"field\": \"NH_per_position\"}, {\"data\": \"data_1\", \"field\": \"NH_per_position\"}]}, \"range\": [0, {\"signal\": \"width\"}], \"nice\": true, \"zero\": true}, {\"name\": \"y\", \"type\": \"linear\", \"domain\": {\"fields\": [{\"data\": \"data_0\", \"field\": \"prop_overdue\"}, {\"data\": \"data_1\", \"field\": \"prop_overdue\"}]}, \"range\": [{\"signal\": \"height\"}, 0], \"nice\": true, \"zero\": true}], \"axes\": [{\"scale\": \"x\", \"aria\": false, \"maxExtent\": 0, \"minExtent\": 0, \"domain\": false, \"tickCount\": {\"signal\": \"ceil(width/40)\"}, \"zindex\": 0, \"orient\": \"bottom\", \"gridScale\": \"y\", \"labels\": false, \"grid\": true, \"ticks\": false}, {\"scale\": \"y\", \"grid\": true, \"orient\": \"left\", \"ticks\": false, \"domain\": false, \"gridScale\": \"x\", \"zindex\": 0, \"minExtent\": 0, \"aria\": false, \"tickCount\": {\"signal\": \"ceil(height/40)\"}, \"maxExtent\": 0, \"labels\": false}, {\"scale\": \"x\", \"labelFlush\": true, \"tickCount\": {\"signal\": \"ceil(width/40)\"}, \"grid\": false, \"title\": \"Facilities per Surveyor\", \"labelOverlap\": true, \"zindex\": 0, \"orient\": \"bottom\"}, {\"scale\": \"y\", \"grid\": false, \"labelOverlap\": true, \"zindex\": 0, \"title\": \"Percent Overdue\", \"orient\": \"left\", \"tickCount\": {\"signal\": \"ceil(height/40)\"}}], \"title\": {\"text\": \"Percent Overdue by Facilities per Surveyor\", \"anchor\": \"start\", \"fontSize\": 15, \"dx\": 20, \"offset\": 20}, \"usermeta\": {\"embedOptions\": {\"theme\": \"fivethirtyeight\"}}, \"padding\": 5, \"height\": 300, \"background\": \"white\", \"width\": 300, \"style\": \"cell\", \"config\": {\"group\": {\"fill\": \"#f0f0f0\"}, \"path\": {\"stroke\": \"#30a2da\", \"strokeWidth\": 0.5}, \"range\": {\"category\": [\"#30a2da\", \"#fc4f30\", \"#e5ae38\", \"#6d904f\", \"#8b8b8b\", \"#b96db8\", \"#ff9e27\", \"#56cc60\", \"#52d2ca\", \"#52689e\", \"#545454\", \"#9fe4f8\"], \"diverging\": [\"#cc0020\", \"#e77866\", \"#f6e7e1\", \"#d6e8ed\", \"#91bfd9\", \"#1d78b5\"], \"heatmap\": [\"#d6e8ed\", \"#cee0e5\", \"#91bfd9\", \"#549cc6\", \"#1d78b5\"]}, \"shape\": {\"stroke\": \"#30a2da\"}, \"axis\": {\"domainColor\": \"#cbcbcb\", \"grid\": true, \"gridColor\": \"#cbcbcb\", \"gridWidth\": 1, \"labelColor\": \"#999\", \"labelFontSize\": 10, \"titleColor\": \"#333\", \"tickColor\": \"#cbcbcb\", \"tickSize\": 10, \"titleFontSize\": 14, \"titlePadding\": 10, \"labelPadding\": 4}, \"axisBand\": {\"grid\": false}, \"legend\": {\"labelColor\": \"#333\", \"labelFontSize\": 11, \"padding\": 1, \"symbolSize\": 30, \"symbolType\": \"square\", \"titleColor\": \"#333\", \"titleFontSize\": 14, \"titlePadding\": 10}, \"style\": {\"arc\": {\"fill\": \"#30a2da\"}, \"area\": {\"fill\": \"#30a2da\"}, \"bar\": {\"fill\": \"#30a2da\", \"stroke\": null}, \"line\": {\"stroke\": \"#30a2da\", \"strokeWidth\": 2}, \"point\": {\"shape\": \"circle\"}, \"rect\": {\"fill\": \"#30a2da\"}, \"group-title\": {\"fontSize\": 24, \"fontWeight\": 600}}}}, {\"mode\": \"vega\"});\n",
       "</script>"
      ],
      "text/plain": [
       "alt.LayerChart(...)"
      ]
     },
     "metadata": {},
     "output_type": "display_data"
    }
   ],
   "source": [
    "NH_per_position_vs_prop_overdue_chart = alt.Chart(merge_df).mark_point(color='#74372F').encode(alt.X('NH_per_position',title='Facilities per Surveyor'),alt.Y('prop_overdue', title='Percent Overdue')\n",
    "                                                                                              ).properties(title = alt.TitleParams(text='Percent Overdue by Facilities per Surveyor', fontSize=15, dx=20))\n",
    "\n",
    "NH_per_position_vs_prop_overdue_chart = NH_per_position_vs_prop_overdue_chart + NH_per_position_vs_prop_overdue_chart.transform_regression('NH_per_position','prop_overdue').mark_line(color='#74372F')\n",
    "NH_per_position_vs_prop_overdue_chart = NH_per_position_vs_prop_overdue_chart.properties(background='white')\n",
    "display(NH_per_position_vs_prop_overdue_chart)\n",
    "NH_per_position_vs_prop_overdue_chart.save('/Users/ghazalin/NH_inspections_static/images/NH_per_position_vs_prop_overdue_scatter.svg')"
   ]
  },
  {
   "cell_type": "code",
   "execution_count": 141,
   "id": "be509d0a-7498-4678-b5ff-da7bc086e031",
   "metadata": {},
   "outputs": [
    {
     "data": {
      "text/html": [
       "\n",
       "<style>\n",
       "  #altair-viz-5bb8c1d16514423d905291facfa0d85f.vega-embed {\n",
       "    width: 100%;\n",
       "    display: flex;\n",
       "  }\n",
       "\n",
       "  #altair-viz-5bb8c1d16514423d905291facfa0d85f.vega-embed details,\n",
       "  #altair-viz-5bb8c1d16514423d905291facfa0d85f.vega-embed details summary {\n",
       "    position: relative;\n",
       "  }\n",
       "</style>\n",
       "<div id=\"altair-viz-5bb8c1d16514423d905291facfa0d85f\"></div>\n",
       "<script type=\"text/javascript\">\n",
       "  var VEGA_DEBUG = (typeof VEGA_DEBUG == \"undefined\") ? {} : VEGA_DEBUG;\n",
       "  (function(spec, embedOpt){\n",
       "    let outputDiv = document.currentScript.previousElementSibling;\n",
       "    if (outputDiv.id !== \"altair-viz-5bb8c1d16514423d905291facfa0d85f\") {\n",
       "      outputDiv = document.getElementById(\"altair-viz-5bb8c1d16514423d905291facfa0d85f\");\n",
       "    }\n",
       "    const paths = {\n",
       "      \"vega\": \"https://cdn.jsdelivr.net/npm/vega@5?noext\",\n",
       "      \"vega-lib\": \"https://cdn.jsdelivr.net/npm/vega-lib?noext\",\n",
       "      \"vega-lite\": \"https://cdn.jsdelivr.net/npm/vega-lite@5.20.1?noext\",\n",
       "      \"vega-embed\": \"https://cdn.jsdelivr.net/npm/vega-embed@6?noext\",\n",
       "    };\n",
       "\n",
       "    function maybeLoadScript(lib, version) {\n",
       "      var key = `${lib.replace(\"-\", \"\")}_version`;\n",
       "      return (VEGA_DEBUG[key] == version) ?\n",
       "        Promise.resolve(paths[lib]) :\n",
       "        new Promise(function(resolve, reject) {\n",
       "          var s = document.createElement('script');\n",
       "          document.getElementsByTagName(\"head\")[0].appendChild(s);\n",
       "          s.async = true;\n",
       "          s.onload = () => {\n",
       "            VEGA_DEBUG[key] = version;\n",
       "            return resolve(paths[lib]);\n",
       "          };\n",
       "          s.onerror = () => reject(`Error loading script: ${paths[lib]}`);\n",
       "          s.src = paths[lib];\n",
       "        });\n",
       "    }\n",
       "\n",
       "    function showError(err) {\n",
       "      outputDiv.innerHTML = `<div class=\"error\" style=\"color:red;\">${err}</div>`;\n",
       "      throw err;\n",
       "    }\n",
       "\n",
       "    function displayChart(vegaEmbed) {\n",
       "      vegaEmbed(outputDiv, spec, embedOpt)\n",
       "        .catch(err => showError(`Javascript Error: ${err.message}<br>This usually means there's a typo in your chart specification. See the javascript console for the full traceback.`));\n",
       "    }\n",
       "\n",
       "    if(typeof define === \"function\" && define.amd) {\n",
       "      requirejs.config({paths});\n",
       "      require([\"vega-embed\"], displayChart, err => showError(`Error loading script: ${err.message}`));\n",
       "    } else {\n",
       "      maybeLoadScript(\"vega\", \"5\")\n",
       "        .then(() => maybeLoadScript(\"vega-lite\", \"5.20.1\"))\n",
       "        .then(() => maybeLoadScript(\"vega-embed\", \"6\"))\n",
       "        .catch(showError)\n",
       "        .then(() => displayChart(vegaEmbed));\n",
       "    }\n",
       "  })({\"$schema\": \"https://vega.github.io/schema/vega/v5.json\", \"data\": [{\"name\": \"source_0\", \"values\": [{\"state\": \"Alabama\", \"state_code\": \"AL\", \"#_NHs\": \"231\", \"#_beds\": \"48,851\", \"surveyor_positions\": 51, \"NH_per_position\": 4.5, \"beds_per_position\": 958, \"State\": \"AL\", \"overdue_ind\": 165, \"NH_count\": 224, \"prop_overdue\": 73}, {\"state\": \"Alaska\", \"state_code\": \"AK\", \"#_NHs\": \"20\", \"#_beds\": \"830\", \"surveyor_positions\": 14, \"NH_per_position\": 1.4, \"beds_per_position\": 59, \"State\": \"AK\", \"overdue_ind\": 0, \"NH_count\": 20, \"prop_overdue\": 0}, {\"state\": \"Arizona\", \"state_code\": \"AZ\", \"#_NHs\": \"143\", \"#_beds\": \"16,145\", \"surveyor_positions\": 35, \"NH_per_position\": 4.1, \"beds_per_position\": 461, \"State\": \"AZ\", \"overdue_ind\": 0, \"NH_count\": 142, \"prop_overdue\": 0}, {\"state\": \"Arkansas\", \"state_code\": \"AR\", \"#_NHs\": \"221\", \"#_beds\": \"25,700\", \"surveyor_positions\": 62, \"NH_per_position\": 3.6, \"beds_per_position\": 415, \"State\": \"AR\", \"overdue_ind\": 1, \"NH_count\": 218, \"prop_overdue\": 0}, {\"state\": \"California\", \"state_code\": \"CA\", \"#_NHs\": \"1,175\", \"#_beds\": \"117,148\", \"surveyor_positions\": 654, \"NH_per_position\": 1.8, \"beds_per_position\": 179, \"State\": \"CA\", \"overdue_ind\": 624, \"NH_count\": 1163, \"prop_overdue\": 53}, {\"state\": \"Colorado\", \"state_code\": \"CO\", \"#_NHs\": \"218\", \"#_beds\": \"19,980\", \"surveyor_positions\": 52, \"NH_per_position\": 4.2, \"beds_per_position\": 384, \"State\": \"CO\", \"overdue_ind\": 27, \"NH_count\": 211, \"prop_overdue\": 12}, {\"state\": \"Connecticut\", \"state_code\": \"CT\", \"#_NHs\": \"205\", \"#_beds\": \"23,790\", \"surveyor_positions\": 66, \"NH_per_position\": 3.1, \"beds_per_position\": 361, \"State\": \"CT\", \"overdue_ind\": 94, \"NH_count\": 194, \"prop_overdue\": 48}, {\"state\": \"Delaware\", \"state_code\": \"DE\", \"#_NHs\": \"44\", \"#_beds\": \"4,858\", \"surveyor_positions\": 21, \"NH_per_position\": 2.1, \"beds_per_position\": 231, \"State\": \"DE\", \"overdue_ind\": 16, \"NH_count\": 44, \"prop_overdue\": 36}, {\"state\": \"Florida\", \"state_code\": \"FL\", \"#_NHs\": \"698\", \"#_beds\": \"84,336\", \"surveyor_positions\": 229, \"NH_per_position\": 3.0, \"beds_per_position\": 368, \"State\": \"FL\", \"overdue_ind\": 153, \"NH_count\": 693, \"prop_overdue\": 22}, {\"state\": \"Georgia\", \"state_code\": \"GA\", \"#_NHs\": \"360\", \"#_beds\": \"39,659\", \"surveyor_positions\": 55, \"NH_per_position\": 6.5, \"beds_per_position\": 721, \"State\": \"GA\", \"overdue_ind\": 71, \"NH_count\": 355, \"prop_overdue\": 20}, {\"state\": \"Hawai\\u2019i\", \"state_code\": \"HI\", \"#_NHs\": \"45\", \"#_beds\": \"4323\", \"surveyor_positions\": 12, \"NH_per_position\": 3.8, \"beds_per_position\": 360, \"State\": \"HI\", \"overdue_ind\": 0, \"NH_count\": 42, \"prop_overdue\": 0}, {\"state\": \"Idaho\", \"state_code\": \"ID\", \"#_NHs\": \"80\", \"#_beds\": \"6031\", \"surveyor_positions\": 17, \"NH_per_position\": 4.7, \"beds_per_position\": 355, \"State\": \"ID\", \"overdue_ind\": 57, \"NH_count\": 80, \"prop_overdue\": 71}, {\"state\": \"Illinois\", \"state_code\": \"IL\", \"#_NHs\": \"704\", \"#_beds\": \"88597\", \"surveyor_positions\": 315, \"NH_per_position\": 2.2, \"beds_per_position\": 281, \"State\": \"IL\", \"overdue_ind\": 1, \"NH_count\": 679, \"prop_overdue\": 0}, {\"state\": \"Indiana\", \"state_code\": \"IN\", \"#_NHs\": \"524\", \"#_beds\": \"50821\", \"surveyor_positions\": 100, \"NH_per_position\": 5.2, \"beds_per_position\": 508, \"State\": \"IN\", \"overdue_ind\": 16, \"NH_count\": 511, \"prop_overdue\": 3}, {\"state\": \"Iowa\", \"state_code\": \"IA\", \"#_NHs\": \"414\", \"#_beds\": \"28314\", \"surveyor_positions\": 46, \"NH_per_position\": 9.0, \"beds_per_position\": 616, \"State\": \"IA\", \"overdue_ind\": 23, \"NH_count\": 402, \"prop_overdue\": 5}, {\"state\": \"Kansas\", \"state_code\": \"KS\", \"#_NHs\": \"323\", \"#_beds\": \"14925\", \"surveyor_positions\": 57, \"NH_per_position\": 5.7, \"beds_per_position\": 262, \"State\": \"KS\", \"overdue_ind\": 51, \"NH_count\": 304, \"prop_overdue\": 16}, {\"state\": \"Kentucky\", \"state_code\": \"KY\", \"#_NHs\": \"279\", \"#_beds\": \"26329\", \"surveyor_positions\": 95, \"NH_per_position\": 2.9, \"beds_per_position\": 277, \"State\": \"KY\", \"overdue_ind\": 230, \"NH_count\": 269, \"prop_overdue\": 85}, {\"state\": \"Louisiana\", \"state_code\": \"LA\", \"#_NHs\": \"276\", \"#_beds\": \"34598\", \"surveyor_positions\": 43, \"NH_per_position\": 6.4, \"beds_per_position\": 805, \"State\": \"LA\", \"overdue_ind\": 1, \"NH_count\": 267, \"prop_overdue\": 0}, {\"state\": \"Maine\", \"state_code\": \"ME\", \"#_NHs\": \"90\", \"#_beds\": \"6472\", \"surveyor_positions\": 15, \"NH_per_position\": 6.0, \"beds_per_position\": 432, \"State\": \"ME\", \"overdue_ind\": 17, \"NH_count\": 80, \"prop_overdue\": 21}, {\"state\": \"Maryland\", \"state_code\": \"MD\", \"#_NHs\": \"225\", \"#_beds\": \"27718\", \"surveyor_positions\": 59, \"NH_per_position\": 3.8, \"beds_per_position\": 470, \"State\": \"MD\", \"overdue_ind\": 165, \"NH_count\": 222, \"prop_overdue\": 74}, {\"state\": \"Massachusetts\", \"state_code\": \"MA\", \"#_NHs\": \"363\", \"#_beds\": \"41299\", \"surveyor_positions\": 82, \"NH_per_position\": 4.4, \"beds_per_position\": 504, \"State\": \"MA\", \"overdue_ind\": 42, \"NH_count\": 345, \"prop_overdue\": 12}, {\"state\": \"Michigan\", \"state_code\": \"MI\", \"#_NHs\": \"433\", \"#_beds\": \"45030\", \"surveyor_positions\": 93, \"NH_per_position\": 4.7, \"beds_per_position\": 484, \"State\": \"MI\", \"overdue_ind\": 7, \"NH_count\": 423, \"prop_overdue\": 1}, {\"state\": \"Minnesota\", \"state_code\": \"MN\", \"#_NHs\": \"349\", \"#_beds\": \"24920\", \"surveyor_positions\": 78, \"NH_per_position\": 4.5, \"beds_per_position\": 320, \"State\": \"MN\", \"overdue_ind\": 13, \"NH_count\": 343, \"prop_overdue\": 3}, {\"state\": \"Mississippi\", \"state_code\": \"MS\", \"#_NHs\": \"206\", \"#_beds\": \"17382\", \"surveyor_positions\": 35, \"NH_per_position\": 5.9, \"beds_per_position\": 497, \"State\": \"MS\", \"overdue_ind\": 41, \"NH_count\": 202, \"prop_overdue\": 20}, {\"state\": \"Missouri\", \"state_code\": \"MO\", \"#_NHs\": \"515\", \"#_beds\": \"53506\", \"surveyor_positions\": 190, \"NH_per_position\": 2.7, \"beds_per_position\": 282, \"State\": \"MO\", \"overdue_ind\": 132, \"NH_count\": 489, \"prop_overdue\": 26}, {\"state\": \"Montana\", \"state_code\": \"MT\", \"#_NHs\": \"62\", \"#_beds\": \"5248\", \"surveyor_positions\": 22, \"NH_per_position\": 2.8, \"beds_per_position\": 239, \"State\": \"MT\", \"overdue_ind\": 0, \"NH_count\": 59, \"prop_overdue\": 0}, {\"state\": \"Nebraska\", \"state_code\": \"NE\", \"#_NHs\": \"189\", \"#_beds\": \"14251\", \"surveyor_positions\": 33, \"NH_per_position\": 5.7, \"beds_per_position\": 432, \"State\": \"NE\", \"overdue_ind\": 0, \"NH_count\": 184, \"prop_overdue\": 0}, {\"state\": \"Nevada\", \"state_code\": \"NV\", \"#_NHs\": \"65\", \"#_beds\": \"6758\", \"surveyor_positions\": 19, \"NH_per_position\": 3.4, \"beds_per_position\": 356, \"State\": \"NV\", \"overdue_ind\": 1, \"NH_count\": 67, \"prop_overdue\": 1}, {\"state\": \"New Hampshire\", \"state_code\": \"NH\", \"#_NHs\": \"73\", \"#_beds\": \"7282\", \"surveyor_positions\": 17, \"NH_per_position\": 4.3, \"beds_per_position\": 428, \"State\": \"NH\", \"overdue_ind\": 0, \"NH_count\": 74, \"prop_overdue\": 0}, {\"state\": \"New Jersey\", \"state_code\": \"NJ\", \"#_NHs\": \"351\", \"#_beds\": \"51189\", \"surveyor_positions\": 68, \"NH_per_position\": 5.2, \"beds_per_position\": 752, \"State\": \"NJ\", \"overdue_ind\": 115, \"NH_count\": 346, \"prop_overdue\": 33}, {\"state\": \"New Mexico\", \"state_code\": \"NM\", \"#_NHs\": \"68\", \"#_beds\": \"6832\", \"surveyor_positions\": 27, \"NH_per_position\": 2.5, \"beds_per_position\": 253, \"State\": \"NM\", \"overdue_ind\": 0, \"NH_count\": 67, \"prop_overdue\": 0}, {\"state\": \"New York\", \"state_code\": \"NY\", \"#_NHs\": \"613\", \"#_beds\": \"114134\", \"surveyor_positions\": 115, \"NH_per_position\": 5.3, \"beds_per_position\": 993, \"State\": \"NY\", \"overdue_ind\": 249, \"NH_count\": 603, \"prop_overdue\": 41}, {\"state\": \"North Carolina\", \"state_code\": \"NC\", \"#_NHs\": \"424\", \"#_beds\": \"44206\", \"surveyor_positions\": 96, \"NH_per_position\": 4.4, \"beds_per_position\": 461, \"State\": \"NC\", \"overdue_ind\": 22, \"NH_count\": 419, \"prop_overdue\": 5}, {\"state\": \"North Dakota\", \"state_code\": \"ND\", \"#_NHs\": \"77\", \"#_beds\": \"5215\", \"surveyor_positions\": 25, \"NH_per_position\": 3.1, \"beds_per_position\": 209, \"State\": \"ND\", \"overdue_ind\": 0, \"NH_count\": 75, \"prop_overdue\": 0}, {\"state\": \"Ohio\", \"state_code\": \"OH\", \"#_NHs\": \"950\", \"#_beds\": \"84624\", \"surveyor_positions\": 118, \"NH_per_position\": 8.0, \"beds_per_position\": 717, \"State\": \"OH\", \"overdue_ind\": 329, \"NH_count\": 927, \"prop_overdue\": 35}, {\"state\": \"Oklahoma\", \"state_code\": \"OK\", \"#_NHs\": \"402\", \"#_beds\": \"31547\", \"surveyor_positions\": 60, \"NH_per_position\": 6.7, \"beds_per_position\": 526, \"State\": \"OK\", \"overdue_ind\": 11, \"NH_count\": 287, \"prop_overdue\": 3}, {\"state\": \"Oregon\", \"state_code\": \"OR\", \"#_NHs\": \"129\", \"#_beds\": \"10541\", \"surveyor_positions\": 52, \"NH_per_position\": 2.5, \"beds_per_position\": 203, \"State\": \"OR\", \"overdue_ind\": 17, \"NH_count\": 128, \"prop_overdue\": 13}, {\"state\": \"Pennsylvania\", \"state_code\": \"PA\", \"#_NHs\": \"678\", \"#_beds\": \"86624\", \"surveyor_positions\": 120, \"NH_per_position\": 5.7, \"beds_per_position\": 722, \"State\": \"PA\", \"overdue_ind\": 0, \"NH_count\": 668, \"prop_overdue\": 0}, {\"state\": \"Rhode Island\", \"state_code\": \"RI\", \"#_NHs\": \"75\", \"#_beds\": \"8351\", \"surveyor_positions\": 30, \"NH_per_position\": 2.5, \"beds_per_position\": 278, \"State\": \"RI\", \"overdue_ind\": 0, \"NH_count\": 74, \"prop_overdue\": 0}, {\"state\": \"South Carolina\", \"state_code\": \"SC\", \"#_NHs\": \"188\", \"#_beds\": \"20640\", \"surveyor_positions\": 16, \"NH_per_position\": 11.8, \"beds_per_position\": 1290, \"State\": \"SC\", \"overdue_ind\": 65, \"NH_count\": 189, \"prop_overdue\": 34}, {\"state\": \"South Dakota\", \"state_code\": \"SD\", \"#_NHs\": \"98\", \"#_beds\": \"7361\", \"surveyor_positions\": 23, \"NH_per_position\": 4.3, \"beds_per_position\": 320, \"State\": \"SD\", \"overdue_ind\": 1, \"NH_count\": 96, \"prop_overdue\": 1}, {\"state\": \"Tennessee\", \"state_code\": \"TN\", \"#_NHs\": \"313\", \"#_beds\": \"35395\", \"surveyor_positions\": 110, \"NH_per_position\": 2.8, \"beds_per_position\": 322, \"State\": \"TN\", \"overdue_ind\": 186, \"NH_count\": 302, \"prop_overdue\": 61}, {\"state\": \"Texas\", \"state_code\": \"TX\", \"#_NHs\": \"1204\", \"#_beds\": \"136261\", \"surveyor_positions\": 350, \"NH_per_position\": 3.4, \"beds_per_position\": 389, \"State\": \"TX\", \"overdue_ind\": 2, \"NH_count\": 1182, \"prop_overdue\": 0}, {\"state\": \"Utah\", \"state_code\": \"UT\", \"#_NHs\": \"98\", \"#_beds\": \"8472\", \"surveyor_positions\": 16, \"NH_per_position\": 6.1, \"beds_per_position\": 530, \"State\": \"UT\", \"overdue_ind\": 30, \"NH_count\": 98, \"prop_overdue\": 30}, {\"state\": \"Vermont\", \"state_code\": \"VT\", \"#_NHs\": \"35\", \"#_beds\": \"2954\", \"surveyor_positions\": 16, \"NH_per_position\": 2.2, \"beds_per_position\": 185, \"State\": \"VT\", \"overdue_ind\": 0, \"NH_count\": 34, \"prop_overdue\": 0}, {\"state\": \"Virginia\", \"state_code\": \"VA\", \"#_NHs\": \"288\", \"#_beds\": \"32505\", \"surveyor_positions\": 45, \"NH_per_position\": 6.4, \"beds_per_position\": 722, \"State\": \"VA\", \"overdue_ind\": 122, \"NH_count\": 289, \"prop_overdue\": 42}, {\"state\": \"Washington\", \"state_code\": \"WA\", \"#_NHs\": \"200\", \"#_beds\": \"19296\", \"surveyor_positions\": 107, \"NH_per_position\": 1.9, \"beds_per_position\": 180, \"State\": \"WA\", \"overdue_ind\": 6, \"NH_count\": 193, \"prop_overdue\": 3}, {\"state\": \"West Virginia\", \"state_code\": \"WV\", \"#_NHs\": \"123\", \"#_beds\": \"10653\", \"surveyor_positions\": 24, \"NH_per_position\": 5.1, \"beds_per_position\": 444, \"State\": \"WV\", \"overdue_ind\": 12, \"NH_count\": 122, \"prop_overdue\": 9}, {\"state\": \"Wisconsin\", \"state_code\": \"WI\", \"#_NHs\": \"346\", \"#_beds\": \"26562\", \"surveyor_positions\": 64, \"NH_per_position\": 5.4, \"beds_per_position\": 415, \"State\": \"WI\", \"overdue_ind\": 0, \"NH_count\": 324, \"prop_overdue\": 0}, {\"state\": \"Wyoming\", \"state_code\": \"WY\", \"#_NHs\": \"35\", \"#_beds\": \"2605\", \"surveyor_positions\": 11, \"NH_per_position\": 3.2, \"beds_per_position\": 237, \"State\": \"WY\", \"overdue_ind\": 0, \"NH_count\": 35, \"prop_overdue\": 0}]}, {\"name\": \"data_0\", \"values\": [{\"prop_overdue\": 73, \"surveyor_positions\": 51}, {\"prop_overdue\": 0, \"surveyor_positions\": 14}, {\"prop_overdue\": 0, \"surveyor_positions\": 35}, {\"prop_overdue\": 0, \"surveyor_positions\": 62}, {\"prop_overdue\": 53, \"surveyor_positions\": 654}, {\"prop_overdue\": 12, \"surveyor_positions\": 52}, {\"prop_overdue\": 48, \"surveyor_positions\": 66}, {\"prop_overdue\": 36, \"surveyor_positions\": 21}, {\"prop_overdue\": 22, \"surveyor_positions\": 229}, {\"prop_overdue\": 20, \"surveyor_positions\": 55}, {\"prop_overdue\": 0, \"surveyor_positions\": 12}, {\"prop_overdue\": 71, \"surveyor_positions\": 17}, {\"prop_overdue\": 0, \"surveyor_positions\": 315}, {\"prop_overdue\": 3, \"surveyor_positions\": 100}, {\"prop_overdue\": 5, \"surveyor_positions\": 46}, {\"prop_overdue\": 16, \"surveyor_positions\": 57}, {\"prop_overdue\": 85, \"surveyor_positions\": 95}, {\"prop_overdue\": 0, \"surveyor_positions\": 43}, {\"prop_overdue\": 21, \"surveyor_positions\": 15}, {\"prop_overdue\": 74, \"surveyor_positions\": 59}, {\"prop_overdue\": 12, \"surveyor_positions\": 82}, {\"prop_overdue\": 1, \"surveyor_positions\": 93}, {\"prop_overdue\": 3, \"surveyor_positions\": 78}, {\"prop_overdue\": 20, \"surveyor_positions\": 35}, {\"prop_overdue\": 26, \"surveyor_positions\": 190}, {\"prop_overdue\": 0, \"surveyor_positions\": 22}, {\"prop_overdue\": 0, \"surveyor_positions\": 33}, {\"prop_overdue\": 1, \"surveyor_positions\": 19}, {\"prop_overdue\": 0, \"surveyor_positions\": 17}, {\"prop_overdue\": 33, \"surveyor_positions\": 68}, {\"prop_overdue\": 0, \"surveyor_positions\": 27}, {\"prop_overdue\": 41, \"surveyor_positions\": 115}, {\"prop_overdue\": 5, \"surveyor_positions\": 96}, {\"prop_overdue\": 0, \"surveyor_positions\": 25}, {\"prop_overdue\": 35, \"surveyor_positions\": 118}, {\"prop_overdue\": 3, \"surveyor_positions\": 60}, {\"prop_overdue\": 13, \"surveyor_positions\": 52}, {\"prop_overdue\": 0, \"surveyor_positions\": 120}, {\"prop_overdue\": 0, \"surveyor_positions\": 30}, {\"prop_overdue\": 34, \"surveyor_positions\": 16}, {\"prop_overdue\": 1, \"surveyor_positions\": 23}, {\"prop_overdue\": 61, \"surveyor_positions\": 110}, {\"prop_overdue\": 0, \"surveyor_positions\": 350}, {\"prop_overdue\": 30, \"surveyor_positions\": 16}, {\"prop_overdue\": 0, \"surveyor_positions\": 16}, {\"prop_overdue\": 42, \"surveyor_positions\": 45}, {\"prop_overdue\": 3, \"surveyor_positions\": 107}, {\"prop_overdue\": 9, \"surveyor_positions\": 24}, {\"prop_overdue\": 0, \"surveyor_positions\": 64}, {\"prop_overdue\": 0, \"surveyor_positions\": 11}]}, {\"name\": \"data_1\", \"source\": \"source_0\", \"transform\": [{\"type\": \"regression\", \"x\": \"surveyor_positions\", \"y\": \"prop_overdue\", \"as\": [\"surveyor_positions\", \"prop_overdue\"]}, {\"type\": \"project\", \"fields\": [\"prop_overdue\", \"surveyor_positions\"]}]}], \"marks\": [{\"type\": \"symbol\", \"name\": \"layer_0_marks\", \"from\": {\"data\": \"data_0\"}, \"encode\": {\"update\": {\"fill\": {\"value\": \"#74372F\"}, \"x\": {\"field\": \"surveyor_positions\", \"scale\": \"x\"}, \"opacity\": {\"value\": 0.7}, \"y\": {\"field\": \"prop_overdue\", \"scale\": \"y\"}}}, \"style\": [\"point\"]}, {\"type\": \"line\", \"name\": \"layer_1_marks\", \"from\": {\"data\": \"data_1\"}, \"sort\": {\"field\": \"x\"}, \"encode\": {\"update\": {\"stroke\": {\"value\": \"#74372F\"}, \"x\": {\"field\": \"surveyor_positions\", \"scale\": \"x\"}, \"y\": {\"field\": \"prop_overdue\", \"scale\": \"y\"}, \"strokeWidth\": {\"value\": 2}, \"defined\": {\"signal\": \"isValid(datum[\\\"surveyor_positions\\\"]) && isFinite(+datum[\\\"surveyor_positions\\\"]) && isValid(datum[\\\"prop_overdue\\\"]) && isFinite(+datum[\\\"prop_overdue\\\"])\"}}}, \"style\": [\"line\"]}], \"scales\": [{\"name\": \"x\", \"type\": \"linear\", \"domain\": {\"fields\": [{\"data\": \"data_0\", \"field\": \"surveyor_positions\"}, {\"data\": \"data_1\", \"field\": \"surveyor_positions\"}]}, \"range\": [0, {\"signal\": \"width\"}], \"zero\": true, \"nice\": true}, {\"name\": \"y\", \"type\": \"linear\", \"domain\": {\"fields\": [{\"data\": \"data_0\", \"field\": \"prop_overdue\"}, {\"data\": \"data_1\", \"field\": \"prop_overdue\"}]}, \"range\": [{\"signal\": \"height\"}, 0], \"nice\": true, \"zero\": true}], \"axes\": [{\"scale\": \"x\", \"orient\": \"bottom\", \"aria\": false, \"domain\": false, \"maxExtent\": 0, \"labels\": false, \"gridScale\": \"y\", \"grid\": true, \"tickCount\": {\"signal\": \"ceil(width/40)\"}, \"minExtent\": 0, \"ticks\": false, \"zindex\": 0}, {\"scale\": \"y\", \"orient\": \"left\", \"maxExtent\": 0, \"domain\": false, \"zindex\": 0, \"minExtent\": 0, \"ticks\": false, \"grid\": true, \"aria\": false, \"tickCount\": {\"signal\": \"ceil(height/40)\"}, \"gridScale\": \"x\", \"labels\": false}, {\"scale\": \"x\", \"zindex\": 0, \"grid\": false, \"labelFlush\": true, \"title\": \"Budgeted Surveyor Positions\", \"orient\": \"bottom\", \"tickCount\": {\"signal\": \"ceil(width/40)\"}, \"labelOverlap\": true}, {\"scale\": \"y\", \"title\": \"Percent Overdue\", \"orient\": \"left\", \"labelOverlap\": true, \"grid\": false, \"tickCount\": {\"signal\": \"ceil(height/40)\"}, \"zindex\": 0}], \"title\": {\"text\": \"Percent Overdue by Facilities per Surveyor\", \"offset\": 20, \"anchor\": \"start\", \"fontSize\": 15, \"dx\": 30}, \"usermeta\": {\"embedOptions\": {\"theme\": \"fivethirtyeight\"}}, \"height\": 300, \"background\": \"white\", \"width\": 300, \"style\": \"cell\", \"padding\": 5, \"config\": {\"group\": {\"fill\": \"#f0f0f0\"}, \"path\": {\"stroke\": \"#30a2da\", \"strokeWidth\": 0.5}, \"range\": {\"category\": [\"#30a2da\", \"#fc4f30\", \"#e5ae38\", \"#6d904f\", \"#8b8b8b\", \"#b96db8\", \"#ff9e27\", \"#56cc60\", \"#52d2ca\", \"#52689e\", \"#545454\", \"#9fe4f8\"], \"diverging\": [\"#cc0020\", \"#e77866\", \"#f6e7e1\", \"#d6e8ed\", \"#91bfd9\", \"#1d78b5\"], \"heatmap\": [\"#d6e8ed\", \"#cee0e5\", \"#91bfd9\", \"#549cc6\", \"#1d78b5\"]}, \"shape\": {\"stroke\": \"#30a2da\"}, \"axis\": {\"domainColor\": \"#cbcbcb\", \"grid\": true, \"gridColor\": \"#cbcbcb\", \"gridWidth\": 1, \"labelColor\": \"#999\", \"labelFontSize\": 10, \"titleColor\": \"#333\", \"tickColor\": \"#cbcbcb\", \"tickSize\": 10, \"titleFontSize\": 14, \"titlePadding\": 10, \"labelPadding\": 4}, \"axisBand\": {\"grid\": false}, \"legend\": {\"labelColor\": \"#333\", \"labelFontSize\": 11, \"padding\": 1, \"symbolSize\": 30, \"symbolType\": \"square\", \"titleColor\": \"#333\", \"titleFontSize\": 14, \"titlePadding\": 10}, \"style\": {\"arc\": {\"fill\": \"#30a2da\"}, \"area\": {\"fill\": \"#30a2da\"}, \"bar\": {\"fill\": \"#30a2da\", \"stroke\": null}, \"line\": {\"stroke\": \"#30a2da\", \"strokeWidth\": 2}, \"point\": {\"shape\": \"circle\"}, \"rect\": {\"fill\": \"#30a2da\"}, \"group-title\": {\"fontSize\": 24, \"fontWeight\": 600}}}}, {\"mode\": \"vega\"});\n",
       "</script>"
      ],
      "text/plain": [
       "alt.LayerChart(...)"
      ]
     },
     "metadata": {},
     "output_type": "display_data"
    }
   ],
   "source": [
    "surveyor_count_vs_prop_overdue_chart = alt.Chart(merge_df).mark_point(color='#74372F').encode(alt.X('surveyor_positions',title= 'Budgeted Surveyor Positions'),alt.Y('prop_overdue', title='Percent Overdue')\n",
    "                                                                                             ).properties(title = alt.TitleParams(text='Percent Overdue by Facilities per Surveyor', fontSize=15, dx=30))\n",
    "\n",
    "surveyor_count_vs_prop_overdue_chart = surveyor_count_vs_prop_overdue_chart + surveyor_count_vs_prop_overdue_chart.transform_regression('surveyor_positions','prop_overdue').mark_line(color='#74372F')\n",
    "surveyor_count_vs_prop_overdue_chart = surveyor_count_vs_prop_overdue_chart.properties(background='white')\n",
    "display(surveyor_count_vs_prop_overdue_chart)\n",
    "surveyor_count_vs_prop_overdue_chart.save('/Users/ghazalin/NH_inspections_static/images/surveyor_count_vs_prop_overdue_scatter.svg')"
   ]
  },
  {
   "cell_type": "code",
   "execution_count": null,
   "id": "f120e1c2-6769-4afc-b20c-98496c79e25d",
   "metadata": {},
   "outputs": [],
   "source": []
  }
 ],
 "metadata": {
  "kernelspec": {
   "display_name": "Python 3 (ipykernel)",
   "language": "python",
   "name": "python3"
  },
  "language_info": {
   "codemirror_mode": {
    "name": "ipython",
    "version": 3
   },
   "file_extension": ".py",
   "mimetype": "text/x-python",
   "name": "python",
   "nbconvert_exporter": "python",
   "pygments_lexer": "ipython3",
   "version": "3.12.7"
  }
 },
 "nbformat": 4,
 "nbformat_minor": 5
}
