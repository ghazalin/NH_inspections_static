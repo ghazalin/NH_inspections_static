{
 "cells": [
  {
   "cell_type": "code",
   "execution_count": 287,
   "id": "e4ee9d6a-31de-4434-8a27-82c3328a3c02",
   "metadata": {},
   "outputs": [
    {
     "data": {
      "text/plain": [
       "ThemeRegistry.enable('fivethirtyeight')"
      ]
     },
     "execution_count": 287,
     "metadata": {},
     "output_type": "execute_result"
    }
   ],
   "source": [
    "import pandas as pd\n",
    "import altair as alt \n",
    "import numpy as np\n",
    "import datetime as dt\n",
    "from dateutil.relativedelta import relativedelta\n",
    "from datetime import timedelta\n",
    "\n",
    "alt.data_transformers.enable(\"vegafusion\")\n",
    "alt.themes.enable(\"fivethirtyeight\")"
   ]
  },
  {
   "cell_type": "code",
   "execution_count": 289,
   "id": "dee388ee-cf3b-463b-8250-52f2a09701ab",
   "metadata": {},
   "outputs": [],
   "source": [
    "surveyor_experience_df = pd.read_csv('/Users/ghazalin/NH_inspections_static/data/state_prop_new_surveyors.csv')\n",
    "df_2002 = surveyor_experience_df[['state_code', '2002_%_surveyors_under2years']].copy()\n",
    "df_2002['year'] = 2002\n",
    "df_2002 = df_2002.rename(columns={'2002_%_surveyors_under2years':'prop_inexperienced'})\n",
    "df_2022 = surveyor_experience_df[['state_code', '2022_%_surveyors_under2years']].copy()\n",
    "df_2022['year'] = 2022\n",
    "df_2022 = df_2022.rename(columns={'2022_%_surveyors_under2years':'prop_inexperienced'})"
   ]
  },
  {
   "cell_type": "code",
   "execution_count": 290,
   "id": "d547be06-c8de-438b-9970-c9b70a1f4968",
   "metadata": {},
   "outputs": [],
   "source": [
    "surveyor_experience_df = pd.concat([df_2002,df_2022])\n"
   ]
  },
  {
   "cell_type": "code",
   "execution_count": 320,
   "id": "ffefed0d-9639-4372-ae60-6b195e44be83",
   "metadata": {},
   "outputs": [],
   "source": [
    "garnet_olive = ['#C0AB26','#74372F']\n",
    "histogram = alt.Chart(surveyor_experience_df).mark_bar().encode(\n",
    "    alt.X(\"prop_inexperienced:Q\", title='', bin=True),\n",
    "    alt.Y('count()', title='State Count'),\n",
    "    color=alt.Color('year:N',legend=None).scale(range=garnet_olive)\n",
    ").facet(column=alt.Column('year', title=None) \n",
    "       ).properties(background='white',\n",
    "                    title=alt.TitleParams(text='Aggregated Proportions of Surveyors with < 2 Years of Experience', orient='bottom', fontSize=15, dx=100)\n",
    "                   ).configure_axis(labelFontSize=14)\n",
    "histogram.save('/Users/ghazalin/NH_inspections_static/images/surveyor_experience_histogram.svg')"
   ]
  },
  {
   "cell_type": "code",
   "execution_count": 321,
   "id": "b74c4b65-4be0-453d-87ae-1e7e90adeb26",
   "metadata": {},
   "outputs": [
    {
     "data": {
      "text/html": [
       "\n",
       "<style>\n",
       "  #altair-viz-9c13d16867694d169d3585bfdc188549.vega-embed {\n",
       "    width: 100%;\n",
       "    display: flex;\n",
       "  }\n",
       "\n",
       "  #altair-viz-9c13d16867694d169d3585bfdc188549.vega-embed details,\n",
       "  #altair-viz-9c13d16867694d169d3585bfdc188549.vega-embed details summary {\n",
       "    position: relative;\n",
       "  }\n",
       "</style>\n",
       "<div id=\"altair-viz-9c13d16867694d169d3585bfdc188549\"></div>\n",
       "<script type=\"text/javascript\">\n",
       "  var VEGA_DEBUG = (typeof VEGA_DEBUG == \"undefined\") ? {} : VEGA_DEBUG;\n",
       "  (function(spec, embedOpt){\n",
       "    let outputDiv = document.currentScript.previousElementSibling;\n",
       "    if (outputDiv.id !== \"altair-viz-9c13d16867694d169d3585bfdc188549\") {\n",
       "      outputDiv = document.getElementById(\"altair-viz-9c13d16867694d169d3585bfdc188549\");\n",
       "    }\n",
       "    const paths = {\n",
       "      \"vega\": \"https://cdn.jsdelivr.net/npm/vega@5?noext\",\n",
       "      \"vega-lib\": \"https://cdn.jsdelivr.net/npm/vega-lib?noext\",\n",
       "      \"vega-lite\": \"https://cdn.jsdelivr.net/npm/vega-lite@5.20.1?noext\",\n",
       "      \"vega-embed\": \"https://cdn.jsdelivr.net/npm/vega-embed@6?noext\",\n",
       "    };\n",
       "\n",
       "    function maybeLoadScript(lib, version) {\n",
       "      var key = `${lib.replace(\"-\", \"\")}_version`;\n",
       "      return (VEGA_DEBUG[key] == version) ?\n",
       "        Promise.resolve(paths[lib]) :\n",
       "        new Promise(function(resolve, reject) {\n",
       "          var s = document.createElement('script');\n",
       "          document.getElementsByTagName(\"head\")[0].appendChild(s);\n",
       "          s.async = true;\n",
       "          s.onload = () => {\n",
       "            VEGA_DEBUG[key] = version;\n",
       "            return resolve(paths[lib]);\n",
       "          };\n",
       "          s.onerror = () => reject(`Error loading script: ${paths[lib]}`);\n",
       "          s.src = paths[lib];\n",
       "        });\n",
       "    }\n",
       "\n",
       "    function showError(err) {\n",
       "      outputDiv.innerHTML = `<div class=\"error\" style=\"color:red;\">${err}</div>`;\n",
       "      throw err;\n",
       "    }\n",
       "\n",
       "    function displayChart(vegaEmbed) {\n",
       "      vegaEmbed(outputDiv, spec, embedOpt)\n",
       "        .catch(err => showError(`Javascript Error: ${err.message}<br>This usually means there's a typo in your chart specification. See the javascript console for the full traceback.`));\n",
       "    }\n",
       "\n",
       "    if(typeof define === \"function\" && define.amd) {\n",
       "      requirejs.config({paths});\n",
       "      require([\"vega-embed\"], displayChart, err => showError(`Error loading script: ${err.message}`));\n",
       "    } else {\n",
       "      maybeLoadScript(\"vega\", \"5\")\n",
       "        .then(() => maybeLoadScript(\"vega-lite\", \"5.20.1\"))\n",
       "        .then(() => maybeLoadScript(\"vega-embed\", \"6\"))\n",
       "        .catch(showError)\n",
       "        .then(() => displayChart(vegaEmbed));\n",
       "    }\n",
       "  })({\"$schema\": \"https://vega.github.io/schema/vega/v5.json\", \"data\": [{\"name\": \"source_0\", \"values\": [{\"bin_maxbins_10_prop_inexperienced\": 0.4, \"bin_maxbins_10_prop_inexperienced_end\": 0.5, \"year\": 2002, \"__count\": 6, \"__count_start\": 0.0, \"__count_end\": 6.0}, {\"bin_maxbins_10_prop_inexperienced\": 0.2, \"bin_maxbins_10_prop_inexperienced_end\": 0.30000000000000004, \"year\": 2002, \"__count\": 8, \"__count_start\": 0.0, \"__count_end\": 8.0}, {\"bin_maxbins_10_prop_inexperienced\": 0.30000000000000004, \"bin_maxbins_10_prop_inexperienced_end\": 0.4, \"year\": 2002, \"__count\": 7, \"__count_start\": 0.0, \"__count_end\": 7.0}, {\"bin_maxbins_10_prop_inexperienced\": 0.5, \"bin_maxbins_10_prop_inexperienced_end\": 0.6, \"year\": 2002, \"__count\": 7, \"__count_start\": 0.0, \"__count_end\": 7.0}, {\"bin_maxbins_10_prop_inexperienced\": 0.0, \"bin_maxbins_10_prop_inexperienced_end\": 0.1, \"year\": 2002, \"__count\": 4, \"__count_start\": 0.0, \"__count_end\": 4.0}, {\"bin_maxbins_10_prop_inexperienced\": 0.1, \"bin_maxbins_10_prop_inexperienced_end\": 0.2, \"year\": 2002, \"__count\": 6, \"__count_start\": 0.0, \"__count_end\": 6.0}, {\"bin_maxbins_10_prop_inexperienced\": 0.7000000000000001, \"bin_maxbins_10_prop_inexperienced_end\": 0.8, \"year\": 2002, \"__count\": 1, \"__count_start\": 0.0, \"__count_end\": 1.0}, {\"bin_maxbins_10_prop_inexperienced\": 0.6000000000000001, \"bin_maxbins_10_prop_inexperienced_end\": 0.7000000000000001, \"year\": 2002, \"__count\": 2, \"__count_start\": 0.0, \"__count_end\": 2.0}, {\"bin_maxbins_10_prop_inexperienced\": 0.30000000000000004, \"bin_maxbins_10_prop_inexperienced_end\": 0.4, \"year\": 2022, \"__count\": 13, \"__count_start\": 0.0, \"__count_end\": 13.0}, {\"bin_maxbins_10_prop_inexperienced\": 0.1, \"bin_maxbins_10_prop_inexperienced_end\": 0.2, \"year\": 2022, \"__count\": 7, \"__count_start\": 0.0, \"__count_end\": 7.0}, {\"bin_maxbins_10_prop_inexperienced\": 0.4, \"bin_maxbins_10_prop_inexperienced_end\": 0.5, \"year\": 2022, \"__count\": 9, \"__count_start\": 0.0, \"__count_end\": 9.0}, {\"bin_maxbins_10_prop_inexperienced\": 0.5, \"bin_maxbins_10_prop_inexperienced_end\": 0.6, \"year\": 2022, \"__count\": 3, \"__count_start\": 0.0, \"__count_end\": 3.0}, {\"bin_maxbins_10_prop_inexperienced\": 0.7000000000000001, \"bin_maxbins_10_prop_inexperienced_end\": 0.8, \"year\": 2022, \"__count\": 2, \"__count_start\": 0.0, \"__count_end\": 2.0}, {\"bin_maxbins_10_prop_inexperienced\": 0.2, \"bin_maxbins_10_prop_inexperienced_end\": 0.30000000000000004, \"year\": 2022, \"__count\": 10, \"__count_start\": 0.0, \"__count_end\": 10.0}, {\"bin_maxbins_10_prop_inexperienced\": 0.0, \"bin_maxbins_10_prop_inexperienced_end\": 0.1, \"year\": 2022, \"__count\": 4, \"__count_start\": 0.0, \"__count_end\": 4.0}, {\"bin_maxbins_10_prop_inexperienced\": 0.6000000000000001, \"bin_maxbins_10_prop_inexperienced_end\": 0.7000000000000001, \"year\": 2022, \"__count\": 2, \"__count_start\": 0.0, \"__count_end\": 2.0}]}, {\"name\": \"column_domain\", \"values\": [{\"year\": 2002, \"count\": 8}, {\"year\": 2022, \"count\": 8}]}, {\"name\": \"source_0_color_domain_year\", \"values\": [{\"year\": 2002}, {\"year\": 2022}]}], \"signals\": [{\"name\": \"child_bin_maxbins_10_prop_inexperienced_bins\", \"value\": {\"fields\": [\"prop_inexperienced\"], \"fname\": \"bin_prop_inexperienced\", \"start\": 0.0, \"step\": 0.1, \"stop\": 0.8}}, {\"name\": \"child_width\", \"value\": 300}, {\"name\": \"child_height\", \"value\": 300}], \"marks\": [{\"type\": \"group\", \"name\": \"row_header\", \"encode\": {\"update\": {\"height\": {\"signal\": \"child_height\"}}}, \"axes\": [{\"scale\": \"y\", \"zindex\": 0, \"orient\": \"left\", \"grid\": false, \"title\": \"State Count\", \"labelOverlap\": true, \"tickCount\": {\"signal\": \"ceil(child_height/40)\"}}], \"role\": \"row-header\"}, {\"type\": \"group\", \"name\": \"column_header\", \"from\": {\"data\": \"column_domain\"}, \"sort\": {\"field\": \"datum[\\\"year\\\"]\", \"order\": \"ascending\"}, \"encode\": {\"update\": {\"width\": {\"signal\": \"child_width\"}}}, \"title\": {\"text\": {\"signal\": \"format(parent[\\\"year\\\"], \\\"\\\")\"}, \"frame\": \"group\", \"style\": \"guide-label\", \"offset\": 10}, \"role\": \"column-header\"}, {\"type\": \"group\", \"name\": \"column_footer\", \"from\": {\"data\": \"column_domain\"}, \"sort\": {\"field\": \"datum[\\\"year\\\"]\", \"order\": \"ascending\"}, \"encode\": {\"update\": {\"width\": {\"signal\": \"child_width\"}}}, \"axes\": [{\"scale\": \"x\", \"orient\": \"bottom\", \"labelOverlap\": true, \"zindex\": 0, \"tickCount\": {\"signal\": \"ceil(child_width/10)\"}, \"grid\": false, \"labelFlush\": true}], \"role\": \"column-footer\"}, {\"type\": \"group\", \"name\": \"cell\", \"from\": {\"facet\": {\"data\": \"source_0\", \"name\": \"facet\", \"groupby\": [\"year\"]}}, \"sort\": {\"field\": [\"datum[\\\"year\\\"]\"], \"order\": [\"ascending\"]}, \"encode\": {\"update\": {\"height\": {\"signal\": \"child_height\"}, \"width\": {\"signal\": \"child_width\"}}}, \"marks\": [{\"type\": \"rect\", \"name\": \"child_marks\", \"from\": {\"data\": \"facet\"}, \"encode\": {\"update\": {\"fill\": {\"field\": \"year\", \"scale\": \"color\"}, \"x\": {\"field\": \"bin_maxbins_10_prop_inexperienced_end\", \"scale\": \"x\", \"offset\": {\"signal\": \"0.5 + (abs(scale(\\\"x\\\", datum[\\\"bin_maxbins_10_prop_inexperienced_end\\\"]) - scale(\\\"x\\\", datum[\\\"bin_maxbins_10_prop_inexperienced\\\"])) < 0.25 ? 0.5 * (0.25 - (abs(scale(\\\"x\\\", datum[\\\"bin_maxbins_10_prop_inexperienced_end\\\"]) - scale(\\\"x\\\", datum[\\\"bin_maxbins_10_prop_inexperienced\\\"])))) : -1)\"}}, \"y\": {\"field\": \"__count_end\", \"scale\": \"y\"}, \"x2\": {\"field\": \"bin_maxbins_10_prop_inexperienced\", \"scale\": \"x\", \"offset\": {\"signal\": \"0.5 + (abs(scale(\\\"x\\\", datum[\\\"bin_maxbins_10_prop_inexperienced_end\\\"]) - scale(\\\"x\\\", datum[\\\"bin_maxbins_10_prop_inexperienced\\\"])) < 0.25 ? -0.5 * (0.25 - (abs(scale(\\\"x\\\", datum[\\\"bin_maxbins_10_prop_inexperienced_end\\\"]) - scale(\\\"x\\\", datum[\\\"bin_maxbins_10_prop_inexperienced\\\"])))) : 1)\"}}, \"y2\": {\"field\": \"__count_start\", \"scale\": \"y\"}}}, \"style\": [\"bar\"]}], \"axes\": [{\"scale\": \"x\", \"labels\": false, \"grid\": true, \"gridScale\": \"y\", \"ticks\": false, \"maxExtent\": 0, \"domain\": false, \"tickCount\": {\"signal\": \"ceil(child_width/10)\"}, \"minExtent\": 0, \"zindex\": 0, \"orient\": \"bottom\", \"aria\": false}, {\"scale\": \"y\", \"labels\": false, \"tickCount\": {\"signal\": \"ceil(child_height/40)\"}, \"ticks\": false, \"maxExtent\": 0, \"domain\": false, \"minExtent\": 0, \"orient\": \"left\", \"gridScale\": \"x\", \"aria\": false, \"grid\": true, \"zindex\": 0}], \"style\": \"cell\"}], \"scales\": [{\"name\": \"x\", \"type\": \"linear\", \"domain\": {\"signal\": \"[child_bin_maxbins_10_prop_inexperienced_bins.start, child_bin_maxbins_10_prop_inexperienced_bins.stop]\"}, \"range\": [0, {\"signal\": \"child_width\"}], \"bins\": {\"signal\": \"child_bin_maxbins_10_prop_inexperienced_bins\"}, \"zero\": false}, {\"name\": \"y\", \"type\": \"linear\", \"domain\": {\"data\": \"source_0\", \"fields\": [\"__count_start\", \"__count_end\"]}, \"range\": [{\"signal\": \"child_height\"}, 0], \"zero\": true, \"nice\": true}, {\"name\": \"color\", \"type\": \"ordinal\", \"domain\": {\"data\": \"source_0_color_domain_year\", \"field\": \"year\", \"sort\": true}, \"range\": [\"#C0AB26\", \"#74372F\"]}], \"title\": {\"text\": \"Aggregated Proportions of Surveyors with < 2 Years of Experience\", \"anchor\": \"start\", \"dx\": 100, \"orient\": \"bottom\", \"offset\": 20, \"fontSize\": 15}, \"usermeta\": {\"embedOptions\": {\"theme\": \"fivethirtyeight\"}}, \"background\": \"white\", \"layout\": {\"padding\": 20, \"columns\": {\"signal\": \"length(data('column_domain'))\"}, \"bounds\": \"full\", \"align\": \"all\"}, \"config\": {\"group\": {\"fill\": \"#f0f0f0\"}, \"path\": {\"stroke\": \"#30a2da\", \"strokeWidth\": 0.5}, \"range\": {\"category\": [\"#30a2da\", \"#fc4f30\", \"#e5ae38\", \"#6d904f\", \"#8b8b8b\", \"#b96db8\", \"#ff9e27\", \"#56cc60\", \"#52d2ca\", \"#52689e\", \"#545454\", \"#9fe4f8\"], \"diverging\": [\"#cc0020\", \"#e77866\", \"#f6e7e1\", \"#d6e8ed\", \"#91bfd9\", \"#1d78b5\"], \"heatmap\": [\"#d6e8ed\", \"#cee0e5\", \"#91bfd9\", \"#549cc6\", \"#1d78b5\"]}, \"shape\": {\"stroke\": \"#30a2da\"}, \"axis\": {\"domainColor\": \"#cbcbcb\", \"grid\": true, \"gridColor\": \"#cbcbcb\", \"gridWidth\": 1, \"labelColor\": \"#999\", \"labelFontSize\": 14, \"titleColor\": \"#333\", \"tickColor\": \"#cbcbcb\", \"tickSize\": 10, \"titleFontSize\": 14, \"titlePadding\": 10, \"labelPadding\": 4}, \"axisBand\": {\"grid\": false}, \"legend\": {\"labelColor\": \"#333\", \"labelFontSize\": 11, \"padding\": 1, \"symbolSize\": 30, \"symbolType\": \"square\", \"titleColor\": \"#333\", \"titleFontSize\": 14, \"titlePadding\": 10}, \"style\": {\"arc\": {\"fill\": \"#30a2da\"}, \"area\": {\"fill\": \"#30a2da\"}, \"bar\": {\"fill\": \"#30a2da\", \"stroke\": null}, \"line\": {\"stroke\": \"#30a2da\", \"strokeWidth\": 2}, \"point\": {\"shape\": \"circle\"}, \"rect\": {\"fill\": \"#30a2da\"}, \"group-title\": {\"fontSize\": 24, \"fontWeight\": 600}}}, \"padding\": 5}, {\"mode\": \"vega\"});\n",
       "</script>"
      ],
      "text/plain": [
       "alt.FacetChart(...)"
      ]
     },
     "metadata": {},
     "output_type": "display_data"
    }
   ],
   "source": [
    "display(histogram)"
   ]
  },
  {
   "cell_type": "code",
   "execution_count": null,
   "id": "01db3c38-908b-4f10-ab45-5d41dcded3db",
   "metadata": {},
   "outputs": [],
   "source": []
  }
 ],
 "metadata": {
  "kernelspec": {
   "display_name": "Python 3 (ipykernel)",
   "language": "python",
   "name": "python3"
  },
  "language_info": {
   "codemirror_mode": {
    "name": "ipython",
    "version": 3
   },
   "file_extension": ".py",
   "mimetype": "text/x-python",
   "name": "python",
   "nbconvert_exporter": "python",
   "pygments_lexer": "ipython3",
   "version": "3.12.7"
  }
 },
 "nbformat": 4,
 "nbformat_minor": 5
}
