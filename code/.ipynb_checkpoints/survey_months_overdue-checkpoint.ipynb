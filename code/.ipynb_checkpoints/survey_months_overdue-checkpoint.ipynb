{
 "cells": [
  {
   "cell_type": "code",
   "execution_count": 104,
   "id": "2c84ead4-c012-4134-a5e4-348d8e6a2699",
   "metadata": {},
   "outputs": [
    {
     "data": {
      "text/plain": [
       "DataTransformerRegistry.enable('vegafusion')"
      ]
     },
     "execution_count": 104,
     "metadata": {},
     "output_type": "execute_result"
    }
   ],
   "source": [
    "import pandas as pd\n",
    "import altair as alt \n",
    "import numpy as np\n",
    "import datetime as dt\n",
    "from datetime import timedelta\n",
    "\n",
    "alt.data_transformers.enable(\"vegafusion\")"
   ]
  },
  {
   "cell_type": "code",
   "execution_count": 80,
   "id": "0df00c19-421a-48f0-ba8c-d6c189dddbed",
   "metadata": {},
   "outputs": [],
   "source": [
    "# Read in survey df \n",
    "def read_survey_df(): \n",
    "    df = pd.read_csv('/Users/ghazalin/NH_inspections_static/data/NH_SurveyDates_Sep2024.csv')\n",
    "    df = df.rename(columns={'CMS Certification Number (CCN)':'CCN', 'Survey Date': 'survey_date','Type of Survey':'survey_type', 'Survey Cycle':'survey_cycle', 'Processing Date':'process_date'})\n",
    "\n",
    "    return df \n",
    "survey_df = read_survey_df()"
   ]
  },
  {
   "cell_type": "code",
   "execution_count": 81,
   "id": "10a09144-634c-4b0d-a093-1c339557b0ed",
   "metadata": {},
   "outputs": [
    {
     "name": "stdout",
     "output_type": "stream",
     "text": [
      "      CCN survey_date           survey_type  survey_cycle process_date\n",
      "0  015009  2023-03-02      Health Complaint             2   2024-09-01\n",
      "1  015009  2023-03-02       Health Standard             1   2024-09-01\n",
      "2  015009  2023-02-15  Fire Safety Standard             1   2024-09-01\n",
      "3  015009  2019-08-21  Fire Safety Standard             2   2024-09-01\n",
      "4  015009  2019-08-21       Health Standard             2   2024-09-01\n"
     ]
    }
   ],
   "source": [
    "print(survey_df.head(5))"
   ]
  },
  {
   "cell_type": "code",
   "execution_count": 82,
   "id": "ba43f986-cf9a-4c76-a7df-f1fcfd37837a",
   "metadata": {},
   "outputs": [
    {
     "name": "stdout",
     "output_type": "stream",
     "text": [
      "Index(['CCN', 'provider_name', 'State', 'zip'], dtype='object')\n"
     ]
    }
   ],
   "source": [
    "# Read in provider df \n",
    "def read_provider_df(): \n",
    "    df = pd.read_csv('/Users/ghazalin/NH_inspections_static/data/NH_ProviderInfo_Sep2024.csv')\n",
    "    df = df.rename(columns={'CMS Certification Number (CCN)':'CCN','Provider Name':'provider_name','Provider Address':'provider_address','ZIP Code':'zip' })\n",
    "    df = df[['CCN','provider_name','State','zip']]\n",
    "    print(df.columns)\n",
    "    return df\n",
    "\n",
    "provider_df = read_provider_df()\n"
   ]
  },
  {
   "cell_type": "code",
   "execution_count": 51,
   "id": "a14de6bb-11d2-46a4-b7a5-0428c4776d65",
   "metadata": {},
   "outputs": [
    {
     "name": "stdout",
     "output_type": "stream",
     "text": [
      "14626\n",
      "14817\n",
      "14817\n"
     ]
    }
   ],
   "source": [
    "print(len(provider_df['provider_name'].unique()))\n",
    "print(len(provider_df['CCN'].unique()))\n",
    "print(provider_df.shape[0])"
   ]
  },
  {
   "cell_type": "code",
   "execution_count": 83,
   "id": "462c4775-d58c-48f0-a751-1ae58a229c59",
   "metadata": {},
   "outputs": [
    {
     "name": "stdout",
     "output_type": "stream",
     "text": [
      "survey_df rows: 161369\n",
      "provider_df rows: 14817\n",
      "survey_provider_df rows: 161369\n",
      "_merge\n",
      "both          161369\n",
      "left_only          0\n",
      "right_only         0\n",
      "Name: count, dtype: int64\n"
     ]
    }
   ],
   "source": [
    "def merge_survey_provider(survey_df, provider_df): \n",
    "    print('survey_df rows: ' + str(survey_df.shape[0]))\n",
    "    print('provider_df rows: ' + str(provider_df.shape[0]))\n",
    "    merge_df = pd.merge(survey_df, provider_df, how='left',on='CCN', indicator=True)\n",
    "    print('survey_provider_df rows: ' + str(merge_df.shape[0]))\n",
    "    print(merge_df['_merge'].value_counts())\n",
    "    return merge_df\n",
    "\n",
    "survey_provider_df = merge_survey_provider(survey_df, provider_df)\n",
    "\n",
    "# CCN found for all providers"
   ]
  },
  {
   "cell_type": "code",
   "execution_count": 84,
   "id": "fe481222-f70b-4536-8150-5ab5e114b567",
   "metadata": {},
   "outputs": [
    {
     "name": "stdout",
     "output_type": "stream",
     "text": [
      "survey_type\n",
      "Health Complaint     54456\n",
      "Health Standard      44249\n",
      "Infection Control    17878\n",
      "Name: count, dtype: int64\n",
      "116583\n"
     ]
    },
    {
     "data": {
      "text/html": [
       "<div>\n",
       "<style scoped>\n",
       "    .dataframe tbody tr th:only-of-type {\n",
       "        vertical-align: middle;\n",
       "    }\n",
       "\n",
       "    .dataframe tbody tr th {\n",
       "        vertical-align: top;\n",
       "    }\n",
       "\n",
       "    .dataframe thead th {\n",
       "        text-align: right;\n",
       "    }\n",
       "</style>\n",
       "<table border=\"1\" class=\"dataframe\">\n",
       "  <thead>\n",
       "    <tr style=\"text-align: right;\">\n",
       "      <th></th>\n",
       "      <th>CCN</th>\n",
       "      <th>survey_date</th>\n",
       "      <th>survey_type</th>\n",
       "      <th>survey_cycle</th>\n",
       "      <th>process_date</th>\n",
       "      <th>provider_name</th>\n",
       "      <th>State</th>\n",
       "      <th>zip</th>\n",
       "      <th>_merge</th>\n",
       "    </tr>\n",
       "  </thead>\n",
       "  <tbody>\n",
       "    <tr>\n",
       "      <th>0</th>\n",
       "      <td>015009</td>\n",
       "      <td>2023-03-02</td>\n",
       "      <td>Health Complaint</td>\n",
       "      <td>2</td>\n",
       "      <td>2024-09-01</td>\n",
       "      <td>BURNS NURSING HOME, INC.</td>\n",
       "      <td>AL</td>\n",
       "      <td>35653</td>\n",
       "      <td>both</td>\n",
       "    </tr>\n",
       "    <tr>\n",
       "      <th>1</th>\n",
       "      <td>015009</td>\n",
       "      <td>2023-03-02</td>\n",
       "      <td>Health Standard</td>\n",
       "      <td>1</td>\n",
       "      <td>2024-09-01</td>\n",
       "      <td>BURNS NURSING HOME, INC.</td>\n",
       "      <td>AL</td>\n",
       "      <td>35653</td>\n",
       "      <td>both</td>\n",
       "    </tr>\n",
       "    <tr>\n",
       "      <th>4</th>\n",
       "      <td>015009</td>\n",
       "      <td>2019-08-21</td>\n",
       "      <td>Health Standard</td>\n",
       "      <td>2</td>\n",
       "      <td>2024-09-01</td>\n",
       "      <td>BURNS NURSING HOME, INC.</td>\n",
       "      <td>AL</td>\n",
       "      <td>35653</td>\n",
       "      <td>both</td>\n",
       "    </tr>\n",
       "    <tr>\n",
       "      <th>6</th>\n",
       "      <td>015009</td>\n",
       "      <td>2018-08-01</td>\n",
       "      <td>Health Standard</td>\n",
       "      <td>3</td>\n",
       "      <td>2024-09-01</td>\n",
       "      <td>BURNS NURSING HOME, INC.</td>\n",
       "      <td>AL</td>\n",
       "      <td>35653</td>\n",
       "      <td>both</td>\n",
       "    </tr>\n",
       "    <tr>\n",
       "      <th>7</th>\n",
       "      <td>015010</td>\n",
       "      <td>2023-08-30</td>\n",
       "      <td>Infection Control</td>\n",
       "      <td>2</td>\n",
       "      <td>2024-09-01</td>\n",
       "      <td>COOSA VALLEY HEALTHCARE CENTER</td>\n",
       "      <td>AL</td>\n",
       "      <td>35150</td>\n",
       "      <td>both</td>\n",
       "    </tr>\n",
       "    <tr>\n",
       "      <th>...</th>\n",
       "      <td>...</td>\n",
       "      <td>...</td>\n",
       "      <td>...</td>\n",
       "      <td>...</td>\n",
       "      <td>...</td>\n",
       "      <td>...</td>\n",
       "      <td>...</td>\n",
       "      <td>...</td>\n",
       "      <td>...</td>\n",
       "    </tr>\n",
       "    <tr>\n",
       "      <th>161361</th>\n",
       "      <td>745039</td>\n",
       "      <td>2023-06-20</td>\n",
       "      <td>Health Standard</td>\n",
       "      <td>1</td>\n",
       "      <td>2024-09-01</td>\n",
       "      <td>MIDTOWNE MEADOWS HEALTH AND REHAB</td>\n",
       "      <td>TX</td>\n",
       "      <td>76065</td>\n",
       "      <td>both</td>\n",
       "    </tr>\n",
       "    <tr>\n",
       "      <th>161362</th>\n",
       "      <td>745040</td>\n",
       "      <td>2023-10-13</td>\n",
       "      <td>Health Complaint</td>\n",
       "      <td>1</td>\n",
       "      <td>2024-09-01</td>\n",
       "      <td>THE SARAH ROBERTS FRENCH HOME</td>\n",
       "      <td>TX</td>\n",
       "      <td>78201</td>\n",
       "      <td>both</td>\n",
       "    </tr>\n",
       "    <tr>\n",
       "      <th>161363</th>\n",
       "      <td>745040</td>\n",
       "      <td>2023-10-13</td>\n",
       "      <td>Health Standard</td>\n",
       "      <td>1</td>\n",
       "      <td>2024-09-01</td>\n",
       "      <td>THE SARAH ROBERTS FRENCH HOME</td>\n",
       "      <td>TX</td>\n",
       "      <td>78201</td>\n",
       "      <td>both</td>\n",
       "    </tr>\n",
       "    <tr>\n",
       "      <th>161365</th>\n",
       "      <td>745040</td>\n",
       "      <td>2022-08-05</td>\n",
       "      <td>Health Standard</td>\n",
       "      <td>2</td>\n",
       "      <td>2024-09-01</td>\n",
       "      <td>THE SARAH ROBERTS FRENCH HOME</td>\n",
       "      <td>TX</td>\n",
       "      <td>78201</td>\n",
       "      <td>both</td>\n",
       "    </tr>\n",
       "    <tr>\n",
       "      <th>161368</th>\n",
       "      <td>745049</td>\n",
       "      <td>2024-06-21</td>\n",
       "      <td>Health Standard</td>\n",
       "      <td>1</td>\n",
       "      <td>2024-09-01</td>\n",
       "      <td>LAS ALTURAS NURSING &amp; TRANSITIONAL CARE BROWNS...</td>\n",
       "      <td>TX</td>\n",
       "      <td>78521</td>\n",
       "      <td>both</td>\n",
       "    </tr>\n",
       "  </tbody>\n",
       "</table>\n",
       "<p>116583 rows × 9 columns</p>\n",
       "</div>"
      ],
      "text/plain": [
       "           CCN survey_date        survey_type  survey_cycle process_date  \\\n",
       "0       015009  2023-03-02   Health Complaint             2   2024-09-01   \n",
       "1       015009  2023-03-02    Health Standard             1   2024-09-01   \n",
       "4       015009  2019-08-21    Health Standard             2   2024-09-01   \n",
       "6       015009  2018-08-01    Health Standard             3   2024-09-01   \n",
       "7       015010  2023-08-30  Infection Control             2   2024-09-01   \n",
       "...        ...         ...                ...           ...          ...   \n",
       "161361  745039  2023-06-20    Health Standard             1   2024-09-01   \n",
       "161362  745040  2023-10-13   Health Complaint             1   2024-09-01   \n",
       "161363  745040  2023-10-13    Health Standard             1   2024-09-01   \n",
       "161365  745040  2022-08-05    Health Standard             2   2024-09-01   \n",
       "161368  745049  2024-06-21    Health Standard             1   2024-09-01   \n",
       "\n",
       "                                            provider_name State    zip _merge  \n",
       "0                                BURNS NURSING HOME, INC.    AL  35653   both  \n",
       "1                                BURNS NURSING HOME, INC.    AL  35653   both  \n",
       "4                                BURNS NURSING HOME, INC.    AL  35653   both  \n",
       "6                                BURNS NURSING HOME, INC.    AL  35653   both  \n",
       "7                          COOSA VALLEY HEALTHCARE CENTER    AL  35150   both  \n",
       "...                                                   ...   ...    ...    ...  \n",
       "161361                  MIDTOWNE MEADOWS HEALTH AND REHAB    TX  76065   both  \n",
       "161362                      THE SARAH ROBERTS FRENCH HOME    TX  78201   both  \n",
       "161363                      THE SARAH ROBERTS FRENCH HOME    TX  78201   both  \n",
       "161365                      THE SARAH ROBERTS FRENCH HOME    TX  78201   both  \n",
       "161368  LAS ALTURAS NURSING & TRANSITIONAL CARE BROWNS...    TX  78521   both  \n",
       "\n",
       "[116583 rows x 9 columns]"
      ]
     },
     "execution_count": 84,
     "metadata": {},
     "output_type": "execute_result"
    }
   ],
   "source": [
    "def drop_fire_surveys(df): \n",
    "    df = df.loc[df['survey_type'].isin(['Fire Safety Standard','Fire Safety Complaint'])==0]\n",
    "    print(df['survey_type'].value_counts())\n",
    "    print(df.shape[0])\n",
    "    return df \n",
    "\n",
    "drop_fire_surveys(survey_provider_df)"
   ]
  },
  {
   "cell_type": "code",
   "execution_count": 100,
   "id": "44344f07-05eb-4a59-98ac-4ef0f7b9d541",
   "metadata": {},
   "outputs": [
    {
     "name": "stdout",
     "output_type": "stream",
     "text": [
      "44249\n",
      "14817\n"
     ]
    }
   ],
   "source": [
    "# calculate time between September 1st 2024 (time of data collection) and last survey \n",
    "def identify_last_standard_survey(df): \n",
    "    \"\"\"Identify the last standard survey for each nursing home\"\"\"\n",
    "    df = df.loc[df['survey_type']=='Health Standard']\n",
    "    df = df.sort_values(by=['CCN','survey_date'], ascending=False)\n",
    "    print(df.shape[0]) # 44249, as it should be (total number of health standard surveys)\n",
    "    df = df.drop_duplicates(subset=['CCN'])\n",
    "    print(df.shape[0]) # 14817, as it should be (total number of nursing homes) \n",
    "    return df \n",
    "    \n",
    "last_standard_survey_df = identify_last_standard_survey(survey_provider_df)\n",
    "    "
   ]
  },
  {
   "cell_type": "code",
   "execution_count": 101,
   "id": "142e5ee2-fcfd-46d6-9166-971339df53aa",
   "metadata": {},
   "outputs": [],
   "source": [
    "def NH_months_since_last_standard_survey(df): \n",
    "    \n",
    "    df['survey_date'] = pd.to_datetime(df['survey_date'])\n",
    "    df['process_date'] = pd.to_datetime(df['process_date'])\n",
    "    df['months_since_last_survey'] = df['process_date'] - df['survey_date']\n",
    "    df['months_overdue'] = 0\n",
    "    return df\n",
    "    \n",
    "NH_months_since_last_standard_survey = NH_months_since_last_standard_survey(last_standard_survey_df)"
   ]
  },
  {
   "cell_type": "code",
   "execution_count": 102,
   "id": "a14d8fba-edd9-4b4e-b3c6-bc07e5c93f5a",
   "metadata": {},
   "outputs": [
    {
     "name": "stdout",
     "output_type": "stream",
     "text": [
      "           CCN survey_date      survey_type  survey_cycle process_date  \\\n",
      "161368  745049  2024-06-21  Health Standard             1   2024-09-01   \n",
      "161363  745040  2023-10-13  Health Standard             1   2024-09-01   \n",
      "161361  745039  2023-06-20  Health Standard             1   2024-09-01   \n",
      "161359  745038  2023-05-19  Health Standard             1   2024-09-01   \n",
      "161349  745022  2023-10-25  Health Standard             1   2024-09-01   \n",
      "...        ...         ...              ...           ...          ...   \n",
      "30      015015  2020-03-05  Health Standard             1   2024-09-01   \n",
      "22      015014  2023-09-13  Health Standard             1   2024-09-01   \n",
      "15      015012  2022-03-24  Health Standard             1   2024-09-01   \n",
      "9       015010  2022-04-09  Health Standard             1   2024-09-01   \n",
      "1       015009  2023-03-02  Health Standard             1   2024-09-01   \n",
      "\n",
      "                                            provider_name State    zip _merge  \\\n",
      "161368  LAS ALTURAS NURSING & TRANSITIONAL CARE BROWNS...    TX  78521   both   \n",
      "161363                      THE SARAH ROBERTS FRENCH HOME    TX  78201   both   \n",
      "161361                  MIDTOWNE MEADOWS HEALTH AND REHAB    TX  76065   both   \n",
      "161359      TIERRA ESTE NURSING AND REHABILITATION CENTER    TX  79938   both   \n",
      "161349                          WARE MEMORIAL CARE CENTER    TX  79101   both   \n",
      "...                                                   ...   ...    ...    ...   \n",
      "30                          PLANTATION MANOR NURSING HOME    AL  35111   both   \n",
      "22            EASTVIEW REHABILITATION & HEALTHCARE CENTER    AL  35206   both   \n",
      "15                             HIGHLANDS HEALTH AND REHAB    AL  35768   both   \n",
      "9                          COOSA VALLEY HEALTHCARE CENTER    AL  35150   both   \n",
      "1                                BURNS NURSING HOME, INC.    AL  35653   both   \n",
      "\n",
      "       months_since_last_survey  months_overdue  \n",
      "161368                  72 days               0  \n",
      "161363                 324 days               0  \n",
      "161361                 439 days               0  \n",
      "161359                 471 days               0  \n",
      "161349                 312 days               0  \n",
      "...                         ...             ...  \n",
      "30                    1641 days               0  \n",
      "22                     354 days               0  \n",
      "15                     892 days               0  \n",
      "9                      876 days               0  \n",
      "1                      549 days               0  \n",
      "\n",
      "[14817 rows x 11 columns]\n"
     ]
    }
   ],
   "source": [
    "print(NH_months_since_last_standard_survey)"
   ]
  },
  {
   "cell_type": "code",
   "execution_count": null,
   "id": "bbf17466-cad5-4c03-adbc-741f80624549",
   "metadata": {},
   "outputs": [],
   "source": [
    "\n",
    "\n",
    "\n",
    "\n",
    "# calculate time since each of the last surveys \n",
    "\n",
    "# groupby state sum for each column "
   ]
  }
 ],
 "metadata": {
  "kernelspec": {
   "display_name": "Python 3 (ipykernel)",
   "language": "python",
   "name": "python3"
  },
  "language_info": {
   "codemirror_mode": {
    "name": "ipython",
    "version": 3
   },
   "file_extension": ".py",
   "mimetype": "text/x-python",
   "name": "python",
   "nbconvert_exporter": "python",
   "pygments_lexer": "ipython3",
   "version": "3.12.7"
  }
 },
 "nbformat": 4,
 "nbformat_minor": 5
}
