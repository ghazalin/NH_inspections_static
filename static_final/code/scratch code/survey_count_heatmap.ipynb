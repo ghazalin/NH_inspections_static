{
 "cells": [
  {
   "cell_type": "code",
   "execution_count": 1,
   "id": "3eba22e6-458f-4811-8ee7-3df00e2fb139",
   "metadata": {},
   "outputs": [
    {
     "data": {
      "text/plain": [
       "ThemeRegistry.enable('fivethirtyeight')"
      ]
     },
     "execution_count": 1,
     "metadata": {},
     "output_type": "execute_result"
    }
   ],
   "source": [
    "import pandas as pd\n",
    "import altair as alt \n",
    "import numpy as np\n",
    "import datetime as dt\n",
    "from dateutil.relativedelta import relativedelta\n",
    "from datetime import timedelta\n",
    "\n",
    "alt.data_transformers.enable(\"vegafusion\")\n",
    "alt.themes.enable(\"fivethirtyeight\")"
   ]
  },
  {
   "cell_type": "code",
   "execution_count": 2,
   "id": "5d2f499f-beec-4c3b-bdc8-72eb635375fe",
   "metadata": {},
   "outputs": [
    {
     "data": {
      "text/plain": [
       "DataTransformerRegistry.enable('vegafusion')"
      ]
     },
     "execution_count": 2,
     "metadata": {},
     "output_type": "execute_result"
    }
   ],
   "source": [
    "import pandas as pd\n",
    "import altair as alt \n",
    "import numpy as np\n",
    "import datetime as dt\n",
    "from datetime import timedelta\n",
    "\n",
    "alt.data_transformers.enable(\"vegafusion\")"
   ]
  },
  {
   "cell_type": "code",
   "execution_count": 3,
   "id": "8e18dfe5-e71c-476c-be14-1f3b0fe03b70",
   "metadata": {},
   "outputs": [
    {
     "name": "stdout",
     "output_type": "stream",
     "text": [
      "      CCN survey_date           survey_type  survey_cycle process_date\n",
      "0  015009  2023-03-02      Health Complaint             2   2024-09-01\n",
      "1  015009  2023-03-02       Health Standard             1   2024-09-01\n",
      "2  015009  2023-02-15  Fire Safety Standard             1   2024-09-01\n",
      "3  015009  2019-08-21  Fire Safety Standard             2   2024-09-01\n",
      "4  015009  2019-08-21       Health Standard             2   2024-09-01\n",
      "5  015009  2018-08-09  Fire Safety Standard             3   2024-09-01\n",
      "6  015009  2018-08-01       Health Standard             3   2024-09-01\n",
      "7  015010  2023-08-30     Infection Control             2   2024-09-01\n",
      "8  015010  2022-04-13  Fire Safety Standard             1   2024-09-01\n",
      "9  015010  2022-04-09       Health Standard             1   2024-09-01\n"
     ]
    }
   ],
   "source": [
    "# Read in survey df \n",
    "def read_survey_df(): \n",
    "    df = pd.read_csv('/Users/ghazalin/NH_inspections_static/data/NH_SurveyDates_Sep2024.csv')\n",
    "    df = df.rename(columns={'CMS Certification Number (CCN)':'CCN', 'Survey Date': 'survey_date','Type of Survey':'survey_type', 'Survey Cycle':'survey_cycle', 'Processing Date':'process_date'})\n",
    "    print(df.head(10))\n",
    "    return df \n",
    "survey_df = read_survey_df()"
   ]
  },
  {
   "cell_type": "code",
   "execution_count": 4,
   "id": "b321d67d-5505-451f-8606-6c9bc65f2e13",
   "metadata": {},
   "outputs": [
    {
     "name": "stdout",
     "output_type": "stream",
     "text": [
      "survey_type\n",
      "Health Complaint         54456\n",
      "Health Standard          44249\n",
      "Fire Safety Standard     44216\n",
      "Infection Control        17878\n",
      "Fire Safety Complaint      570\n",
      "Name: count, dtype: int64\n",
      "       CCN survey_date      survey_type  survey_cycle process_date\n",
      "1   015009  2023-03-02  Health Standard             1   2024-09-01\n",
      "4   015009  2019-08-21  Health Standard             2   2024-09-01\n",
      "6   015009  2018-08-01  Health Standard             3   2024-09-01\n",
      "9   015010  2022-04-09  Health Standard             1   2024-09-01\n",
      "11  015010  2019-06-13  Health Standard             2   2024-09-01\n",
      "13  015010  2018-06-07  Health Standard             3   2024-09-01\n",
      "15  015012  2022-03-24  Health Standard             1   2024-09-01\n",
      "17  015012  2019-06-06  Health Standard             2   2024-09-01\n",
      "19  015012  2018-05-03  Health Standard             3   2024-09-01\n",
      "22  015014  2023-09-13  Health Standard             1   2024-09-01\n",
      "44249\n"
     ]
    }
   ],
   "source": [
    "def standard_surveys_only(df): \n",
    "    print(df['survey_type'].value_counts())\n",
    "    df = df.loc[df['survey_type']=='Health Standard'].copy()\n",
    "    print(df.head(10))\n",
    "    print(df.shape[0])\n",
    "    return df\n",
    "survey_df = standard_surveys_only(survey_df)"
   ]
  },
  {
   "cell_type": "code",
   "execution_count": 17,
   "id": "8d9371de-957d-44db-8c22-4ab64146c8b7",
   "metadata": {},
   "outputs": [],
   "source": [
    "survey_df['survey_date'] = pd.to_datetime(survey_df['survey_date'])\n",
    "survey_df = survey_df.loc[survey_df['survey_date'].dt.year==2023]"
   ]
  },
  {
   "cell_type": "code",
   "execution_count": 18,
   "id": "bec06f6d-00f3-4a92-baf2-4c951674c5a9",
   "metadata": {},
   "outputs": [],
   "source": [
    "# Read in provider df \n",
    "def read_provider_df(): \n",
    "    df = pd.read_csv('/Users/ghazalin/NH_inspections_static/data/NH_ProviderInfo_Sep2024.csv', dtype={'ZIP Code':str})\n",
    "    df = df.rename(columns={'Date First Approved to Provide Medicare and Medicaid Services':'date_approved','CMS Certification Number (CCN)':'CCN','Provider Name':'provider_name','Provider Address':'provider_address','ZIP Code':'zip'})\n",
    "    # print(df.columns.to_list())\n",
    "    df = df[['CCN','date_approved','provider_name','State','zip']]\n",
    "    df['zip'] = df['zip'].astype(str)\n",
    "\n",
    "    return df\n",
    "\n",
    "provider_df = read_provider_df()\n"
   ]
  },
  {
   "cell_type": "code",
   "execution_count": 31,
   "id": "b7f15485-4e71-41a9-b285-a20a6888fc21",
   "metadata": {},
   "outputs": [],
   "source": [
    "\n",
    "survey_provider = pd.merge(survey_df, provider_df, how='left',on='CCN', indicator=True)\n",
    "survey_provider = survey_provider.loc[survey_provider['State'].isin(['GU','PR'])==False]\n",
    "# print('survey_provider_df rows: ' + str(survey_provider.shape[0]))\n",
    "# print(survey_provider['_merge'].value_counts())\n"
   ]
  },
  {
   "cell_type": "code",
   "execution_count": 50,
   "id": "377be797-5468-43ac-892b-64c322fb7148",
   "metadata": {},
   "outputs": [],
   "source": [
    "def survey_heatmap(): \n",
    "    survey_provider['survey_count'] = 1 \n",
    "    heat_map = alt.Chart(survey_provider).mark_rect().encode(alt.X('yearmonth(survey_date)', title='Date'),\n",
    "                                                             alt.Y('State:N'), \n",
    "                                                             color=alt.Color('sum(survey_count):Q', title='Survey Count').sort('ascending').scale(scheme='browns')\n",
    "                                                            ).properties(background='white', title=alt.TitleParams(text='2023 Survey Counts by State', fontSize=15, dx=100))\n",
    "    return heat_map\n",
    "survey_heatmap().save('/Users/ghazalin/NH_inspections_static/images/survey_count_heatmap.svg')"
   ]
  },
  {
   "cell_type": "code",
   "execution_count": null,
   "id": "8c838b74-9506-46e7-8ad4-9353dc4ae809",
   "metadata": {},
   "outputs": [],
   "source": []
  }
 ],
 "metadata": {
  "kernelspec": {
   "display_name": "Python 3 (ipykernel)",
   "language": "python",
   "name": "python3"
  },
  "language_info": {
   "codemirror_mode": {
    "name": "ipython",
    "version": 3
   },
   "file_extension": ".py",
   "mimetype": "text/x-python",
   "name": "python",
   "nbconvert_exporter": "python",
   "pygments_lexer": "ipython3",
   "version": "3.12.7"
  }
 },
 "nbformat": 4,
 "nbformat_minor": 5
}
