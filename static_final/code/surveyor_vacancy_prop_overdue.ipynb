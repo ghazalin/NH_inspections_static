{
 "cells": [
  {
   "cell_type": "code",
   "execution_count": null,
   "id": "540c61b3-31fe-4710-bc97-2d83de7e3bfb",
   "metadata": {},
   "outputs": [],
   "source": []
  },
  {
   "cell_type": "code",
   "execution_count": 189,
   "id": "139e87d9-02b5-4b6c-b713-ebaa45b92772",
   "metadata": {},
   "outputs": [
    {
     "data": {
      "text/plain": [
       "ThemeRegistry.enable('fivethirtyeight')"
      ]
     },
     "execution_count": 189,
     "metadata": {},
     "output_type": "execute_result"
    }
   ],
   "source": [
    "import pandas as pd\n",
    "import altair as alt \n",
    "import numpy as np\n",
    "import datetime as dt\n",
    "from datetime import timedelta\n",
    "\n",
    "alt.data_transformers.enable(\"vegafusion\")\n",
    "alt.themes.enable(\"fivethirtyeight\")"
   ]
  },
  {
   "cell_type": "code",
   "execution_count": 106,
   "id": "2401ab8b-4371-42a0-9d48-6db0be0f2b8e",
   "metadata": {},
   "outputs": [
    {
     "name": "stdout",
     "output_type": "stream",
     "text": [
      "      CCN survey_date           survey_type  survey_cycle process_date\n",
      "0  015009  2023-03-02      Health Complaint             2   2024-09-01\n",
      "1  015009  2023-03-02       Health Standard             1   2024-09-01\n",
      "2  015009  2023-02-15  Fire Safety Standard             1   2024-09-01\n",
      "3  015009  2019-08-21  Fire Safety Standard             2   2024-09-01\n",
      "4  015009  2019-08-21       Health Standard             2   2024-09-01\n",
      "5  015009  2018-08-09  Fire Safety Standard             3   2024-09-01\n",
      "6  015009  2018-08-01       Health Standard             3   2024-09-01\n",
      "7  015010  2023-08-30     Infection Control             2   2024-09-01\n",
      "8  015010  2022-04-13  Fire Safety Standard             1   2024-09-01\n",
      "9  015010  2022-04-09       Health Standard             1   2024-09-01\n"
     ]
    }
   ],
   "source": [
    "# Read in survey df \n",
    "def read_survey_df(): \n",
    "    df = pd.read_csv('/Users/ghazalin/NH_inspections_static/data/NH_SurveyDates_Sep2024.csv')\n",
    "    df = df.rename(columns={'CMS Certification Number (CCN)':'CCN', 'Survey Date': 'survey_date','Type of Survey':'survey_type', 'Survey Cycle':'survey_cycle', 'Processing Date':'process_date'})\n",
    "    \n",
    "    return df \n",
    "survey_df = read_survey_df()"
   ]
  },
  {
   "cell_type": "code",
   "execution_count": 107,
   "id": "95ea30dd-e2b5-41bd-9874-5c8e50a45962",
   "metadata": {},
   "outputs": [
    {
     "name": "stdout",
     "output_type": "stream",
     "text": [
      "survey_type\n",
      "Health Complaint         54456\n",
      "Health Standard          44249\n",
      "Fire Safety Standard     44216\n",
      "Infection Control        17878\n",
      "Fire Safety Complaint      570\n",
      "Name: count, dtype: int64\n",
      "       CCN survey_date      survey_type  survey_cycle process_date\n",
      "1   015009  2023-03-02  Health Standard             1   2024-09-01\n",
      "4   015009  2019-08-21  Health Standard             2   2024-09-01\n",
      "6   015009  2018-08-01  Health Standard             3   2024-09-01\n",
      "9   015010  2022-04-09  Health Standard             1   2024-09-01\n",
      "11  015010  2019-06-13  Health Standard             2   2024-09-01\n",
      "13  015010  2018-06-07  Health Standard             3   2024-09-01\n",
      "15  015012  2022-03-24  Health Standard             1   2024-09-01\n",
      "17  015012  2019-06-06  Health Standard             2   2024-09-01\n",
      "19  015012  2018-05-03  Health Standard             3   2024-09-01\n",
      "22  015014  2023-09-13  Health Standard             1   2024-09-01\n",
      "44249\n"
     ]
    }
   ],
   "source": [
    "def standard_surveys_only(df): \n",
    "    print(df['survey_type'].value_counts())\n",
    "    df = df.loc[df['survey_type']=='Health Standard'].copy()\n",
    "    print(df.head(10))\n",
    "    print(df.shape[0])\n",
    "    return df\n",
    "survey_df = standard_surveys_only(survey_df)"
   ]
  },
  {
   "cell_type": "code",
   "execution_count": 108,
   "id": "023b2790-b0aa-45b1-bc07-1520463146f1",
   "metadata": {},
   "outputs": [
    {
     "name": "stdout",
     "output_type": "stream",
     "text": [
      "44249\n",
      "year\n",
      "2022    9425\n",
      "2021    6844\n",
      "2019    6340\n",
      "2023    2609\n",
      "2018    2443\n",
      "2020    2286\n",
      "2017     547\n",
      "2016      33\n",
      "Name: count, dtype: int64\n",
      "30527\n",
      "       CCN survey_date      survey_type  survey_cycle process_date  \\\n",
      "1   015009  2023-03-02  Health Standard             1   2024-09-01   \n",
      "4   015009  2019-08-21  Health Standard             2   2024-09-01   \n",
      "6   015009  2018-08-01  Health Standard             3   2024-09-01   \n",
      "9   015010  2022-04-09  Health Standard             1   2024-09-01   \n",
      "11  015010  2019-06-13  Health Standard             2   2024-09-01   \n",
      "\n",
      "   cutoff_date  year  \n",
      "1   2023-03-31  2023  \n",
      "4   2023-03-31  2019  \n",
      "6   2023-03-31  2018  \n",
      "9   2023-03-31  2022  \n",
      "11  2023-03-31  2019  \n"
     ]
    }
   ],
   "source": [
    "def remove_surveys_after_date(df, cutoff_date): \n",
    "    print(df.shape[0])\n",
    "    df['cutoff_date'] = pd.to_datetime(cutoff_date)\n",
    "    df['survey_date'] = pd.to_datetime(df['survey_date'])\n",
    "    df = df.loc[df['survey_date']<df['cutoff_date']].copy()\n",
    "    df['year'] = df['survey_date'].dt.year\n",
    "    print(df['year'].value_counts())\n",
    "    print(df.shape[0])\n",
    "    print(df.head(5))\n",
    "    return df\n",
    "    \n",
    "pre_apr2023_surveys_df = remove_surveys_after_date(survey_df, '03-31-2023')\n",
    "\n"
   ]
  },
  {
   "cell_type": "code",
   "execution_count": 109,
   "id": "ba83bc0f-0d33-4ddc-8e0b-262824311990",
   "metadata": {},
   "outputs": [
    {
     "name": "stdout",
     "output_type": "stream",
     "text": [
      "30527\n",
      "14730\n"
     ]
    }
   ],
   "source": [
    "# calculate time between input date and last survey \n",
    "def identify_last_standard_survey(df): \n",
    "    \"\"\"Identify the last standard survey for each nursing home\"\"\"\n",
    "    df = df.loc[df['survey_type']=='Health Standard']\n",
    "    df = df.sort_values(by=['CCN','survey_date'], ascending=False)\n",
    "    print(df.shape[0])\n",
    "    df = df.drop_duplicates(subset=['CCN'], keep='first')\n",
    "    print(df.shape[0]) \n",
    "    return df \n",
    "    \n",
    "last_standard_survey_df = identify_last_standard_survey(pre_apr2023_surveys_df)\n",
    "# 14730 nursing homes"
   ]
  },
  {
   "cell_type": "code",
   "execution_count": 110,
   "id": "da3c9979-5e7e-4044-a3db-cf28cd005c4a",
   "metadata": {},
   "outputs": [],
   "source": [
    "# Read in provider df \n",
    "def read_provider_df(): \n",
    "    df = pd.read_csv('/Users/ghazalin/NH_inspections_static/data/NH_ProviderInfo_Sep2024.csv', dtype={'ZIP Code':str})\n",
    "    df = df.rename(columns={'Date First Approved to Provide Medicare and Medicaid Services':'date_approved','CMS Certification Number (CCN)':'CCN','Provider Name':'provider_name','Provider Address':'provider_address','ZIP Code':'zip'})\n",
    "    # print(df.columns.to_list())\n",
    "    df = df[['CCN','date_approved','provider_name','State','zip']]\n",
    "    df['zip'] = df['zip'].astype(str)\n",
    "\n",
    "    return df\n",
    "\n",
    "provider_df = read_provider_df()\n"
   ]
  },
  {
   "cell_type": "code",
   "execution_count": 111,
   "id": "f43c743f-2d2e-4f80-a18a-c1bee270cd86",
   "metadata": {
    "scrolled": true
   },
   "outputs": [],
   "source": [
    "def provider_active_cutoff(df,date):\n",
    "    df['date_approved'] = pd.to_datetime(df['date_approved'])\n",
    "    new_col_name = f'active_on_{date}'\n",
    "    date = pd.to_datetime(date)\n",
    "    df[new_col_name] = df['date_approved'] <= date\n",
    "    return df\n",
    "\n",
    "provider_df = provider_active_cutoff(provider_df,'01-01-2022')"
   ]
  },
  {
   "cell_type": "code",
   "execution_count": 131,
   "id": "75801738-fb6f-49ba-bb3a-3dc21dec0604",
   "metadata": {},
   "outputs": [
    {
     "name": "stdout",
     "output_type": "stream",
     "text": [
      "survey_df rows: 14817\n",
      "provider_df rows: 14730\n",
      "survey_provider_df rows: 14817\n",
      "_merge\n",
      "both          14730\n",
      "left_only        87\n",
      "right_only        0\n",
      "Name: count, dtype: int64\n"
     ]
    }
   ],
   "source": [
    "def merge_provider_survey_df(provider_df, survey_df): \n",
    "    print('survey_df rows: ' + str(survey_df.shape[0]))\n",
    "    print('provider_df rows: ' + str(provider_df.shape[0]))\n",
    "    merge_df = pd.merge(provider_df, survey_df, how='left',on='CCN', indicator=True)\n",
    "    print('survey_provider_df rows: ' + str(merge_df.shape[0]))\n",
    "    \n",
    "    print(merge_df['_merge'].value_counts())\n",
    "    return merge_df\n",
    "\n",
    "provider_survey_df = merge_survey_provider(provider_df, last_standard_survey_df)\n",
    "\n",
    "# CCN found for all providers"
   ]
  },
  {
   "cell_type": "code",
   "execution_count": 137,
   "id": "9c0cdb9d-e0bb-4621-b007-bd2cfc233fcb",
   "metadata": {
    "scrolled": true
   },
   "outputs": [
    {
     "name": "stdout",
     "output_type": "stream",
     "text": [
      "count    14730.000000\n",
      "mean        -3.253517\n",
      "std         10.751142\n",
      "min        -14.966667\n",
      "25%        -10.466667\n",
      "50%         -5.866667\n",
      "75%         -0.300000\n",
      "max         48.033333\n",
      "Name: months_overdue, dtype: float64\n",
      "      CCN date_approved                                     provider_name  \\\n",
      "0  015009    1969-09-01                          BURNS NURSING HOME, INC.   \n",
      "1  015010    1967-01-01                    COOSA VALLEY HEALTHCARE CENTER   \n",
      "2  015012    1967-01-01                        HIGHLANDS HEALTH AND REHAB   \n",
      "3  015014    1967-01-01       EASTVIEW REHABILITATION & HEALTHCARE CENTER   \n",
      "4  015015    1971-07-01                     PLANTATION MANOR NURSING HOME   \n",
      "5  015016    1967-01-01              ATHENS HEALTH AND REHABILITATION LLC   \n",
      "6  015019    1974-01-01                                  MERRY WOOD LODGE   \n",
      "7  015023    1967-01-01                            HATLEY HEALTH CARE INC   \n",
      "8  015024    1979-01-01  LIMESTONE NURSING AND REHABILITATION CENTER, LLC   \n",
      "9  015027    1967-07-24           WETUMPKA HEALTH AND REHABILITATION, LLC   \n",
      "\n",
      "  State    zip  active_on_01-01-2022 survey_date      survey_type  \\\n",
      "0    AL  35653                  True  2023-03-02  Health Standard   \n",
      "1    AL  35150                  True  2022-04-09  Health Standard   \n",
      "2    AL  35768                  True  2022-03-24  Health Standard   \n",
      "3    AL  35206                  True  2020-02-20  Health Standard   \n",
      "4    AL  35111                  True  2020-03-05  Health Standard   \n",
      "5    AL  35611                  True  2022-04-14  Health Standard   \n",
      "6    AL  36025                  True  2020-03-03  Health Standard   \n",
      "7    AL  35045                  True  2022-01-19  Health Standard   \n",
      "8    AL  35611                  True  2020-02-13  Health Standard   \n",
      "9    AL  36092                  True  2022-01-27  Health Standard   \n",
      "\n",
      "   survey_cycle process_date cutoff_date    year _merge date_diff  \\\n",
      "0           1.0   2024-09-01  2023-03-31  2023.0   both   29 days   \n",
      "1           1.0   2024-09-01  2023-03-31  2022.0   both  356 days   \n",
      "2           1.0   2024-09-01  2023-03-31  2022.0   both  372 days   \n",
      "3           2.0   2024-09-01  2023-03-31  2020.0   both 1135 days   \n",
      "4           1.0   2024-09-01  2023-03-31  2020.0   both 1121 days   \n",
      "5           1.0   2024-09-01  2023-03-31  2022.0   both  351 days   \n",
      "6           1.0   2024-09-01  2023-03-31  2020.0   both 1123 days   \n",
      "7           2.0   2024-09-01  2023-03-31  2022.0   both  436 days   \n",
      "8           1.0   2024-09-01  2023-03-31  2020.0   both 1142 days   \n",
      "9           2.0   2024-09-01  2023-03-31  2022.0   both  428 days   \n",
      "\n",
      "   months_since_survey  months_overdue  overdue_ind  \n",
      "0             0.966667      -14.033333            0  \n",
      "1            11.866667       -3.133333            0  \n",
      "2            12.400000       -2.600000            0  \n",
      "3            37.833333       22.833333            1  \n",
      "4            37.366667       22.366667            1  \n",
      "5            11.700000       -3.300000            0  \n",
      "6            37.433333       22.433333            1  \n",
      "7            14.533333       -0.466667            0  \n",
      "8            38.066667       23.066667            1  \n",
      "9            14.266667       -0.733333            0  \n"
     ]
    }
   ],
   "source": [
    "def NH_months_since_last_standard_survey(df, cutoff_date): \n",
    "    df['cutoff_date'] = pd.to_datetime(cutoff_date)\n",
    "    df['survey_date'] = pd.to_datetime(df['survey_date'])\n",
    "    df['date_diff'] = df['cutoff_date'] - df['survey_date']\n",
    "    df['months_since_survey'] = (df['cutoff_date'] - df['survey_date']).dt.days/30\n",
    "    df['months_overdue'] = ((((df['cutoff_date'] - df['survey_date']).dt.days)/30)-15)\n",
    "\n",
    "    df['overdue_ind'] = np.where(df['months_overdue'].isna()==True, 1, \n",
    "                                (np.where(df['months_overdue']>1, 1, 0)))\n",
    "    \n",
    "\n",
    "    print(df['months_overdue'].describe())\n",
    "    print(df.head(10))\n",
    "    return df\n",
    "    \n",
    "NH_months_since_last_standard_survey = NH_months_since_last_standard_survey(provider_survey_df, '03-31-2023')\n",
    "# NH_months_since_last_standard_survey.to_csv('/Users/ghazalin/NH_inspections_static/OutputData/_033123_NH_months_since_last_standard_survey.csv')\n"
   ]
  },
  {
   "cell_type": "code",
   "execution_count": 145,
   "id": "4d99f337-8723-4e3a-b68d-a3f4372ee894",
   "metadata": {
    "scrolled": true
   },
   "outputs": [
    {
     "name": "stdout",
     "output_type": "stream",
     "text": [
      "   State  overdue_ind  NH_count  prop_overdue\n",
      "11    GU            0         1      0.000000\n",
      "27    MT            0        59      0.000000\n",
      "40    PR            0         6      0.000000\n",
      "41    RI            0        74      0.000000\n",
      "48    VT            0        34      0.000000\n",
      "52    WY            0        35      0.000000\n",
      "50    WI            2       326      0.006135\n",
      "3     AZ            1       142      0.007042\n",
      "19    LA            2       267      0.007491\n",
      "45    TX            9      1185      0.007595\n",
      "39    PA            6       668      0.008982\n",
      "15    IL            7       680      0.010294\n",
      "12    HI            1        42      0.023810\n",
      "31    NH            2        74      0.027027\n",
      "23    MI           12       424      0.028302\n",
      "33    NM            2        68      0.029412\n",
      "51    WV            4       123      0.032520\n",
      "29    ND            3        75      0.040000\n",
      "30    NE            8       184      0.043478\n",
      "13    IA           19       404      0.047030\n",
      "0     AK            1        20      0.050000\n",
      "2     AR           13       220      0.059091\n",
      "43    SD            6        97      0.061856\n",
      "16    IN           41       511      0.080235\n",
      "34    NV            6        67      0.089552\n",
      "10    GA           35       357      0.098039\n",
      "28    NC           42       419      0.100239\n",
      "24    MN           51       343      0.148688\n",
      "49    WA           31       193      0.160622\n",
      "17    KS           54       305      0.177049\n",
      "9     FL          139       696      0.199713\n",
      "22    ME           16        80      0.200000\n",
      "38    OR           28       128      0.218750\n",
      "37    OK           67       287      0.233449\n",
      "20    MA           84       345      0.243478\n",
      "5     CO           53       211      0.251185\n",
      "46    UT           26        98      0.265306\n",
      "7     DC            5        17      0.294118\n",
      "42    SC           58       189      0.306878\n",
      "47    VA          103       290      0.355172\n",
      "36    OH          334       929      0.359526\n",
      "26    MS           76       202      0.376238\n",
      "35    NY          244       603      0.404643\n",
      "25    MO          206       492      0.418699\n",
      "32    NJ          147       346      0.424855\n",
      "8     DE           19        44      0.431818\n",
      "6     CT           84       194      0.432990\n",
      "4     CA          508      1164      0.436426\n",
      "44    TN          165       304      0.542763\n",
      "1     AL          146       224      0.651786\n",
      "14    ID           62        80      0.775000\n",
      "21    MD          176       222      0.792793\n",
      "18    KY          220       269      0.817844\n"
     ]
    }
   ],
   "source": [
    "def prop_overdue_surveys(df): \n",
    "    df['NH_count'] = 1\n",
    "    df_groupby = df.groupby(['State']).agg({'overdue_ind':'sum','NH_count':'sum'}).reset_index()\n",
    "    df_groupby['prop_overdue'] = df_groupby['overdue_ind']/df_groupby['NH_count']\n",
    "    df_groupby = df_groupby.sort_values(by=['prop_overdue'])\n",
    "    print(df_groupby)\n",
    "    return df_groupby\n",
    "    \n",
    "prop_overdue_surveys_apr_2023_df = prop_overdue_surveys(NH_months_since_last_standard_survey)"
   ]
  },
  {
   "cell_type": "code",
   "execution_count": 150,
   "id": "9d2083c4-c616-4bd6-b308-5c116df6bc7e",
   "metadata": {},
   "outputs": [
    {
     "name": "stdout",
     "output_type": "stream",
     "text": [
      "_merge\n",
      "both          50\n",
      "left_only      0\n",
      "right_only     0\n",
      "Name: count, dtype: int64\n"
     ]
    }
   ],
   "source": [
    "# read in surveyor vacancy rate \n",
    "def merge_with_surveyor_vacancy_df(state_df):\n",
    "    vacancy_df = pd.read_csv('/Users/ghazalin/NH_inspections_static/data/state_prop_surveyor_vacancy.csv')\n",
    "    merge_df = pd.merge(vacancy_df, state_df, how='left', left_on='state_code', right_on='State', indicator=True)\n",
    "    print(merge_df['_merge'].value_counts())\n",
    "    merge_df = merge_df.rename(columns={'State_x':'State'})\n",
    "    merge_df = merge_df.drop(columns=['State_y'])\n",
    "    return merge_df \n",
    "\n",
    "vacancy_overdue_df = merge_with_surveyor_vacancy_df(prop_overdue_surveys_apr_2023_df)\n"
   ]
  },
  {
   "cell_type": "code",
   "execution_count": 151,
   "id": "b1514242-4ae8-4aff-a2f9-470b3abf1428",
   "metadata": {},
   "outputs": [
    {
     "name": "stdout",
     "output_type": "stream",
     "text": [
      "Index(['State', 'state_code', '2002_prop_vacancy', '2022_prop_vacancy',\n",
      "       'overdue_ind', 'NH_count', 'prop_overdue', '_merge'],\n",
      "      dtype='object')\n"
     ]
    }
   ],
   "source": [
    "print(vacancy_overdue_df.columns)"
   ]
  },
  {
   "cell_type": "code",
   "execution_count": 199,
   "id": "1af1c163-0df0-489d-a59f-fb2bb72ef0e6",
   "metadata": {},
   "outputs": [
    {
     "data": {
      "text/html": [
       "\n",
       "<style>\n",
       "  #altair-viz-77b66265cb5c47639230ab3080c4d2f8.vega-embed {\n",
       "    width: 100%;\n",
       "    display: flex;\n",
       "  }\n",
       "\n",
       "  #altair-viz-77b66265cb5c47639230ab3080c4d2f8.vega-embed details,\n",
       "  #altair-viz-77b66265cb5c47639230ab3080c4d2f8.vega-embed details summary {\n",
       "    position: relative;\n",
       "  }\n",
       "</style>\n",
       "<div id=\"altair-viz-77b66265cb5c47639230ab3080c4d2f8\"></div>\n",
       "<script type=\"text/javascript\">\n",
       "  var VEGA_DEBUG = (typeof VEGA_DEBUG == \"undefined\") ? {} : VEGA_DEBUG;\n",
       "  (function(spec, embedOpt){\n",
       "    let outputDiv = document.currentScript.previousElementSibling;\n",
       "    if (outputDiv.id !== \"altair-viz-77b66265cb5c47639230ab3080c4d2f8\") {\n",
       "      outputDiv = document.getElementById(\"altair-viz-77b66265cb5c47639230ab3080c4d2f8\");\n",
       "    }\n",
       "    const paths = {\n",
       "      \"vega\": \"https://cdn.jsdelivr.net/npm/vega@5?noext\",\n",
       "      \"vega-lib\": \"https://cdn.jsdelivr.net/npm/vega-lib?noext\",\n",
       "      \"vega-lite\": \"https://cdn.jsdelivr.net/npm/vega-lite@5.20.1?noext\",\n",
       "      \"vega-embed\": \"https://cdn.jsdelivr.net/npm/vega-embed@6?noext\",\n",
       "    };\n",
       "\n",
       "    function maybeLoadScript(lib, version) {\n",
       "      var key = `${lib.replace(\"-\", \"\")}_version`;\n",
       "      return (VEGA_DEBUG[key] == version) ?\n",
       "        Promise.resolve(paths[lib]) :\n",
       "        new Promise(function(resolve, reject) {\n",
       "          var s = document.createElement('script');\n",
       "          document.getElementsByTagName(\"head\")[0].appendChild(s);\n",
       "          s.async = true;\n",
       "          s.onload = () => {\n",
       "            VEGA_DEBUG[key] = version;\n",
       "            return resolve(paths[lib]);\n",
       "          };\n",
       "          s.onerror = () => reject(`Error loading script: ${paths[lib]}`);\n",
       "          s.src = paths[lib];\n",
       "        });\n",
       "    }\n",
       "\n",
       "    function showError(err) {\n",
       "      outputDiv.innerHTML = `<div class=\"error\" style=\"color:red;\">${err}</div>`;\n",
       "      throw err;\n",
       "    }\n",
       "\n",
       "    function displayChart(vegaEmbed) {\n",
       "      vegaEmbed(outputDiv, spec, embedOpt)\n",
       "        .catch(err => showError(`Javascript Error: ${err.message}<br>This usually means there's a typo in your chart specification. See the javascript console for the full traceback.`));\n",
       "    }\n",
       "\n",
       "    if(typeof define === \"function\" && define.amd) {\n",
       "      requirejs.config({paths});\n",
       "      require([\"vega-embed\"], displayChart, err => showError(`Error loading script: ${err.message}`));\n",
       "    } else {\n",
       "      maybeLoadScript(\"vega\", \"5\")\n",
       "        .then(() => maybeLoadScript(\"vega-lite\", \"5.20.1\"))\n",
       "        .then(() => maybeLoadScript(\"vega-embed\", \"6\"))\n",
       "        .catch(showError)\n",
       "        .then(() => displayChart(vegaEmbed));\n",
       "    }\n",
       "  })({\"$schema\": \"https://vega.github.io/schema/vega/v5.json\", \"data\": [{\"name\": \"source_0\", \"values\": [{\"State\": \"Alabama\", \"state_code\": \"AL\", \"2002_prop_vacancy\": \"0.1\", \"2022_prop_vacancy\": 0.8, \"overdue_ind\": 146, \"NH_count\": 224, \"prop_overdue\": 0.6517857142857143, \"_merge\": \"both\"}, {\"State\": \"Alaska\", \"state_code\": \"AK\", \"2002_prop_vacancy\": \"0.22\", \"2022_prop_vacancy\": 0.36, \"overdue_ind\": 1, \"NH_count\": 20, \"prop_overdue\": 0.05, \"_merge\": \"both\"}, {\"State\": \"Arizona\", \"state_code\": \"AZ\", \"2002_prop_vacancy\": \"0.24\", \"2022_prop_vacancy\": 0.4, \"overdue_ind\": 1, \"NH_count\": 142, \"prop_overdue\": 0.007042253521126761, \"_merge\": \"both\"}, {\"State\": \"Arkansas\", \"state_code\": \"AR\", \"2002_prop_vacancy\": \"0.2\", \"2022_prop_vacancy\": 0.47, \"overdue_ind\": 13, \"NH_count\": 220, \"prop_overdue\": 0.05909090909090909, \"_merge\": \"both\"}, {\"State\": \"California\", \"state_code\": \"CA\", \"2002_prop_vacancy\": \"0.06\", \"2022_prop_vacancy\": 0.14, \"overdue_ind\": 508, \"NH_count\": 1164, \"prop_overdue\": 0.436426116838488, \"_merge\": \"both\"}, {\"State\": \"Colorado\", \"state_code\": \"CO\", \"2002_prop_vacancy\": \"0.17\", \"2022_prop_vacancy\": 0.27, \"overdue_ind\": 53, \"NH_count\": 211, \"prop_overdue\": 0.25118483412322273, \"_merge\": \"both\"}, {\"State\": \"Connecticut\", \"state_code\": \"CT\", \"2002_prop_vacancy\": \"0.01\", \"2022_prop_vacancy\": 0.32, \"overdue_ind\": 84, \"NH_count\": 194, \"prop_overdue\": 0.4329896907216495, \"_merge\": \"both\"}, {\"State\": \"Delaware\", \"state_code\": \"DE\", \"2002_prop_vacancy\": \"--\", \"2022_prop_vacancy\": 0.38, \"overdue_ind\": 19, \"NH_count\": 44, \"prop_overdue\": 0.4318181818181818, \"_merge\": \"both\"}, {\"State\": \"Florida\", \"state_code\": \"FL\", \"2002_prop_vacancy\": \"0.08\", \"2022_prop_vacancy\": 0.25, \"overdue_ind\": 139, \"NH_count\": 696, \"prop_overdue\": 0.1997126436781609, \"_merge\": \"both\"}, {\"State\": \"Georgia\", \"state_code\": \"GA\", \"2002_prop_vacancy\": \"0.14\", \"2022_prop_vacancy\": 0.45, \"overdue_ind\": 35, \"NH_count\": 357, \"prop_overdue\": 0.09803921568627451, \"_merge\": \"both\"}, {\"State\": \"Hawai\\u2019i\", \"state_code\": \"HI\", \"2002_prop_vacancy\": \"0.17\", \"2022_prop_vacancy\": 0.5, \"overdue_ind\": 1, \"NH_count\": 42, \"prop_overdue\": 0.023809523809523808, \"_merge\": \"both\"}, {\"State\": \"Idaho\", \"state_code\": \"ID\", \"2002_prop_vacancy\": \"0\", \"2022_prop_vacancy\": 0.71, \"overdue_ind\": 62, \"NH_count\": 80, \"prop_overdue\": 0.775, \"_merge\": \"both\"}, {\"State\": \"Illinois\", \"state_code\": \"IL\", \"2002_prop_vacancy\": \"0.05\", \"2022_prop_vacancy\": 0.22, \"overdue_ind\": 7, \"NH_count\": 680, \"prop_overdue\": 0.010294117647058823, \"_merge\": \"both\"}, {\"State\": \"Indiana\", \"state_code\": \"IN\", \"2002_prop_vacancy\": \"0.18\", \"2022_prop_vacancy\": 0.01, \"overdue_ind\": 41, \"NH_count\": 511, \"prop_overdue\": 0.08023483365949119, \"_merge\": \"both\"}, {\"State\": \"Iowa\", \"state_code\": \"IA\", \"2002_prop_vacancy\": \"0\", \"2022_prop_vacancy\": 0.09, \"overdue_ind\": 19, \"NH_count\": 404, \"prop_overdue\": 0.04702970297029703, \"_merge\": \"both\"}, {\"State\": \"Kansas\", \"state_code\": \"KS\", \"2002_prop_vacancy\": \"0.04\", \"2022_prop_vacancy\": 0.51, \"overdue_ind\": 54, \"NH_count\": 305, \"prop_overdue\": 0.17704918032786884, \"_merge\": \"both\"}, {\"State\": \"Kentucky\", \"state_code\": \"KY\", \"2002_prop_vacancy\": \"0.17\", \"2022_prop_vacancy\": 0.83, \"overdue_ind\": 220, \"NH_count\": 269, \"prop_overdue\": 0.8178438661710037, \"_merge\": \"both\"}, {\"State\": \"Louisiana\", \"state_code\": \"LA\", \"2002_prop_vacancy\": \"0.06\", \"2022_prop_vacancy\": 0.04, \"overdue_ind\": 2, \"NH_count\": 267, \"prop_overdue\": 0.00749063670411985, \"_merge\": \"both\"}, {\"State\": \"Maine\", \"state_code\": \"ME\", \"2002_prop_vacancy\": \"0.09\", \"2022_prop_vacancy\": 0.2, \"overdue_ind\": 16, \"NH_count\": 80, \"prop_overdue\": 0.2, \"_merge\": \"both\"}, {\"State\": \"Maryland\", \"state_code\": \"MD\", \"2002_prop_vacancy\": \"0.09\", \"2022_prop_vacancy\": 0.14, \"overdue_ind\": 176, \"NH_count\": 222, \"prop_overdue\": 0.7927927927927928, \"_merge\": \"both\"}, {\"State\": \"Massachusetts\", \"state_code\": \"MA\", \"2002_prop_vacancy\": \"0.14\", \"2022_prop_vacancy\": 0.04, \"overdue_ind\": 84, \"NH_count\": 345, \"prop_overdue\": 0.24347826086956523, \"_merge\": \"both\"}, {\"State\": \"Michigan\", \"state_code\": \"MI\", \"2002_prop_vacancy\": \"0.05\", \"2022_prop_vacancy\": 0.12, \"overdue_ind\": 12, \"NH_count\": 424, \"prop_overdue\": 0.02830188679245283, \"_merge\": \"both\"}, {\"State\": \"Minnesota\", \"state_code\": \"MN\", \"2002_prop_vacancy\": \"0.17\", \"2022_prop_vacancy\": 0.22, \"overdue_ind\": 51, \"NH_count\": 343, \"prop_overdue\": 0.14868804664723032, \"_merge\": \"both\"}, {\"State\": \"Mississippi\", \"state_code\": \"MS\", \"2002_prop_vacancy\": \"--\", \"2022_prop_vacancy\": 0.54, \"overdue_ind\": 76, \"NH_count\": 202, \"prop_overdue\": 0.37623762376237624, \"_merge\": \"both\"}, {\"State\": \"Missouri\", \"state_code\": \"MO\", \"2002_prop_vacancy\": \"0.11\", \"2022_prop_vacancy\": 0.12, \"overdue_ind\": 206, \"NH_count\": 492, \"prop_overdue\": 0.4186991869918699, \"_merge\": \"both\"}, {\"State\": \"Montana\", \"state_code\": \"MT\", \"2002_prop_vacancy\": \"--\", \"2022_prop_vacancy\": 0.23, \"overdue_ind\": 0, \"NH_count\": 59, \"prop_overdue\": 0.0, \"_merge\": \"both\"}, {\"State\": \"Nebraska\", \"state_code\": \"NE\", \"2002_prop_vacancy\": \"0.06\", \"2022_prop_vacancy\": 0.24, \"overdue_ind\": 8, \"NH_count\": 184, \"prop_overdue\": 0.043478260869565216, \"_merge\": \"both\"}, {\"State\": \"Nevada\", \"state_code\": \"NV\", \"2002_prop_vacancy\": \"--\", \"2022_prop_vacancy\": 0.42, \"overdue_ind\": 6, \"NH_count\": 67, \"prop_overdue\": 0.08955223880597014, \"_merge\": \"both\"}, {\"State\": \"New Hampshire\", \"state_code\": \"NH\", \"2002_prop_vacancy\": \"0.12\", \"2022_prop_vacancy\": 0.16, \"overdue_ind\": 2, \"NH_count\": 74, \"prop_overdue\": 0.02702702702702703, \"_merge\": \"both\"}, {\"State\": \"New Jersey\", \"state_code\": \"NJ\", \"2002_prop_vacancy\": \"0.23\", \"2022_prop_vacancy\": 0.53, \"overdue_ind\": 147, \"NH_count\": 346, \"prop_overdue\": 0.42485549132947975, \"_merge\": \"both\"}, {\"State\": \"New Mexico\", \"state_code\": \"NM\", \"2002_prop_vacancy\": \"0.34\", \"2022_prop_vacancy\": 0.19, \"overdue_ind\": 2, \"NH_count\": 68, \"prop_overdue\": 0.029411764705882353, \"_merge\": \"both\"}, {\"State\": \"New York\", \"state_code\": \"NY\", \"2002_prop_vacancy\": \"0.04\", \"2022_prop_vacancy\": 0.59, \"overdue_ind\": 244, \"NH_count\": 603, \"prop_overdue\": 0.4046434494195688, \"_merge\": \"both\"}, {\"State\": \"North Carolina\", \"state_code\": \"NC\", \"2002_prop_vacancy\": \"0.18\", \"2022_prop_vacancy\": 0.2, \"overdue_ind\": 42, \"NH_count\": 419, \"prop_overdue\": 0.10023866348448687, \"_merge\": \"both\"}, {\"State\": \"North Dakota\", \"state_code\": \"ND\", \"2002_prop_vacancy\": \"--\", \"2022_prop_vacancy\": 0.0, \"overdue_ind\": 3, \"NH_count\": 75, \"prop_overdue\": 0.04, \"_merge\": \"both\"}, {\"State\": \"Ohio\", \"state_code\": \"OH\", \"2002_prop_vacancy\": \"0.05\", \"2022_prop_vacancy\": 0.25, \"overdue_ind\": 334, \"NH_count\": 929, \"prop_overdue\": 0.3595263724434876, \"_merge\": \"both\"}, {\"State\": \"Oklahoma\", \"state_code\": \"OK\", \"2002_prop_vacancy\": \"0.04\", \"2022_prop_vacancy\": 0.45, \"overdue_ind\": 67, \"NH_count\": 287, \"prop_overdue\": 0.23344947735191637, \"_merge\": \"both\"}, {\"State\": \"Oregon\", \"state_code\": \"OR\", \"2002_prop_vacancy\": \"0.12\", \"2022_prop_vacancy\": 0.23, \"overdue_ind\": 28, \"NH_count\": 128, \"prop_overdue\": 0.21875, \"_merge\": \"both\"}, {\"State\": \"Pennsylvania\", \"state_code\": \"PA\", \"2002_prop_vacancy\": \"0.07\", \"2022_prop_vacancy\": 0.13, \"overdue_ind\": 6, \"NH_count\": 668, \"prop_overdue\": 0.008982035928143712, \"_merge\": \"both\"}, {\"State\": \"Rhode Island\", \"state_code\": \"RI\", \"2002_prop_vacancy\": \"0.13\", \"2022_prop_vacancy\": 0.07, \"overdue_ind\": 0, \"NH_count\": 74, \"prop_overdue\": 0.0, \"_merge\": \"both\"}, {\"State\": \"South Carolina\", \"state_code\": \"SC\", \"2002_prop_vacancy\": \"--\", \"2022_prop_vacancy\": 0.58, \"overdue_ind\": 58, \"NH_count\": 189, \"prop_overdue\": 0.30687830687830686, \"_merge\": \"both\"}, {\"State\": \"South Dakota\", \"state_code\": \"SD\", \"2002_prop_vacancy\": \"0\", \"2022_prop_vacancy\": 0.17, \"overdue_ind\": 6, \"NH_count\": 97, \"prop_overdue\": 0.061855670103092786, \"_merge\": \"both\"}, {\"State\": \"Tennessee\", \"state_code\": \"TN\", \"2002_prop_vacancy\": \"0.18\", \"2022_prop_vacancy\": 0.19, \"overdue_ind\": 165, \"NH_count\": 304, \"prop_overdue\": 0.5427631578947368, \"_merge\": \"both\"}, {\"State\": \"Texas\", \"state_code\": \"TX\", \"2002_prop_vacancy\": \"0.2\", \"2022_prop_vacancy\": 0.13, \"overdue_ind\": 9, \"NH_count\": 1185, \"prop_overdue\": 0.007594936708860759, \"_merge\": \"both\"}, {\"State\": \"Utah\", \"state_code\": \"UT\", \"2002_prop_vacancy\": \"0.08\", \"2022_prop_vacancy\": 0.25, \"overdue_ind\": 26, \"NH_count\": 98, \"prop_overdue\": 0.2653061224489796, \"_merge\": \"both\"}, {\"State\": \"Vermont\", \"state_code\": \"VT\", \"2002_prop_vacancy\": \"--\", \"2022_prop_vacancy\": 0.06, \"overdue_ind\": 0, \"NH_count\": 34, \"prop_overdue\": 0.0, \"_merge\": \"both\"}, {\"State\": \"Virginia\", \"state_code\": \"VA\", \"2002_prop_vacancy\": \"0.05\", \"2022_prop_vacancy\": 0.31, \"overdue_ind\": 103, \"NH_count\": 290, \"prop_overdue\": 0.35517241379310344, \"_merge\": \"both\"}, {\"State\": \"Washington\", \"state_code\": \"WA\", \"2002_prop_vacancy\": \"0\", \"2022_prop_vacancy\": 0.08, \"overdue_ind\": 31, \"NH_count\": 193, \"prop_overdue\": 0.16062176165803108, \"_merge\": \"both\"}, {\"State\": \"West Virginia\", \"state_code\": \"WV\", \"2002_prop_vacancy\": \"--\", \"2022_prop_vacancy\": 0.42, \"overdue_ind\": 4, \"NH_count\": 123, \"prop_overdue\": 0.032520325203252036, \"_merge\": \"both\"}, {\"State\": \"Wisconsin\", \"state_code\": \"WI\", \"2002_prop_vacancy\": \"0.15\", \"2022_prop_vacancy\": 0.14, \"overdue_ind\": 2, \"NH_count\": 326, \"prop_overdue\": 0.006134969325153374, \"_merge\": \"both\"}, {\"State\": \"Wyoming\", \"state_code\": \"WY\", \"2002_prop_vacancy\": \"--\", \"2022_prop_vacancy\": 0.22, \"overdue_ind\": 0, \"NH_count\": 35, \"prop_overdue\": 0.0, \"_merge\": \"both\"}]}, {\"name\": \"data_0\", \"values\": [{\"2022_prop_vacancy\": 0.8, \"prop_overdue\": 0.6517857142857143}, {\"2022_prop_vacancy\": 0.36, \"prop_overdue\": 0.05}, {\"2022_prop_vacancy\": 0.4, \"prop_overdue\": 0.007042253521126761}, {\"2022_prop_vacancy\": 0.47, \"prop_overdue\": 0.05909090909090909}, {\"2022_prop_vacancy\": 0.14, \"prop_overdue\": 0.436426116838488}, {\"2022_prop_vacancy\": 0.27, \"prop_overdue\": 0.25118483412322273}, {\"2022_prop_vacancy\": 0.32, \"prop_overdue\": 0.4329896907216495}, {\"2022_prop_vacancy\": 0.38, \"prop_overdue\": 0.4318181818181818}, {\"2022_prop_vacancy\": 0.25, \"prop_overdue\": 0.1997126436781609}, {\"2022_prop_vacancy\": 0.45, \"prop_overdue\": 0.09803921568627451}, {\"2022_prop_vacancy\": 0.5, \"prop_overdue\": 0.023809523809523808}, {\"2022_prop_vacancy\": 0.71, \"prop_overdue\": 0.775}, {\"2022_prop_vacancy\": 0.22, \"prop_overdue\": 0.010294117647058823}, {\"2022_prop_vacancy\": 0.01, \"prop_overdue\": 0.08023483365949119}, {\"2022_prop_vacancy\": 0.09, \"prop_overdue\": 0.04702970297029703}, {\"2022_prop_vacancy\": 0.51, \"prop_overdue\": 0.17704918032786884}, {\"2022_prop_vacancy\": 0.83, \"prop_overdue\": 0.8178438661710037}, {\"2022_prop_vacancy\": 0.04, \"prop_overdue\": 0.00749063670411985}, {\"2022_prop_vacancy\": 0.2, \"prop_overdue\": 0.2}, {\"2022_prop_vacancy\": 0.14, \"prop_overdue\": 0.7927927927927928}, {\"2022_prop_vacancy\": 0.04, \"prop_overdue\": 0.24347826086956523}, {\"2022_prop_vacancy\": 0.12, \"prop_overdue\": 0.02830188679245283}, {\"2022_prop_vacancy\": 0.22, \"prop_overdue\": 0.14868804664723032}, {\"2022_prop_vacancy\": 0.54, \"prop_overdue\": 0.37623762376237624}, {\"2022_prop_vacancy\": 0.12, \"prop_overdue\": 0.4186991869918699}, {\"2022_prop_vacancy\": 0.23, \"prop_overdue\": 0.0}, {\"2022_prop_vacancy\": 0.24, \"prop_overdue\": 0.043478260869565216}, {\"2022_prop_vacancy\": 0.42, \"prop_overdue\": 0.08955223880597014}, {\"2022_prop_vacancy\": 0.16, \"prop_overdue\": 0.02702702702702703}, {\"2022_prop_vacancy\": 0.53, \"prop_overdue\": 0.42485549132947975}, {\"2022_prop_vacancy\": 0.19, \"prop_overdue\": 0.029411764705882353}, {\"2022_prop_vacancy\": 0.59, \"prop_overdue\": 0.4046434494195688}, {\"2022_prop_vacancy\": 0.2, \"prop_overdue\": 0.10023866348448687}, {\"2022_prop_vacancy\": 0.0, \"prop_overdue\": 0.04}, {\"2022_prop_vacancy\": 0.25, \"prop_overdue\": 0.3595263724434876}, {\"2022_prop_vacancy\": 0.45, \"prop_overdue\": 0.23344947735191637}, {\"2022_prop_vacancy\": 0.23, \"prop_overdue\": 0.21875}, {\"2022_prop_vacancy\": 0.13, \"prop_overdue\": 0.008982035928143712}, {\"2022_prop_vacancy\": 0.07, \"prop_overdue\": 0.0}, {\"2022_prop_vacancy\": 0.58, \"prop_overdue\": 0.30687830687830686}, {\"2022_prop_vacancy\": 0.17, \"prop_overdue\": 0.061855670103092786}, {\"2022_prop_vacancy\": 0.19, \"prop_overdue\": 0.5427631578947368}, {\"2022_prop_vacancy\": 0.13, \"prop_overdue\": 0.007594936708860759}, {\"2022_prop_vacancy\": 0.25, \"prop_overdue\": 0.2653061224489796}, {\"2022_prop_vacancy\": 0.06, \"prop_overdue\": 0.0}, {\"2022_prop_vacancy\": 0.31, \"prop_overdue\": 0.35517241379310344}, {\"2022_prop_vacancy\": 0.08, \"prop_overdue\": 0.16062176165803108}, {\"2022_prop_vacancy\": 0.42, \"prop_overdue\": 0.032520325203252036}, {\"2022_prop_vacancy\": 0.14, \"prop_overdue\": 0.006134969325153374}, {\"2022_prop_vacancy\": 0.22, \"prop_overdue\": 0.0}]}, {\"name\": \"data_1\", \"source\": \"source_0\", \"transform\": [{\"type\": \"regression\", \"y\": \"prop_overdue\", \"x\": \"2022_prop_vacancy\", \"as\": [\"2022_prop_vacancy\", \"prop_overdue\"]}, {\"type\": \"project\", \"fields\": [\"2022_prop_vacancy\", \"prop_overdue\"]}]}], \"marks\": [{\"type\": \"symbol\", \"name\": \"layer_0_marks\", \"from\": {\"data\": \"data_0\"}, \"encode\": {\"update\": {\"x\": {\"field\": \"2022_prop_vacancy\", \"scale\": \"x\"}, \"fill\": {\"value\": \"#74372F\"}, \"shape\": {\"value\": \"circle\"}, \"y\": {\"field\": \"prop_overdue\", \"scale\": \"y\"}, \"opacity\": {\"value\": 0.7}}}, \"style\": [\"circle\"]}, {\"type\": \"line\", \"name\": \"layer_1_marks\", \"from\": {\"data\": \"data_1\"}, \"sort\": {\"field\": \"x\"}, \"encode\": {\"update\": {\"strokeWidth\": {\"value\": 2}, \"y\": {\"field\": \"prop_overdue\", \"scale\": \"y\"}, \"stroke\": {\"value\": \"#74372F\"}, \"x\": {\"field\": \"2022_prop_vacancy\", \"scale\": \"x\"}, \"defined\": {\"signal\": \"isValid(datum[\\\"2022_prop_vacancy\\\"]) && isFinite(+datum[\\\"2022_prop_vacancy\\\"]) && isValid(datum[\\\"prop_overdue\\\"]) && isFinite(+datum[\\\"prop_overdue\\\"])\"}}}, \"style\": [\"line\"]}], \"scales\": [{\"name\": \"x\", \"type\": \"linear\", \"domain\": {\"fields\": [{\"data\": \"data_0\", \"field\": \"2022_prop_vacancy\"}, {\"data\": \"data_1\", \"field\": \"2022_prop_vacancy\"}]}, \"range\": [0, {\"signal\": \"width\"}], \"nice\": true, \"zero\": true}, {\"name\": \"y\", \"type\": \"linear\", \"domain\": {\"fields\": [{\"data\": \"data_0\", \"field\": \"prop_overdue\"}, {\"data\": \"data_1\", \"field\": \"prop_overdue\"}]}, \"range\": [{\"signal\": \"height\"}, 0], \"zero\": true, \"nice\": true}], \"axes\": [{\"scale\": \"x\", \"tickCount\": {\"signal\": \"ceil(width/40)\"}, \"grid\": true, \"zindex\": 0, \"maxExtent\": 0, \"orient\": \"bottom\", \"minExtent\": 0, \"labels\": false, \"gridScale\": \"y\", \"ticks\": false, \"aria\": false, \"domain\": false}, {\"scale\": \"y\", \"orient\": \"left\", \"domain\": false, \"grid\": true, \"zindex\": 0, \"labels\": false, \"gridScale\": \"x\", \"maxExtent\": 0, \"minExtent\": 0, \"ticks\": false, \"aria\": false, \"tickCount\": {\"signal\": \"ceil(height/40)\"}}, {\"scale\": \"x\", \"format\": \"%\", \"zindex\": 0, \"labelOverlap\": true, \"tickCount\": {\"signal\": \"ceil(width/40)\"}, \"orient\": \"bottom\", \"grid\": false, \"title\": \"2022 State Surveyor Vacancy Rates\", \"labelFlush\": true}, {\"scale\": \"y\", \"grid\": false, \"title\": \"State Overdue Survey Rate as of April 1, 2023\", \"labelOverlap\": true, \"tickCount\": {\"signal\": \"ceil(height/40)\"}, \"orient\": \"left\", \"zindex\": 0, \"format\": \"%\"}], \"title\": {\"text\": \"Surveyor Vacancy Rates by Overdue Survey Rates\", \"fontSize\": 15, \"anchor\": \"start\", \"offset\": 20}, \"usermeta\": {\"embedOptions\": {\"theme\": \"fivethirtyeight\"}}, \"config\": {\"group\": {\"fill\": \"#f0f0f0\"}, \"path\": {\"stroke\": \"#30a2da\", \"strokeWidth\": 0.5}, \"range\": {\"category\": [\"#30a2da\", \"#fc4f30\", \"#e5ae38\", \"#6d904f\", \"#8b8b8b\", \"#b96db8\", \"#ff9e27\", \"#56cc60\", \"#52d2ca\", \"#52689e\", \"#545454\", \"#9fe4f8\"], \"diverging\": [\"#cc0020\", \"#e77866\", \"#f6e7e1\", \"#d6e8ed\", \"#91bfd9\", \"#1d78b5\"], \"heatmap\": [\"#d6e8ed\", \"#cee0e5\", \"#91bfd9\", \"#549cc6\", \"#1d78b5\"]}, \"shape\": {\"stroke\": \"#30a2da\"}, \"axis\": {\"domainColor\": \"#cbcbcb\", \"grid\": true, \"gridColor\": \"#cbcbcb\", \"gridWidth\": 1, \"labelColor\": \"#999\", \"labelFontSize\": 10, \"titleColor\": \"#333\", \"tickColor\": \"#cbcbcb\", \"tickSize\": 10, \"titleFontSize\": 14, \"titlePadding\": 10, \"labelPadding\": 4}, \"axisBand\": {\"grid\": false}, \"legend\": {\"labelColor\": \"#333\", \"labelFontSize\": 11, \"padding\": 1, \"symbolSize\": 30, \"symbolType\": \"square\", \"titleColor\": \"#333\", \"titleFontSize\": 14, \"titlePadding\": 10}, \"style\": {\"arc\": {\"fill\": \"#30a2da\"}, \"area\": {\"fill\": \"#30a2da\"}, \"bar\": {\"fill\": \"#30a2da\", \"stroke\": null}, \"line\": {\"stroke\": \"#30a2da\", \"strokeWidth\": 2}, \"point\": {\"shape\": \"circle\"}, \"rect\": {\"fill\": \"#30a2da\"}, \"group-title\": {\"fontSize\": 24, \"fontWeight\": 600}}}, \"style\": \"cell\", \"height\": 300, \"background\": \"white\", \"padding\": 5, \"width\": 300}, {\"mode\": \"vega\"});\n",
       "</script>"
      ],
      "text/plain": [
       "alt.LayerChart(...)"
      ]
     },
     "metadata": {},
     "output_type": "display_data"
    }
   ],
   "source": [
    "vacancy_overdue_chart = alt.Chart(vacancy_overdue_df).mark_circle(color='#74372F').encode(alt.X('2022_prop_vacancy', title='2022 State Surveyor Vacancy Rates', axis=alt.Axis(format='%')), \n",
    "                                                                          alt.Y('prop_overdue',title='State Overdue Survey Rate as of April 1, 2023', axis=alt.Axis(format='%')\n",
    "                                                                               ))\n",
    "# state_labels = vacancy_overdue_chart.mark_text(fontSize=7).encode(text='state_code')\n",
    "vacancy_overdue_chart = vacancy_overdue_chart + vacancy_overdue_chart.transform_regression('2022_prop_vacancy','prop_overdue').mark_line(color='#74372F')\n",
    "vacancy_overdue_chart = vacancy_overdue_chart.properties(background='white', title=alt.TitleParams(text='Surveyor Vacancy Rates by Overdue Survey Rates', fontSize=15))\n",
    "vacancy_overdue_chart.save('/Users/ghazalin/NH_inspections_static/images/surveyor_vacancy_by_overdue_survey_scatter.svg')\n",
    "display(vacancy_overdue_chart)\n"
   ]
  },
  {
   "cell_type": "code",
   "execution_count": null,
   "id": "e076e969-046f-4e03-890c-063df105b6c5",
   "metadata": {},
   "outputs": [],
   "source": []
  }
 ],
 "metadata": {
  "kernelspec": {
   "display_name": "Python 3 (ipykernel)",
   "language": "python",
   "name": "python3"
  },
  "language_info": {
   "codemirror_mode": {
    "name": "ipython",
    "version": 3
   },
   "file_extension": ".py",
   "mimetype": "text/x-python",
   "name": "python",
   "nbconvert_exporter": "python",
   "pygments_lexer": "ipython3",
   "version": "3.12.7"
  }
 },
 "nbformat": 4,
 "nbformat_minor": 5
}
